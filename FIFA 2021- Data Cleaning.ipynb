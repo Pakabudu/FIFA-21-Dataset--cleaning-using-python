{
  "metadata": {
    "language_info": {
      "codemirror_mode": {
        "name": "python",
        "version": 3
      },
      "file_extension": ".py",
      "mimetype": "text/x-python",
      "name": "python",
      "nbconvert_exporter": "python",
      "pygments_lexer": "ipython3",
      "version": "3.8"
    },
    "kernelspec": {
      "name": "python",
      "display_name": "Python (Pyodide)",
      "language": "python"
    }
  },
  "nbformat_minor": 4,
  "nbformat": 4,
  "cells": [
    {
      "cell_type": "markdown",
      "source": "# FIFA 2021 DATASET DATA CLEANING",
      "metadata": {}
    },
    {
      "cell_type": "markdown",
      "source": "## DATA DICTIONARY \n\n\n1. **ID**: Unique identification number for each player\n2. **Name**: Player's name\n3. **LongName**: Player's full name\n4. **photoUrl**: URL to the player's photo\n5. **playerUrl**: URL to the player's profile page\n6. **Nationality**: Player's nationality\n7. __Age__: Player's age\n8. **OVA**: Overall rating of the player in the game\n9. **POT**: Potential rating of the player in the game\n10. **Club**: Current club of the player\n11. **Contract**: Player's contract details (e.g., length)\n12. **Positions**: Player's preferred positions in the game\n13. **Height**: Player's height\n14. **Weight**: Player's weight\n15. **Preferred Foot**: Player's preferred foot for playing\n16. **BOV**: Best overall rating of the player in the game\n17. **Best Position**: Player's best position in the game\n18. **Joined**: Date when the player joined the current club\n19. **Loan Date End**: End date of the player's loan (if applicable)\n20. **Value**: Estimated market value of the player\n21. **Wage**: Player's weekly wage\n22. **Release Clause**: Amount of money required to release the player from their contract\n23. **Attacking**: Various attacking attributes of the player, including Crossing, Finishing, Heading Accuracy, Short Passing, Volleys\n24. **Skill**: Various skill attributes of the player, including Dribbling, Curve, FK Accuracy, Long Passing, Ball Control\n25. **Movement**: Various movement attributes of the player, including Acceleration, Sprint Speed, Agility, Reactions, Balance\n26. **Power**: Various power attributes of the player, including Shot Power, Jumping, Stamina, Strength, Long Shots\n27. **Mentality**: Various mentality attributes of the player, including Aggression, Interceptions, Positioning, Vision, Penalties, Composure\n28. **Defending**: Various defending attributes of the player, including Marking, Standing Tackle, Sliding Tackle\n29. **Goalkeeping**: Various goalkeeping attributes of the player, including GK Diving, GK Handling, GK Kicking, GK Positioning, GK Reflexes\n30. **Total Stats**: Total number of attributes in the game\n31. **Base Stats**: Total number of attributes that are not influenced by the player's position\n32. **W/F**: Player's weak foot rating\n33. **SM**: Player's skill moves rating\n34. **A/W**: Player's attacking work rate\n35. **D/W**: Player's defensive work rate\n36. **IR**: Player's international reputation rating\n37. **HITS**: Number of times the player has been searched for in the game\n    ",
      "metadata": {}
    },
    {
      "cell_type": "markdown",
      "source": "## IMPORTING THE LIBRARIES NEEDED FOR THE DATA CLEANING",
      "metadata": {}
    },
    {
      "cell_type": "code",
      "source": "import pandas as pd\nimport numpy as np\n\npd.set_option('display.max_columns', None)",
      "metadata": {
        "trusted": true
      },
      "execution_count": 2,
      "outputs": []
    },
    {
      "cell_type": "markdown",
      "source": "## LOAD THE DATASET INTO THE PANDAS DATAFRAME",
      "metadata": {}
    },
    {
      "cell_type": "code",
      "source": "df = pd.read_csv('fifa21 raw data v2.csv', low_memory = False)",
      "metadata": {
        "trusted": true
      },
      "execution_count": 3,
      "outputs": []
    },
    {
      "cell_type": "markdown",
      "source": "## DISPLAY THE FIRST FEW ROWS ",
      "metadata": {}
    },
    {
      "cell_type": "code",
      "source": "df.head()",
      "metadata": {
        "trusted": true
      },
      "execution_count": 4,
      "outputs": [
        {
          "execution_count": 4,
          "output_type": "execute_result",
          "data": {
            "text/plain": "       ID               Name                      LongName  \\\n0  158023           L. Messi                  Lionel Messi   \n1   20801  Cristiano Ronaldo  C. Ronaldo dos Santos Aveiro   \n2  200389           J. Oblak                     Jan Oblak   \n3  192985       K. De Bruyne               Kevin De Bruyne   \n4  190871          Neymar Jr    Neymar da Silva Santos Jr.   \n\n                                           photoUrl  \\\n0  https://cdn.sofifa.com/players/158/023/21_60.png   \n1  https://cdn.sofifa.com/players/020/801/21_60.png   \n2  https://cdn.sofifa.com/players/200/389/21_60.png   \n3  https://cdn.sofifa.com/players/192/985/21_60.png   \n4  https://cdn.sofifa.com/players/190/871/21_60.png   \n\n                                           playerUrl Nationality  Age  ↓OVA  \\\n0  http://sofifa.com/player/158023/lionel-messi/2...   Argentina   33    93   \n1  http://sofifa.com/player/20801/c-ronaldo-dos-s...    Portugal   35    92   \n2  http://sofifa.com/player/200389/jan-oblak/210006/    Slovenia   27    91   \n3  http://sofifa.com/player/192985/kevin-de-bruyn...     Belgium   29    91   \n4  http://sofifa.com/player/190871/neymar-da-silv...      Brazil   28    91   \n\n   POT                         Club     Contract   Positions Height Weight  \\\n0   93         \\n\\n\\n\\nFC Barcelona  2004 ~ 2021  RW, ST, CF  170cm   72kg   \n1   92             \\n\\n\\n\\nJuventus  2018 ~ 2022      ST, LW  187cm   83kg   \n2   93      \\n\\n\\n\\nAtlético Madrid  2014 ~ 2023          GK  188cm   87kg   \n3   91      \\n\\n\\n\\nManchester City  2015 ~ 2023     CAM, CM  181cm   70kg   \n4   91  \\n\\n\\n\\nParis Saint-Germain  2017 ~ 2022     LW, CAM  175cm   68kg   \n\n  Preferred Foot  BOV Best Position        Joined Loan Date End    Value  \\\n0           Left   93            RW   Jul 1, 2004           NaN  €103.5M   \n1          Right   92            ST  Jul 10, 2018           NaN     €63M   \n2          Right   91            GK  Jul 16, 2014           NaN    €120M   \n3          Right   91           CAM  Aug 30, 2015           NaN    €129M   \n4          Right   91            LW   Aug 3, 2017           NaN    €132M   \n\n    Wage Release Clause  Attacking  Crossing  Finishing  Heading Accuracy  \\\n0  €560K        €138.4M        429        85         95                70   \n1  €220K         €75.9M        437        84         95                90   \n2  €125K        €159.4M         95        13         11                15   \n3  €370K          €161M        407        94         82                55   \n4  €270K        €166.5M        408        85         87                62   \n\n   Short Passing  Volleys  Skill  Dribbling  Curve  FK Accuracy  Long Passing  \\\n0             91       88    470         96     93           94            91   \n1             82       86    414         88     81           76            77   \n2             43       13    109         12     13           14            40   \n3             94       82    441         88     85           83            93   \n4             87       87    448         95     88           89            81   \n\n   Ball Control  Movement  Acceleration  Sprint Speed  Agility  Reactions  \\\n0            96       451            91            80       91         94   \n1            92       431            87            91       87         95   \n2            30       307            43            60       67         88   \n3            92       398            77            76       78         91   \n4            95       453            94            89       96         91   \n\n   Balance  Power  Shot Power  Jumping  Stamina  Strength  Long Shots  \\\n0       95    389          86       68       72        69          94   \n1       71    444          94       95       84        78          93   \n2       49    268          59       78       41        78          12   \n3       76    408          91       63       89        74          91   \n4       83    357          80       62       81        50          84   \n\n   Mentality  Aggression  Interceptions  Positioning  Vision  Penalties  \\\n0        347          44             40           93      95         75   \n1        353          63             29           95      82         84   \n2        140          34             19           11      65         11   \n3        408          76             66           88      94         84   \n4        356          51             36           87      90         92   \n\n   Composure  Defending  Marking  Standing Tackle  Sliding Tackle  \\\n0         96         91       32               35              24   \n1         95         84       28               32              24   \n2         68         57       27               12              18   \n3         91        186       68               65              53   \n4         93         94       35               30              29   \n\n   Goalkeeping  GK Diving  GK Handling  GK Kicking  GK Positioning  \\\n0           54          6           11          15              14   \n1           58          7           11          15              14   \n2          437         87           92          78              90   \n3           56         15           13           5              10   \n4           59          9            9          15              15   \n\n   GK Reflexes  Total Stats  Base Stats  W/F  SM     A/W     D/W   IR  PAC  \\\n0            8         2231         466  4 ★  4★  Medium     Low  5 ★   85   \n1           11         2221         464  4 ★  5★    High     Low  5 ★   89   \n2           90         1413         489  3 ★  1★  Medium  Medium  3 ★   87   \n3           13         2304         485  5 ★  4★    High    High  4 ★   76   \n4           11         2175         451  5 ★  5★    High  Medium  5 ★   91   \n\n   SHO  PAS  DRI  DEF  PHY Hits  \n0   92   91   95   38   65  771  \n1   93   81   89   35   77  562  \n2   92   78   90   52   90  150  \n3   86   93   88   64   78  207  \n4   85   86   94   36   59  595  ",
            "text/html": "<div>\n<style scoped>\n    .dataframe tbody tr th:only-of-type {\n        vertical-align: middle;\n    }\n\n    .dataframe tbody tr th {\n        vertical-align: top;\n    }\n\n    .dataframe thead th {\n        text-align: right;\n    }\n</style>\n<table border=\"1\" class=\"dataframe\">\n  <thead>\n    <tr style=\"text-align: right;\">\n      <th></th>\n      <th>ID</th>\n      <th>Name</th>\n      <th>LongName</th>\n      <th>photoUrl</th>\n      <th>playerUrl</th>\n      <th>Nationality</th>\n      <th>Age</th>\n      <th>↓OVA</th>\n      <th>POT</th>\n      <th>Club</th>\n      <th>Contract</th>\n      <th>Positions</th>\n      <th>Height</th>\n      <th>Weight</th>\n      <th>Preferred Foot</th>\n      <th>BOV</th>\n      <th>Best Position</th>\n      <th>Joined</th>\n      <th>Loan Date End</th>\n      <th>Value</th>\n      <th>Wage</th>\n      <th>Release Clause</th>\n      <th>Attacking</th>\n      <th>Crossing</th>\n      <th>Finishing</th>\n      <th>Heading Accuracy</th>\n      <th>Short Passing</th>\n      <th>Volleys</th>\n      <th>Skill</th>\n      <th>Dribbling</th>\n      <th>Curve</th>\n      <th>FK Accuracy</th>\n      <th>Long Passing</th>\n      <th>Ball Control</th>\n      <th>Movement</th>\n      <th>Acceleration</th>\n      <th>Sprint Speed</th>\n      <th>Agility</th>\n      <th>Reactions</th>\n      <th>Balance</th>\n      <th>Power</th>\n      <th>Shot Power</th>\n      <th>Jumping</th>\n      <th>Stamina</th>\n      <th>Strength</th>\n      <th>Long Shots</th>\n      <th>Mentality</th>\n      <th>Aggression</th>\n      <th>Interceptions</th>\n      <th>Positioning</th>\n      <th>Vision</th>\n      <th>Penalties</th>\n      <th>Composure</th>\n      <th>Defending</th>\n      <th>Marking</th>\n      <th>Standing Tackle</th>\n      <th>Sliding Tackle</th>\n      <th>Goalkeeping</th>\n      <th>GK Diving</th>\n      <th>GK Handling</th>\n      <th>GK Kicking</th>\n      <th>GK Positioning</th>\n      <th>GK Reflexes</th>\n      <th>Total Stats</th>\n      <th>Base Stats</th>\n      <th>W/F</th>\n      <th>SM</th>\n      <th>A/W</th>\n      <th>D/W</th>\n      <th>IR</th>\n      <th>PAC</th>\n      <th>SHO</th>\n      <th>PAS</th>\n      <th>DRI</th>\n      <th>DEF</th>\n      <th>PHY</th>\n      <th>Hits</th>\n    </tr>\n  </thead>\n  <tbody>\n    <tr>\n      <th>0</th>\n      <td>158023</td>\n      <td>L. Messi</td>\n      <td>Lionel Messi</td>\n      <td>https://cdn.sofifa.com/players/158/023/21_60.png</td>\n      <td>http://sofifa.com/player/158023/lionel-messi/2...</td>\n      <td>Argentina</td>\n      <td>33</td>\n      <td>93</td>\n      <td>93</td>\n      <td>\\n\\n\\n\\nFC Barcelona</td>\n      <td>2004 ~ 2021</td>\n      <td>RW, ST, CF</td>\n      <td>170cm</td>\n      <td>72kg</td>\n      <td>Left</td>\n      <td>93</td>\n      <td>RW</td>\n      <td>Jul 1, 2004</td>\n      <td>NaN</td>\n      <td>€103.5M</td>\n      <td>€560K</td>\n      <td>€138.4M</td>\n      <td>429</td>\n      <td>85</td>\n      <td>95</td>\n      <td>70</td>\n      <td>91</td>\n      <td>88</td>\n      <td>470</td>\n      <td>96</td>\n      <td>93</td>\n      <td>94</td>\n      <td>91</td>\n      <td>96</td>\n      <td>451</td>\n      <td>91</td>\n      <td>80</td>\n      <td>91</td>\n      <td>94</td>\n      <td>95</td>\n      <td>389</td>\n      <td>86</td>\n      <td>68</td>\n      <td>72</td>\n      <td>69</td>\n      <td>94</td>\n      <td>347</td>\n      <td>44</td>\n      <td>40</td>\n      <td>93</td>\n      <td>95</td>\n      <td>75</td>\n      <td>96</td>\n      <td>91</td>\n      <td>32</td>\n      <td>35</td>\n      <td>24</td>\n      <td>54</td>\n      <td>6</td>\n      <td>11</td>\n      <td>15</td>\n      <td>14</td>\n      <td>8</td>\n      <td>2231</td>\n      <td>466</td>\n      <td>4 ★</td>\n      <td>4★</td>\n      <td>Medium</td>\n      <td>Low</td>\n      <td>5 ★</td>\n      <td>85</td>\n      <td>92</td>\n      <td>91</td>\n      <td>95</td>\n      <td>38</td>\n      <td>65</td>\n      <td>771</td>\n    </tr>\n    <tr>\n      <th>1</th>\n      <td>20801</td>\n      <td>Cristiano Ronaldo</td>\n      <td>C. Ronaldo dos Santos Aveiro</td>\n      <td>https://cdn.sofifa.com/players/020/801/21_60.png</td>\n      <td>http://sofifa.com/player/20801/c-ronaldo-dos-s...</td>\n      <td>Portugal</td>\n      <td>35</td>\n      <td>92</td>\n      <td>92</td>\n      <td>\\n\\n\\n\\nJuventus</td>\n      <td>2018 ~ 2022</td>\n      <td>ST, LW</td>\n      <td>187cm</td>\n      <td>83kg</td>\n      <td>Right</td>\n      <td>92</td>\n      <td>ST</td>\n      <td>Jul 10, 2018</td>\n      <td>NaN</td>\n      <td>€63M</td>\n      <td>€220K</td>\n      <td>€75.9M</td>\n      <td>437</td>\n      <td>84</td>\n      <td>95</td>\n      <td>90</td>\n      <td>82</td>\n      <td>86</td>\n      <td>414</td>\n      <td>88</td>\n      <td>81</td>\n      <td>76</td>\n      <td>77</td>\n      <td>92</td>\n      <td>431</td>\n      <td>87</td>\n      <td>91</td>\n      <td>87</td>\n      <td>95</td>\n      <td>71</td>\n      <td>444</td>\n      <td>94</td>\n      <td>95</td>\n      <td>84</td>\n      <td>78</td>\n      <td>93</td>\n      <td>353</td>\n      <td>63</td>\n      <td>29</td>\n      <td>95</td>\n      <td>82</td>\n      <td>84</td>\n      <td>95</td>\n      <td>84</td>\n      <td>28</td>\n      <td>32</td>\n      <td>24</td>\n      <td>58</td>\n      <td>7</td>\n      <td>11</td>\n      <td>15</td>\n      <td>14</td>\n      <td>11</td>\n      <td>2221</td>\n      <td>464</td>\n      <td>4 ★</td>\n      <td>5★</td>\n      <td>High</td>\n      <td>Low</td>\n      <td>5 ★</td>\n      <td>89</td>\n      <td>93</td>\n      <td>81</td>\n      <td>89</td>\n      <td>35</td>\n      <td>77</td>\n      <td>562</td>\n    </tr>\n    <tr>\n      <th>2</th>\n      <td>200389</td>\n      <td>J. Oblak</td>\n      <td>Jan Oblak</td>\n      <td>https://cdn.sofifa.com/players/200/389/21_60.png</td>\n      <td>http://sofifa.com/player/200389/jan-oblak/210006/</td>\n      <td>Slovenia</td>\n      <td>27</td>\n      <td>91</td>\n      <td>93</td>\n      <td>\\n\\n\\n\\nAtlético Madrid</td>\n      <td>2014 ~ 2023</td>\n      <td>GK</td>\n      <td>188cm</td>\n      <td>87kg</td>\n      <td>Right</td>\n      <td>91</td>\n      <td>GK</td>\n      <td>Jul 16, 2014</td>\n      <td>NaN</td>\n      <td>€120M</td>\n      <td>€125K</td>\n      <td>€159.4M</td>\n      <td>95</td>\n      <td>13</td>\n      <td>11</td>\n      <td>15</td>\n      <td>43</td>\n      <td>13</td>\n      <td>109</td>\n      <td>12</td>\n      <td>13</td>\n      <td>14</td>\n      <td>40</td>\n      <td>30</td>\n      <td>307</td>\n      <td>43</td>\n      <td>60</td>\n      <td>67</td>\n      <td>88</td>\n      <td>49</td>\n      <td>268</td>\n      <td>59</td>\n      <td>78</td>\n      <td>41</td>\n      <td>78</td>\n      <td>12</td>\n      <td>140</td>\n      <td>34</td>\n      <td>19</td>\n      <td>11</td>\n      <td>65</td>\n      <td>11</td>\n      <td>68</td>\n      <td>57</td>\n      <td>27</td>\n      <td>12</td>\n      <td>18</td>\n      <td>437</td>\n      <td>87</td>\n      <td>92</td>\n      <td>78</td>\n      <td>90</td>\n      <td>90</td>\n      <td>1413</td>\n      <td>489</td>\n      <td>3 ★</td>\n      <td>1★</td>\n      <td>Medium</td>\n      <td>Medium</td>\n      <td>3 ★</td>\n      <td>87</td>\n      <td>92</td>\n      <td>78</td>\n      <td>90</td>\n      <td>52</td>\n      <td>90</td>\n      <td>150</td>\n    </tr>\n    <tr>\n      <th>3</th>\n      <td>192985</td>\n      <td>K. De Bruyne</td>\n      <td>Kevin De Bruyne</td>\n      <td>https://cdn.sofifa.com/players/192/985/21_60.png</td>\n      <td>http://sofifa.com/player/192985/kevin-de-bruyn...</td>\n      <td>Belgium</td>\n      <td>29</td>\n      <td>91</td>\n      <td>91</td>\n      <td>\\n\\n\\n\\nManchester City</td>\n      <td>2015 ~ 2023</td>\n      <td>CAM, CM</td>\n      <td>181cm</td>\n      <td>70kg</td>\n      <td>Right</td>\n      <td>91</td>\n      <td>CAM</td>\n      <td>Aug 30, 2015</td>\n      <td>NaN</td>\n      <td>€129M</td>\n      <td>€370K</td>\n      <td>€161M</td>\n      <td>407</td>\n      <td>94</td>\n      <td>82</td>\n      <td>55</td>\n      <td>94</td>\n      <td>82</td>\n      <td>441</td>\n      <td>88</td>\n      <td>85</td>\n      <td>83</td>\n      <td>93</td>\n      <td>92</td>\n      <td>398</td>\n      <td>77</td>\n      <td>76</td>\n      <td>78</td>\n      <td>91</td>\n      <td>76</td>\n      <td>408</td>\n      <td>91</td>\n      <td>63</td>\n      <td>89</td>\n      <td>74</td>\n      <td>91</td>\n      <td>408</td>\n      <td>76</td>\n      <td>66</td>\n      <td>88</td>\n      <td>94</td>\n      <td>84</td>\n      <td>91</td>\n      <td>186</td>\n      <td>68</td>\n      <td>65</td>\n      <td>53</td>\n      <td>56</td>\n      <td>15</td>\n      <td>13</td>\n      <td>5</td>\n      <td>10</td>\n      <td>13</td>\n      <td>2304</td>\n      <td>485</td>\n      <td>5 ★</td>\n      <td>4★</td>\n      <td>High</td>\n      <td>High</td>\n      <td>4 ★</td>\n      <td>76</td>\n      <td>86</td>\n      <td>93</td>\n      <td>88</td>\n      <td>64</td>\n      <td>78</td>\n      <td>207</td>\n    </tr>\n    <tr>\n      <th>4</th>\n      <td>190871</td>\n      <td>Neymar Jr</td>\n      <td>Neymar da Silva Santos Jr.</td>\n      <td>https://cdn.sofifa.com/players/190/871/21_60.png</td>\n      <td>http://sofifa.com/player/190871/neymar-da-silv...</td>\n      <td>Brazil</td>\n      <td>28</td>\n      <td>91</td>\n      <td>91</td>\n      <td>\\n\\n\\n\\nParis Saint-Germain</td>\n      <td>2017 ~ 2022</td>\n      <td>LW, CAM</td>\n      <td>175cm</td>\n      <td>68kg</td>\n      <td>Right</td>\n      <td>91</td>\n      <td>LW</td>\n      <td>Aug 3, 2017</td>\n      <td>NaN</td>\n      <td>€132M</td>\n      <td>€270K</td>\n      <td>€166.5M</td>\n      <td>408</td>\n      <td>85</td>\n      <td>87</td>\n      <td>62</td>\n      <td>87</td>\n      <td>87</td>\n      <td>448</td>\n      <td>95</td>\n      <td>88</td>\n      <td>89</td>\n      <td>81</td>\n      <td>95</td>\n      <td>453</td>\n      <td>94</td>\n      <td>89</td>\n      <td>96</td>\n      <td>91</td>\n      <td>83</td>\n      <td>357</td>\n      <td>80</td>\n      <td>62</td>\n      <td>81</td>\n      <td>50</td>\n      <td>84</td>\n      <td>356</td>\n      <td>51</td>\n      <td>36</td>\n      <td>87</td>\n      <td>90</td>\n      <td>92</td>\n      <td>93</td>\n      <td>94</td>\n      <td>35</td>\n      <td>30</td>\n      <td>29</td>\n      <td>59</td>\n      <td>9</td>\n      <td>9</td>\n      <td>15</td>\n      <td>15</td>\n      <td>11</td>\n      <td>2175</td>\n      <td>451</td>\n      <td>5 ★</td>\n      <td>5★</td>\n      <td>High</td>\n      <td>Medium</td>\n      <td>5 ★</td>\n      <td>91</td>\n      <td>85</td>\n      <td>86</td>\n      <td>94</td>\n      <td>36</td>\n      <td>59</td>\n      <td>595</td>\n    </tr>\n  </tbody>\n</table>\n</div>"
          },
          "metadata": {}
        }
      ]
    },
    {
      "cell_type": "markdown",
      "source": "## DISPLAY THE TOTAL NUMBER OF ROWS AND COLUMNS ",
      "metadata": {}
    },
    {
      "cell_type": "code",
      "source": "df.shape",
      "metadata": {
        "trusted": true
      },
      "execution_count": 5,
      "outputs": [
        {
          "execution_count": 5,
          "output_type": "execute_result",
          "data": {
            "text/plain": "(18979, 77)"
          },
          "metadata": {}
        }
      ]
    },
    {
      "cell_type": "markdown",
      "source": "## GET SOME INFORMATION ABOUT THE DATASET COLUMNS ",
      "metadata": {}
    },
    {
      "cell_type": "code",
      "source": "df.info ()",
      "metadata": {
        "trusted": true
      },
      "execution_count": 6,
      "outputs": [
        {
          "name": "stdout",
          "text": "<class 'pandas.core.frame.DataFrame'>\nRangeIndex: 18979 entries, 0 to 18978\nData columns (total 77 columns):\n #   Column            Non-Null Count  Dtype \n---  ------            --------------  ----- \n 0   ID                18979 non-null  int64 \n 1   Name              18979 non-null  object\n 2   LongName          18979 non-null  object\n 3   photoUrl          18979 non-null  object\n 4   playerUrl         18979 non-null  object\n 5   Nationality       18979 non-null  object\n 6   Age               18979 non-null  int64 \n 7   ↓OVA              18979 non-null  int64 \n 8   POT               18979 non-null  int64 \n 9   Club              18979 non-null  object\n 10  Contract          18979 non-null  object\n 11  Positions         18979 non-null  object\n 12  Height            18979 non-null  object\n 13  Weight            18979 non-null  object\n 14  Preferred Foot    18979 non-null  object\n 15  BOV               18979 non-null  int64 \n 16  Best Position     18979 non-null  object\n 17  Joined            18979 non-null  object\n 18  Loan Date End     1013 non-null   object\n 19  Value             18979 non-null  object\n 20  Wage              18979 non-null  object\n 21  Release Clause    18979 non-null  object\n 22  Attacking         18979 non-null  int64 \n 23  Crossing          18979 non-null  int64 \n 24  Finishing         18979 non-null  int64 \n 25  Heading Accuracy  18979 non-null  int64 \n 26  Short Passing     18979 non-null  int64 \n 27  Volleys           18979 non-null  int64 \n 28  Skill             18979 non-null  int64 \n 29  Dribbling         18979 non-null  int64 \n 30  Curve             18979 non-null  int64 \n 31  FK Accuracy       18979 non-null  int64 \n 32  Long Passing      18979 non-null  int64 \n 33  Ball Control      18979 non-null  int64 \n 34  Movement          18979 non-null  int64 \n 35  Acceleration      18979 non-null  int64 \n 36  Sprint Speed      18979 non-null  int64 \n 37  Agility           18979 non-null  int64 \n 38  Reactions         18979 non-null  int64 \n 39  Balance           18979 non-null  int64 \n 40  Power             18979 non-null  int64 \n 41  Shot Power        18979 non-null  int64 \n 42  Jumping           18979 non-null  int64 \n 43  Stamina           18979 non-null  int64 \n 44  Strength          18979 non-null  int64 \n 45  Long Shots        18979 non-null  int64 \n 46  Mentality         18979 non-null  int64 \n 47  Aggression        18979 non-null  int64 \n 48  Interceptions     18979 non-null  int64 \n 49  Positioning       18979 non-null  int64 \n 50  Vision            18979 non-null  int64 \n 51  Penalties         18979 non-null  int64 \n 52  Composure         18979 non-null  int64 \n 53  Defending         18979 non-null  int64 \n 54  Marking           18979 non-null  int64 \n 55  Standing Tackle   18979 non-null  int64 \n 56  Sliding Tackle    18979 non-null  int64 \n 57  Goalkeeping       18979 non-null  int64 \n 58  GK Diving         18979 non-null  int64 \n 59  GK Handling       18979 non-null  int64 \n 60  GK Kicking        18979 non-null  int64 \n 61  GK Positioning    18979 non-null  int64 \n 62  GK Reflexes       18979 non-null  int64 \n 63  Total Stats       18979 non-null  int64 \n 64  Base Stats        18979 non-null  int64 \n 65  W/F               18979 non-null  object\n 66  SM                18979 non-null  object\n 67  A/W               18979 non-null  object\n 68  D/W               18979 non-null  object\n 69  IR                18979 non-null  object\n 70  PAC               18979 non-null  int64 \n 71  SHO               18979 non-null  int64 \n 72  PAS               18979 non-null  int64 \n 73  DRI               18979 non-null  int64 \n 74  DEF               18979 non-null  int64 \n 75  PHY               18979 non-null  int64 \n 76  Hits              16384 non-null  object\ndtypes: int64(54), object(23)\nmemory usage: 9.5+ MB\n",
          "output_type": "stream"
        }
      ]
    },
    {
      "cell_type": "markdown",
      "source": "## CHECK FOR COLUMNS WITH CATEGORICAL VARIABLES ",
      "metadata": {}
    },
    {
      "cell_type": "code",
      "source": "categorical_variables = [var for var in df.columns if df[var].dtypes == 'O']\nprint(categorical_variables)",
      "metadata": {
        "trusted": true
      },
      "execution_count": 7,
      "outputs": [
        {
          "name": "stdout",
          "text": "['Name', 'LongName', 'photoUrl', 'playerUrl', 'Nationality', 'Club', 'Contract', 'Positions', 'Height', 'Weight', 'Preferred Foot', 'Best Position', 'Joined', 'Loan Date End', 'Value', 'Wage', 'Release Clause', 'W/F', 'SM', 'A/W', 'D/W', 'IR', 'Hits']\n",
          "output_type": "stream"
        }
      ]
    },
    {
      "cell_type": "markdown",
      "source": "## CHECK FOR COLUMNS WITH NUMERICAL VARIABLES ",
      "metadata": {}
    },
    {
      "cell_type": "code",
      "source": "numerical_variables = [var for var in df.columns if df[var].dtypes != 'O']\nprint(numerical_variables)",
      "metadata": {
        "trusted": true
      },
      "execution_count": 8,
      "outputs": [
        {
          "name": "stdout",
          "text": "['ID', 'Age', '↓OVA', 'POT', 'BOV', 'Attacking', 'Crossing', 'Finishing', 'Heading Accuracy', 'Short Passing', 'Volleys', 'Skill', 'Dribbling', 'Curve', 'FK Accuracy', 'Long Passing', 'Ball Control', 'Movement', 'Acceleration', 'Sprint Speed', 'Agility', 'Reactions', 'Balance', 'Power', 'Shot Power', 'Jumping', 'Stamina', 'Strength', 'Long Shots', 'Mentality', 'Aggression', 'Interceptions', 'Positioning', 'Vision', 'Penalties', 'Composure', 'Defending', 'Marking', 'Standing Tackle', 'Sliding Tackle', 'Goalkeeping', 'GK Diving', 'GK Handling', 'GK Kicking', 'GK Positioning', 'GK Reflexes', 'Total Stats', 'Base Stats', 'PAC', 'SHO', 'PAS', 'DRI', 'DEF', 'PHY']\n",
          "output_type": "stream"
        }
      ]
    },
    {
      "cell_type": "markdown",
      "source": "## RANDOM ROWS OF CATEGORICAL VARIABLES INSPECTION",
      "metadata": {}
    },
    {
      "cell_type": "code",
      "source": "RandomColumnValues = df[categorical_variables].sample(10)\nRandomColumnValues.T",
      "metadata": {
        "trusted": true
      },
      "execution_count": 9,
      "outputs": [
        {
          "execution_count": 9,
          "output_type": "execute_result",
          "data": {
            "text/plain": "                                                            18855  \\\nName                                                   Pan Ximing   \nLongName                                               Ximing Pan   \nphotoUrl         https://cdn.sofifa.com/players/233/449/21_60.png   \nplayerUrl       http://sofifa.com/player/233449/ximing-pan/210...   \nNationality                                              China PR   \nClub                               \\n\\n\\n\\nHebei China Fortune FC   \nContract                                              2020 ~ 2022   \nPositions                                                      CB   \nHeight                                                      183cm   \nWeight                                                       78kg   \nPreferred Foot                                              Right   \nBest Position                                                 CDM   \nJoined                                               Feb 28, 2020   \nLoan Date End                                                 NaN   \nValue                                                        €50K   \nWage                                                          €2K   \nRelease Clause                                               €49K   \nW/F                                                           3 ★   \nSM                                                             2★   \nA/W                                                        Medium   \nD/W                                                        Medium   \nIR                                                            1 ★   \nHits                                                          NaN   \n\n                                                            9285   \\\nName                                                    B. Nygren   \nLongName                                          Benjamin Nygren   \nphotoUrl         https://cdn.sofifa.com/players/243/646/21_60.png   \nplayerUrl       http://sofifa.com/player/243646/benjamin-nygre...   \nNationality                                                Sweden   \nClub                                        \\n\\n\\n\\nSC Heerenveen   \nContract                                     Jun 30, 2022 On Loan   \nPositions                                             CAM, ST, RW   \nHeight                                                      184cm   \nWeight                                                       77kg   \nPreferred Foot                                               Left   \nBest Position                                                 CAM   \nJoined                                                Jul 1, 2019   \nLoan Date End                                        Jun 30, 2022   \nValue                                                         €2M   \nWage                                                          €2K   \nRelease Clause                                                 €0   \nW/F                                                           3 ★   \nSM                                                             2★   \nA/W                                                        Medium   \nD/W                                                        Medium   \nIR                                                            1 ★   \nHits                                                           31   \n\n                                                            15306  \\\nName                                                J. Altamirano   \nLongName                                        Javier Altamirano   \nphotoUrl         https://cdn.sofifa.com/players/238/767/21_60.png   \nplayerUrl       http://sofifa.com/player/238767/javier-altamir...   \nNationality                                                 Chile   \nClub                                        \\n\\n\\n\\nCD Huachipato   \nContract                                              2018 ~ 2021   \nPositions                                                 CM, CAM   \nHeight                                                      172cm   \nWeight                                                       68kg   \nPreferred Foot                                               Left   \nBest Position                                                 CAM   \nJoined                                                Jan 1, 2018   \nLoan Date End                                                 NaN   \nValue                                                       €550K   \nWage                                                          €1K   \nRelease Clause                                              €504K   \nW/F                                                           3 ★   \nSM                                                             2★   \nA/W                                                        Medium   \nD/W                                                        Medium   \nIR                                                            1 ★   \nHits                                                            6   \n\n                                                            12378  \\\nName                                                  M. Reynolds   \nLongName                                            Mark Reynolds   \nphotoUrl         https://cdn.sofifa.com/players/173/695/21_60.png   \nplayerUrl       http://sofifa.com/player/173695/mark-reynolds/...   \nNationality                                              Scotland   \nClub                                        \\n\\n\\n\\nDundee United   \nContract                                              2019 ~ 2022   \nPositions                                                      CB   \nHeight                                                      180cm   \nWeight                                                       68kg   \nPreferred Foot                                               Left   \nBest Position                                                  CB   \nJoined                                                Jul 1, 2019   \nLoan Date End                                                 NaN   \nValue                                                       €230K   \nWage                                                          €2K   \nRelease Clause                                              €298K   \nW/F                                                           3 ★   \nSM                                                             2★   \nA/W                                                           Low   \nD/W                                                          High   \nIR                                                            1 ★   \nHits                                                            2   \n\n                                                            14765  \\\nName                                                 G. Stensness   \nLongName                                         Gianni Stensness   \nphotoUrl         https://cdn.sofifa.com/players/247/754/21_60.png   \nplayerUrl       http://sofifa.com/player/247754/gianni-stensne...   \nNationality                                           New Zealand   \nClub                               \\n\\n\\n\\nCentral Coast Mariners   \nContract                                              2019 ~ 2020   \nPositions                                                 CDM, CM   \nHeight                                                      185cm   \nWeight                                                       82kg   \nPreferred Foot                                              Right   \nBest Position                                                 CDM   \nJoined                                               Aug 28, 2019   \nLoan Date End                                                 NaN   \nValue                                                       €625K   \nWage                                                         €500   \nRelease Clause                                              €471K   \nW/F                                                           3 ★   \nSM                                                             2★   \nA/W                                                        Medium   \nD/W                                                        Medium   \nIR                                                            1 ★   \nHits                                                            3   \n\n                                                            11464  \\\nName                                                   A. Fontana   \nLongName                                          Anthony Fontana   \nphotoUrl         https://cdn.sofifa.com/players/240/026/21_60.png   \nplayerUrl       http://sofifa.com/player/240026/anthony-fontan...   \nNationality                                         United States   \nClub                                   \\n\\n\\n\\nPhiladelphia Union   \nContract                                              2017 ~ 2020   \nPositions                                                     CAM   \nHeight                                                      173cm   \nWeight                                                       68kg   \nPreferred Foot                                              Right   \nBest Position                                                 CAM   \nJoined                                               Jul 17, 2017   \nLoan Date End                                                 NaN   \nValue                                                       €875K   \nWage                                                          €2K   \nRelease Clause                                              €945K   \nW/F                                                           3 ★   \nSM                                                             2★   \nA/W                                                          High   \nD/W                                                        Medium   \nIR                                                            1 ★   \nHits                                                           26   \n\n                                                            13857  \\\nName                                                     A. Mboko   \nLongName                                             Ayrton Mboko   \nphotoUrl         https://cdn.sofifa.com/players/250/833/21_60.png   \nplayerUrl       http://sofifa.com/player/250833/ayrton-mboko/2...   \nNationality                                               Belgium   \nClub                                         \\n\\n\\n\\nBeerschot AC   \nContract                                              2018 ~ 2022   \nPositions                                                 RWB, RB   \nHeight                                                      187cm   \nWeight                                                       80kg   \nPreferred Foot                                              Right   \nBest Position                                                 RWB   \nJoined                                               Aug 31, 2018   \nLoan Date End                                                 NaN   \nValue                                                       €775K   \nWage                                                          €2K   \nRelease Clause                                              €619K   \nW/F                                                           3 ★   \nSM                                                             2★   \nA/W                                                          High   \nD/W                                                        Medium   \nIR                                                            1 ★   \nHits                                                            3   \n\n                                                            8998   \\\nName                                                   M. O'Leary   \nLongName                                              Max O'Leary   \nphotoUrl         https://cdn.sofifa.com/players/220/807/21_60.png   \nplayerUrl       http://sofifa.com/player/220807/max-oleary/210...   \nNationality                                               England   \nClub                                         \\n\\n\\n\\nBristol City   \nContract                                              2013 ~ 2023   \nPositions                                                      GK   \nHeight                                                      185cm   \nWeight                                                       78kg   \nPreferred Foot                                              Right   \nBest Position                                                  GK   \nJoined                                                Jul 1, 2013   \nLoan Date End                                                 NaN   \nValue                                                       €1.6M   \nWage                                                          €8K   \nRelease Clause                                              €1.5M   \nW/F                                                           3 ★   \nSM                                                             1★   \nA/W                                                        Medium   \nD/W                                                        Medium   \nIR                                                            1 ★   \nHits                                                            9   \n\n                                                            11131  \\\nName                                                  A. Al Bishi   \nLongName                                       Abdulaziz Al Bishi   \nphotoUrl         https://cdn.sofifa.com/players/221/772/21_60.png   \nplayerUrl       http://sofifa.com/player/221772/abdulaziz-al-b...   \nNationality                                          Saudi Arabia   \nClub                                           \\n\\n\\n\\nAl Ittihad   \nContract                                              2019 ~ 2023   \nPositions                                                  RW, LW   \nHeight                                                      173cm   \nWeight                                                       73kg   \nPreferred Foot                                               Left   \nBest Position                                                  LM   \nJoined                                               Jan 24, 2019   \nLoan Date End                                                 NaN   \nValue                                                       €700K   \nWage                                                          €9K   \nRelease Clause                                              €932K   \nW/F                                                           3 ★   \nSM                                                             3★   \nA/W                                                        Medium   \nD/W                                                           Low   \nIR                                                            1 ★   \nHits                                                            2   \n\n                                                            9215   \nName                                                Kim Sung Hwan  \nLongName                                            Sung Hwan Kim  \nphotoUrl         https://cdn.sofifa.com/players/191/662/21_60.png  \nplayerUrl       http://sofifa.com/player/191662/sung-hwan-kim/...  \nNationality                                        Korea Republic  \nClub                                      \\n\\n\\n\\nHenan Jianye FC  \nContract                                              2020 ~ 2023  \nPositions                                                 CM, CDM  \nHeight                                                      184cm  \nWeight                                                       78kg  \nPreferred Foot                                              Right  \nBest Position                                                  CM  \nJoined                                               Jul 29, 2020  \nLoan Date End                                                 NaN  \nValue                                                       €525K  \nWage                                                          €5K  \nRelease Clause                                              €581K  \nW/F                                                           3 ★  \nSM                                                             3★  \nA/W                                                        Medium  \nD/W                                                        Medium  \nIR                                                            1 ★  \nHits                                                            1  ",
            "text/html": "<div>\n<style scoped>\n    .dataframe tbody tr th:only-of-type {\n        vertical-align: middle;\n    }\n\n    .dataframe tbody tr th {\n        vertical-align: top;\n    }\n\n    .dataframe thead th {\n        text-align: right;\n    }\n</style>\n<table border=\"1\" class=\"dataframe\">\n  <thead>\n    <tr style=\"text-align: right;\">\n      <th></th>\n      <th>18855</th>\n      <th>9285</th>\n      <th>15306</th>\n      <th>12378</th>\n      <th>14765</th>\n      <th>11464</th>\n      <th>13857</th>\n      <th>8998</th>\n      <th>11131</th>\n      <th>9215</th>\n    </tr>\n  </thead>\n  <tbody>\n    <tr>\n      <th>Name</th>\n      <td>Pan Ximing</td>\n      <td>B. Nygren</td>\n      <td>J. Altamirano</td>\n      <td>M. Reynolds</td>\n      <td>G. Stensness</td>\n      <td>A. Fontana</td>\n      <td>A. Mboko</td>\n      <td>M. O'Leary</td>\n      <td>A. Al Bishi</td>\n      <td>Kim Sung Hwan</td>\n    </tr>\n    <tr>\n      <th>LongName</th>\n      <td>Ximing Pan</td>\n      <td>Benjamin Nygren</td>\n      <td>Javier Altamirano</td>\n      <td>Mark Reynolds</td>\n      <td>Gianni Stensness</td>\n      <td>Anthony Fontana</td>\n      <td>Ayrton Mboko</td>\n      <td>Max O'Leary</td>\n      <td>Abdulaziz Al Bishi</td>\n      <td>Sung Hwan Kim</td>\n    </tr>\n    <tr>\n      <th>photoUrl</th>\n      <td>https://cdn.sofifa.com/players/233/449/21_60.png</td>\n      <td>https://cdn.sofifa.com/players/243/646/21_60.png</td>\n      <td>https://cdn.sofifa.com/players/238/767/21_60.png</td>\n      <td>https://cdn.sofifa.com/players/173/695/21_60.png</td>\n      <td>https://cdn.sofifa.com/players/247/754/21_60.png</td>\n      <td>https://cdn.sofifa.com/players/240/026/21_60.png</td>\n      <td>https://cdn.sofifa.com/players/250/833/21_60.png</td>\n      <td>https://cdn.sofifa.com/players/220/807/21_60.png</td>\n      <td>https://cdn.sofifa.com/players/221/772/21_60.png</td>\n      <td>https://cdn.sofifa.com/players/191/662/21_60.png</td>\n    </tr>\n    <tr>\n      <th>playerUrl</th>\n      <td>http://sofifa.com/player/233449/ximing-pan/210...</td>\n      <td>http://sofifa.com/player/243646/benjamin-nygre...</td>\n      <td>http://sofifa.com/player/238767/javier-altamir...</td>\n      <td>http://sofifa.com/player/173695/mark-reynolds/...</td>\n      <td>http://sofifa.com/player/247754/gianni-stensne...</td>\n      <td>http://sofifa.com/player/240026/anthony-fontan...</td>\n      <td>http://sofifa.com/player/250833/ayrton-mboko/2...</td>\n      <td>http://sofifa.com/player/220807/max-oleary/210...</td>\n      <td>http://sofifa.com/player/221772/abdulaziz-al-b...</td>\n      <td>http://sofifa.com/player/191662/sung-hwan-kim/...</td>\n    </tr>\n    <tr>\n      <th>Nationality</th>\n      <td>China PR</td>\n      <td>Sweden</td>\n      <td>Chile</td>\n      <td>Scotland</td>\n      <td>New Zealand</td>\n      <td>United States</td>\n      <td>Belgium</td>\n      <td>England</td>\n      <td>Saudi Arabia</td>\n      <td>Korea Republic</td>\n    </tr>\n    <tr>\n      <th>Club</th>\n      <td>\\n\\n\\n\\nHebei China Fortune FC</td>\n      <td>\\n\\n\\n\\nSC Heerenveen</td>\n      <td>\\n\\n\\n\\nCD Huachipato</td>\n      <td>\\n\\n\\n\\nDundee United</td>\n      <td>\\n\\n\\n\\nCentral Coast Mariners</td>\n      <td>\\n\\n\\n\\nPhiladelphia Union</td>\n      <td>\\n\\n\\n\\nBeerschot AC</td>\n      <td>\\n\\n\\n\\nBristol City</td>\n      <td>\\n\\n\\n\\nAl Ittihad</td>\n      <td>\\n\\n\\n\\nHenan Jianye FC</td>\n    </tr>\n    <tr>\n      <th>Contract</th>\n      <td>2020 ~ 2022</td>\n      <td>Jun 30, 2022 On Loan</td>\n      <td>2018 ~ 2021</td>\n      <td>2019 ~ 2022</td>\n      <td>2019 ~ 2020</td>\n      <td>2017 ~ 2020</td>\n      <td>2018 ~ 2022</td>\n      <td>2013 ~ 2023</td>\n      <td>2019 ~ 2023</td>\n      <td>2020 ~ 2023</td>\n    </tr>\n    <tr>\n      <th>Positions</th>\n      <td>CB</td>\n      <td>CAM, ST, RW</td>\n      <td>CM, CAM</td>\n      <td>CB</td>\n      <td>CDM, CM</td>\n      <td>CAM</td>\n      <td>RWB, RB</td>\n      <td>GK</td>\n      <td>RW, LW</td>\n      <td>CM, CDM</td>\n    </tr>\n    <tr>\n      <th>Height</th>\n      <td>183cm</td>\n      <td>184cm</td>\n      <td>172cm</td>\n      <td>180cm</td>\n      <td>185cm</td>\n      <td>173cm</td>\n      <td>187cm</td>\n      <td>185cm</td>\n      <td>173cm</td>\n      <td>184cm</td>\n    </tr>\n    <tr>\n      <th>Weight</th>\n      <td>78kg</td>\n      <td>77kg</td>\n      <td>68kg</td>\n      <td>68kg</td>\n      <td>82kg</td>\n      <td>68kg</td>\n      <td>80kg</td>\n      <td>78kg</td>\n      <td>73kg</td>\n      <td>78kg</td>\n    </tr>\n    <tr>\n      <th>Preferred Foot</th>\n      <td>Right</td>\n      <td>Left</td>\n      <td>Left</td>\n      <td>Left</td>\n      <td>Right</td>\n      <td>Right</td>\n      <td>Right</td>\n      <td>Right</td>\n      <td>Left</td>\n      <td>Right</td>\n    </tr>\n    <tr>\n      <th>Best Position</th>\n      <td>CDM</td>\n      <td>CAM</td>\n      <td>CAM</td>\n      <td>CB</td>\n      <td>CDM</td>\n      <td>CAM</td>\n      <td>RWB</td>\n      <td>GK</td>\n      <td>LM</td>\n      <td>CM</td>\n    </tr>\n    <tr>\n      <th>Joined</th>\n      <td>Feb 28, 2020</td>\n      <td>Jul 1, 2019</td>\n      <td>Jan 1, 2018</td>\n      <td>Jul 1, 2019</td>\n      <td>Aug 28, 2019</td>\n      <td>Jul 17, 2017</td>\n      <td>Aug 31, 2018</td>\n      <td>Jul 1, 2013</td>\n      <td>Jan 24, 2019</td>\n      <td>Jul 29, 2020</td>\n    </tr>\n    <tr>\n      <th>Loan Date End</th>\n      <td>NaN</td>\n      <td>Jun 30, 2022</td>\n      <td>NaN</td>\n      <td>NaN</td>\n      <td>NaN</td>\n      <td>NaN</td>\n      <td>NaN</td>\n      <td>NaN</td>\n      <td>NaN</td>\n      <td>NaN</td>\n    </tr>\n    <tr>\n      <th>Value</th>\n      <td>€50K</td>\n      <td>€2M</td>\n      <td>€550K</td>\n      <td>€230K</td>\n      <td>€625K</td>\n      <td>€875K</td>\n      <td>€775K</td>\n      <td>€1.6M</td>\n      <td>€700K</td>\n      <td>€525K</td>\n    </tr>\n    <tr>\n      <th>Wage</th>\n      <td>€2K</td>\n      <td>€2K</td>\n      <td>€1K</td>\n      <td>€2K</td>\n      <td>€500</td>\n      <td>€2K</td>\n      <td>€2K</td>\n      <td>€8K</td>\n      <td>€9K</td>\n      <td>€5K</td>\n    </tr>\n    <tr>\n      <th>Release Clause</th>\n      <td>€49K</td>\n      <td>€0</td>\n      <td>€504K</td>\n      <td>€298K</td>\n      <td>€471K</td>\n      <td>€945K</td>\n      <td>€619K</td>\n      <td>€1.5M</td>\n      <td>€932K</td>\n      <td>€581K</td>\n    </tr>\n    <tr>\n      <th>W/F</th>\n      <td>3 ★</td>\n      <td>3 ★</td>\n      <td>3 ★</td>\n      <td>3 ★</td>\n      <td>3 ★</td>\n      <td>3 ★</td>\n      <td>3 ★</td>\n      <td>3 ★</td>\n      <td>3 ★</td>\n      <td>3 ★</td>\n    </tr>\n    <tr>\n      <th>SM</th>\n      <td>2★</td>\n      <td>2★</td>\n      <td>2★</td>\n      <td>2★</td>\n      <td>2★</td>\n      <td>2★</td>\n      <td>2★</td>\n      <td>1★</td>\n      <td>3★</td>\n      <td>3★</td>\n    </tr>\n    <tr>\n      <th>A/W</th>\n      <td>Medium</td>\n      <td>Medium</td>\n      <td>Medium</td>\n      <td>Low</td>\n      <td>Medium</td>\n      <td>High</td>\n      <td>High</td>\n      <td>Medium</td>\n      <td>Medium</td>\n      <td>Medium</td>\n    </tr>\n    <tr>\n      <th>D/W</th>\n      <td>Medium</td>\n      <td>Medium</td>\n      <td>Medium</td>\n      <td>High</td>\n      <td>Medium</td>\n      <td>Medium</td>\n      <td>Medium</td>\n      <td>Medium</td>\n      <td>Low</td>\n      <td>Medium</td>\n    </tr>\n    <tr>\n      <th>IR</th>\n      <td>1 ★</td>\n      <td>1 ★</td>\n      <td>1 ★</td>\n      <td>1 ★</td>\n      <td>1 ★</td>\n      <td>1 ★</td>\n      <td>1 ★</td>\n      <td>1 ★</td>\n      <td>1 ★</td>\n      <td>1 ★</td>\n    </tr>\n    <tr>\n      <th>Hits</th>\n      <td>NaN</td>\n      <td>31</td>\n      <td>6</td>\n      <td>2</td>\n      <td>3</td>\n      <td>26</td>\n      <td>3</td>\n      <td>9</td>\n      <td>2</td>\n      <td>1</td>\n    </tr>\n  </tbody>\n</table>\n</div>"
          },
          "metadata": {}
        }
      ]
    },
    {
      "cell_type": "markdown",
      "source": "## THINGS TO LOOK OUT FOR PRIOR TO CLEANING\n\n1. Check for missing values\n2. Check for duplicates\n3. Check for incorrect datatypes\n4. Check for outliers\n5. Convert Joined to date time format yyyy/mm/dd\n6. Drop either name or long name column \n7. Remove cm and kg from the height and weight, and change all height to cm and all weight to kg\n8. Fix the \\n in club column\n9. Drop ID column, it is not needed in this scenario\n10. Drop both photo and playerurl columns, these url are not needed in this situation\n11. Convert value and release clause column to million by multiplying by 1,000,000 and remove symbol\n12. Remove star symbol in W/F, SM, IR \n13. Change the column names and their looks \n14. Convert wage column to thousand by multiplying by 1,000 and remove symbol \n15. Get percentage of Summed up columns ",
      "metadata": {}
    },
    {
      "cell_type": "markdown",
      "source": "## DATA CLEANING PROPER \n\n## 1.HANDLING MISSING VARIABLES ",
      "metadata": {}
    },
    {
      "cell_type": "code",
      "source": "missing = df.isnull().sum()\nmissing = missing[missing>0]\nmissing",
      "metadata": {
        "trusted": true
      },
      "execution_count": 10,
      "outputs": [
        {
          "execution_count": 10,
          "output_type": "execute_result",
          "data": {
            "text/plain": "Loan Date End    17966\nHits              2595\ndtype: int64"
          },
          "metadata": {}
        }
      ]
    },
    {
      "cell_type": "markdown",
      "source": "Loan End Date and Hits have missing values ",
      "metadata": {}
    },
    {
      "cell_type": "markdown",
      "source": "### 1.1 HANDLING “LOAN DATE END” COLUMN FOR MISSING VALUES\n\nSince the values of Loan Date End are repeated in Contract column, It only makes sense to drop the Loan Date End column and work on handling the Contract column",
      "metadata": {}
    },
    {
      "cell_type": "code",
      "source": "df.drop('Loan Date End', axis = 1, inplace = True)",
      "metadata": {
        "trusted": true
      },
      "execution_count": 11,
      "outputs": []
    },
    {
      "cell_type": "markdown",
      "source": "### 1.2 HANDLING “HIT” COLUMN FOR MISSING VALUES\n\nHits(means the number of times a player profile has been viewed)- we can set this to 0 meaning the player has no view.\n",
      "metadata": {}
    },
    {
      "cell_type": "code",
      "source": "df['Hits'] = df['Hits'].fillna(0)\ndf['Hits'].isnull().sum()",
      "metadata": {
        "trusted": true
      },
      "execution_count": 12,
      "outputs": [
        {
          "execution_count": 12,
          "output_type": "execute_result",
          "data": {
            "text/plain": "0"
          },
          "metadata": {}
        }
      ]
    },
    {
      "cell_type": "markdown",
      "source": "All the null values for the Hits column has been handled ",
      "metadata": {}
    },
    {
      "cell_type": "markdown",
      "source": "## 2. CHECKING FOR DUPLICATE COLUMNS",
      "metadata": {}
    },
    {
      "cell_type": "code",
      "source": "duplicates = df.duplicated()\nprint(df[duplicates])",
      "metadata": {
        "trusted": true
      },
      "execution_count": 13,
      "outputs": [
        {
          "name": "stdout",
          "text": "Empty DataFrame\nColumns: [ID, Name, LongName, photoUrl, playerUrl, Nationality, Age, ↓OVA, POT, Club, Contract, Positions, Height, Weight, Preferred Foot, BOV, Best Position, Joined, Value, Wage, Release Clause, Attacking, Crossing, Finishing, Heading Accuracy, Short Passing, Volleys, Skill, Dribbling, Curve, FK Accuracy, Long Passing, Ball Control, Movement, Acceleration, Sprint Speed, Agility, Reactions, Balance, Power, Shot Power, Jumping, Stamina, Strength, Long Shots, Mentality, Aggression, Interceptions, Positioning, Vision, Penalties, Composure, Defending, Marking, Standing Tackle, Sliding Tackle, Goalkeeping, GK Diving, GK Handling, GK Kicking, GK Positioning, GK Reflexes, Total Stats, Base Stats, W/F, SM, A/W, D/W, IR, PAC, SHO, PAS, DRI, DEF, PHY, Hits]\nIndex: []\n",
          "output_type": "stream"
        }
      ]
    },
    {
      "cell_type": "markdown",
      "source": "There are no duplicate column in the dataset",
      "metadata": {}
    },
    {
      "cell_type": "markdown",
      "source": "## 3.DROPPING IRRELEVANT COLUMNS",
      "metadata": {}
    },
    {
      "cell_type": "code",
      "source": "# Dropping both ID columns and Name column, because they seem irrelevant and redundant. \n\ndf.drop(['ID','Name', 'photoUrl', 'playerUrl'], axis = 1, inplace = True)\ndf.head()",
      "metadata": {
        "trusted": true
      },
      "execution_count": 14,
      "outputs": [
        {
          "execution_count": 14,
          "output_type": "execute_result",
          "data": {
            "text/plain": "                       LongName Nationality  Age  ↓OVA  POT  \\\n0                  Lionel Messi   Argentina   33    93   93   \n1  C. Ronaldo dos Santos Aveiro    Portugal   35    92   92   \n2                     Jan Oblak    Slovenia   27    91   93   \n3               Kevin De Bruyne     Belgium   29    91   91   \n4    Neymar da Silva Santos Jr.      Brazil   28    91   91   \n\n                          Club     Contract   Positions Height Weight  \\\n0         \\n\\n\\n\\nFC Barcelona  2004 ~ 2021  RW, ST, CF  170cm   72kg   \n1             \\n\\n\\n\\nJuventus  2018 ~ 2022      ST, LW  187cm   83kg   \n2      \\n\\n\\n\\nAtlético Madrid  2014 ~ 2023          GK  188cm   87kg   \n3      \\n\\n\\n\\nManchester City  2015 ~ 2023     CAM, CM  181cm   70kg   \n4  \\n\\n\\n\\nParis Saint-Germain  2017 ~ 2022     LW, CAM  175cm   68kg   \n\n  Preferred Foot  BOV Best Position        Joined    Value   Wage  \\\n0           Left   93            RW   Jul 1, 2004  €103.5M  €560K   \n1          Right   92            ST  Jul 10, 2018     €63M  €220K   \n2          Right   91            GK  Jul 16, 2014    €120M  €125K   \n3          Right   91           CAM  Aug 30, 2015    €129M  €370K   \n4          Right   91            LW   Aug 3, 2017    €132M  €270K   \n\n  Release Clause  Attacking  Crossing  Finishing  Heading Accuracy  \\\n0        €138.4M        429        85         95                70   \n1         €75.9M        437        84         95                90   \n2        €159.4M         95        13         11                15   \n3          €161M        407        94         82                55   \n4        €166.5M        408        85         87                62   \n\n   Short Passing  Volleys  Skill  Dribbling  Curve  FK Accuracy  Long Passing  \\\n0             91       88    470         96     93           94            91   \n1             82       86    414         88     81           76            77   \n2             43       13    109         12     13           14            40   \n3             94       82    441         88     85           83            93   \n4             87       87    448         95     88           89            81   \n\n   Ball Control  Movement  Acceleration  Sprint Speed  Agility  Reactions  \\\n0            96       451            91            80       91         94   \n1            92       431            87            91       87         95   \n2            30       307            43            60       67         88   \n3            92       398            77            76       78         91   \n4            95       453            94            89       96         91   \n\n   Balance  Power  Shot Power  Jumping  Stamina  Strength  Long Shots  \\\n0       95    389          86       68       72        69          94   \n1       71    444          94       95       84        78          93   \n2       49    268          59       78       41        78          12   \n3       76    408          91       63       89        74          91   \n4       83    357          80       62       81        50          84   \n\n   Mentality  Aggression  Interceptions  Positioning  Vision  Penalties  \\\n0        347          44             40           93      95         75   \n1        353          63             29           95      82         84   \n2        140          34             19           11      65         11   \n3        408          76             66           88      94         84   \n4        356          51             36           87      90         92   \n\n   Composure  Defending  Marking  Standing Tackle  Sliding Tackle  \\\n0         96         91       32               35              24   \n1         95         84       28               32              24   \n2         68         57       27               12              18   \n3         91        186       68               65              53   \n4         93         94       35               30              29   \n\n   Goalkeeping  GK Diving  GK Handling  GK Kicking  GK Positioning  \\\n0           54          6           11          15              14   \n1           58          7           11          15              14   \n2          437         87           92          78              90   \n3           56         15           13           5              10   \n4           59          9            9          15              15   \n\n   GK Reflexes  Total Stats  Base Stats  W/F  SM     A/W     D/W   IR  PAC  \\\n0            8         2231         466  4 ★  4★  Medium     Low  5 ★   85   \n1           11         2221         464  4 ★  5★    High     Low  5 ★   89   \n2           90         1413         489  3 ★  1★  Medium  Medium  3 ★   87   \n3           13         2304         485  5 ★  4★    High    High  4 ★   76   \n4           11         2175         451  5 ★  5★    High  Medium  5 ★   91   \n\n   SHO  PAS  DRI  DEF  PHY Hits  \n0   92   91   95   38   65  771  \n1   93   81   89   35   77  562  \n2   92   78   90   52   90  150  \n3   86   93   88   64   78  207  \n4   85   86   94   36   59  595  ",
            "text/html": "<div>\n<style scoped>\n    .dataframe tbody tr th:only-of-type {\n        vertical-align: middle;\n    }\n\n    .dataframe tbody tr th {\n        vertical-align: top;\n    }\n\n    .dataframe thead th {\n        text-align: right;\n    }\n</style>\n<table border=\"1\" class=\"dataframe\">\n  <thead>\n    <tr style=\"text-align: right;\">\n      <th></th>\n      <th>LongName</th>\n      <th>Nationality</th>\n      <th>Age</th>\n      <th>↓OVA</th>\n      <th>POT</th>\n      <th>Club</th>\n      <th>Contract</th>\n      <th>Positions</th>\n      <th>Height</th>\n      <th>Weight</th>\n      <th>Preferred Foot</th>\n      <th>BOV</th>\n      <th>Best Position</th>\n      <th>Joined</th>\n      <th>Value</th>\n      <th>Wage</th>\n      <th>Release Clause</th>\n      <th>Attacking</th>\n      <th>Crossing</th>\n      <th>Finishing</th>\n      <th>Heading Accuracy</th>\n      <th>Short Passing</th>\n      <th>Volleys</th>\n      <th>Skill</th>\n      <th>Dribbling</th>\n      <th>Curve</th>\n      <th>FK Accuracy</th>\n      <th>Long Passing</th>\n      <th>Ball Control</th>\n      <th>Movement</th>\n      <th>Acceleration</th>\n      <th>Sprint Speed</th>\n      <th>Agility</th>\n      <th>Reactions</th>\n      <th>Balance</th>\n      <th>Power</th>\n      <th>Shot Power</th>\n      <th>Jumping</th>\n      <th>Stamina</th>\n      <th>Strength</th>\n      <th>Long Shots</th>\n      <th>Mentality</th>\n      <th>Aggression</th>\n      <th>Interceptions</th>\n      <th>Positioning</th>\n      <th>Vision</th>\n      <th>Penalties</th>\n      <th>Composure</th>\n      <th>Defending</th>\n      <th>Marking</th>\n      <th>Standing Tackle</th>\n      <th>Sliding Tackle</th>\n      <th>Goalkeeping</th>\n      <th>GK Diving</th>\n      <th>GK Handling</th>\n      <th>GK Kicking</th>\n      <th>GK Positioning</th>\n      <th>GK Reflexes</th>\n      <th>Total Stats</th>\n      <th>Base Stats</th>\n      <th>W/F</th>\n      <th>SM</th>\n      <th>A/W</th>\n      <th>D/W</th>\n      <th>IR</th>\n      <th>PAC</th>\n      <th>SHO</th>\n      <th>PAS</th>\n      <th>DRI</th>\n      <th>DEF</th>\n      <th>PHY</th>\n      <th>Hits</th>\n    </tr>\n  </thead>\n  <tbody>\n    <tr>\n      <th>0</th>\n      <td>Lionel Messi</td>\n      <td>Argentina</td>\n      <td>33</td>\n      <td>93</td>\n      <td>93</td>\n      <td>\\n\\n\\n\\nFC Barcelona</td>\n      <td>2004 ~ 2021</td>\n      <td>RW, ST, CF</td>\n      <td>170cm</td>\n      <td>72kg</td>\n      <td>Left</td>\n      <td>93</td>\n      <td>RW</td>\n      <td>Jul 1, 2004</td>\n      <td>€103.5M</td>\n      <td>€560K</td>\n      <td>€138.4M</td>\n      <td>429</td>\n      <td>85</td>\n      <td>95</td>\n      <td>70</td>\n      <td>91</td>\n      <td>88</td>\n      <td>470</td>\n      <td>96</td>\n      <td>93</td>\n      <td>94</td>\n      <td>91</td>\n      <td>96</td>\n      <td>451</td>\n      <td>91</td>\n      <td>80</td>\n      <td>91</td>\n      <td>94</td>\n      <td>95</td>\n      <td>389</td>\n      <td>86</td>\n      <td>68</td>\n      <td>72</td>\n      <td>69</td>\n      <td>94</td>\n      <td>347</td>\n      <td>44</td>\n      <td>40</td>\n      <td>93</td>\n      <td>95</td>\n      <td>75</td>\n      <td>96</td>\n      <td>91</td>\n      <td>32</td>\n      <td>35</td>\n      <td>24</td>\n      <td>54</td>\n      <td>6</td>\n      <td>11</td>\n      <td>15</td>\n      <td>14</td>\n      <td>8</td>\n      <td>2231</td>\n      <td>466</td>\n      <td>4 ★</td>\n      <td>4★</td>\n      <td>Medium</td>\n      <td>Low</td>\n      <td>5 ★</td>\n      <td>85</td>\n      <td>92</td>\n      <td>91</td>\n      <td>95</td>\n      <td>38</td>\n      <td>65</td>\n      <td>771</td>\n    </tr>\n    <tr>\n      <th>1</th>\n      <td>C. Ronaldo dos Santos Aveiro</td>\n      <td>Portugal</td>\n      <td>35</td>\n      <td>92</td>\n      <td>92</td>\n      <td>\\n\\n\\n\\nJuventus</td>\n      <td>2018 ~ 2022</td>\n      <td>ST, LW</td>\n      <td>187cm</td>\n      <td>83kg</td>\n      <td>Right</td>\n      <td>92</td>\n      <td>ST</td>\n      <td>Jul 10, 2018</td>\n      <td>€63M</td>\n      <td>€220K</td>\n      <td>€75.9M</td>\n      <td>437</td>\n      <td>84</td>\n      <td>95</td>\n      <td>90</td>\n      <td>82</td>\n      <td>86</td>\n      <td>414</td>\n      <td>88</td>\n      <td>81</td>\n      <td>76</td>\n      <td>77</td>\n      <td>92</td>\n      <td>431</td>\n      <td>87</td>\n      <td>91</td>\n      <td>87</td>\n      <td>95</td>\n      <td>71</td>\n      <td>444</td>\n      <td>94</td>\n      <td>95</td>\n      <td>84</td>\n      <td>78</td>\n      <td>93</td>\n      <td>353</td>\n      <td>63</td>\n      <td>29</td>\n      <td>95</td>\n      <td>82</td>\n      <td>84</td>\n      <td>95</td>\n      <td>84</td>\n      <td>28</td>\n      <td>32</td>\n      <td>24</td>\n      <td>58</td>\n      <td>7</td>\n      <td>11</td>\n      <td>15</td>\n      <td>14</td>\n      <td>11</td>\n      <td>2221</td>\n      <td>464</td>\n      <td>4 ★</td>\n      <td>5★</td>\n      <td>High</td>\n      <td>Low</td>\n      <td>5 ★</td>\n      <td>89</td>\n      <td>93</td>\n      <td>81</td>\n      <td>89</td>\n      <td>35</td>\n      <td>77</td>\n      <td>562</td>\n    </tr>\n    <tr>\n      <th>2</th>\n      <td>Jan Oblak</td>\n      <td>Slovenia</td>\n      <td>27</td>\n      <td>91</td>\n      <td>93</td>\n      <td>\\n\\n\\n\\nAtlético Madrid</td>\n      <td>2014 ~ 2023</td>\n      <td>GK</td>\n      <td>188cm</td>\n      <td>87kg</td>\n      <td>Right</td>\n      <td>91</td>\n      <td>GK</td>\n      <td>Jul 16, 2014</td>\n      <td>€120M</td>\n      <td>€125K</td>\n      <td>€159.4M</td>\n      <td>95</td>\n      <td>13</td>\n      <td>11</td>\n      <td>15</td>\n      <td>43</td>\n      <td>13</td>\n      <td>109</td>\n      <td>12</td>\n      <td>13</td>\n      <td>14</td>\n      <td>40</td>\n      <td>30</td>\n      <td>307</td>\n      <td>43</td>\n      <td>60</td>\n      <td>67</td>\n      <td>88</td>\n      <td>49</td>\n      <td>268</td>\n      <td>59</td>\n      <td>78</td>\n      <td>41</td>\n      <td>78</td>\n      <td>12</td>\n      <td>140</td>\n      <td>34</td>\n      <td>19</td>\n      <td>11</td>\n      <td>65</td>\n      <td>11</td>\n      <td>68</td>\n      <td>57</td>\n      <td>27</td>\n      <td>12</td>\n      <td>18</td>\n      <td>437</td>\n      <td>87</td>\n      <td>92</td>\n      <td>78</td>\n      <td>90</td>\n      <td>90</td>\n      <td>1413</td>\n      <td>489</td>\n      <td>3 ★</td>\n      <td>1★</td>\n      <td>Medium</td>\n      <td>Medium</td>\n      <td>3 ★</td>\n      <td>87</td>\n      <td>92</td>\n      <td>78</td>\n      <td>90</td>\n      <td>52</td>\n      <td>90</td>\n      <td>150</td>\n    </tr>\n    <tr>\n      <th>3</th>\n      <td>Kevin De Bruyne</td>\n      <td>Belgium</td>\n      <td>29</td>\n      <td>91</td>\n      <td>91</td>\n      <td>\\n\\n\\n\\nManchester City</td>\n      <td>2015 ~ 2023</td>\n      <td>CAM, CM</td>\n      <td>181cm</td>\n      <td>70kg</td>\n      <td>Right</td>\n      <td>91</td>\n      <td>CAM</td>\n      <td>Aug 30, 2015</td>\n      <td>€129M</td>\n      <td>€370K</td>\n      <td>€161M</td>\n      <td>407</td>\n      <td>94</td>\n      <td>82</td>\n      <td>55</td>\n      <td>94</td>\n      <td>82</td>\n      <td>441</td>\n      <td>88</td>\n      <td>85</td>\n      <td>83</td>\n      <td>93</td>\n      <td>92</td>\n      <td>398</td>\n      <td>77</td>\n      <td>76</td>\n      <td>78</td>\n      <td>91</td>\n      <td>76</td>\n      <td>408</td>\n      <td>91</td>\n      <td>63</td>\n      <td>89</td>\n      <td>74</td>\n      <td>91</td>\n      <td>408</td>\n      <td>76</td>\n      <td>66</td>\n      <td>88</td>\n      <td>94</td>\n      <td>84</td>\n      <td>91</td>\n      <td>186</td>\n      <td>68</td>\n      <td>65</td>\n      <td>53</td>\n      <td>56</td>\n      <td>15</td>\n      <td>13</td>\n      <td>5</td>\n      <td>10</td>\n      <td>13</td>\n      <td>2304</td>\n      <td>485</td>\n      <td>5 ★</td>\n      <td>4★</td>\n      <td>High</td>\n      <td>High</td>\n      <td>4 ★</td>\n      <td>76</td>\n      <td>86</td>\n      <td>93</td>\n      <td>88</td>\n      <td>64</td>\n      <td>78</td>\n      <td>207</td>\n    </tr>\n    <tr>\n      <th>4</th>\n      <td>Neymar da Silva Santos Jr.</td>\n      <td>Brazil</td>\n      <td>28</td>\n      <td>91</td>\n      <td>91</td>\n      <td>\\n\\n\\n\\nParis Saint-Germain</td>\n      <td>2017 ~ 2022</td>\n      <td>LW, CAM</td>\n      <td>175cm</td>\n      <td>68kg</td>\n      <td>Right</td>\n      <td>91</td>\n      <td>LW</td>\n      <td>Aug 3, 2017</td>\n      <td>€132M</td>\n      <td>€270K</td>\n      <td>€166.5M</td>\n      <td>408</td>\n      <td>85</td>\n      <td>87</td>\n      <td>62</td>\n      <td>87</td>\n      <td>87</td>\n      <td>448</td>\n      <td>95</td>\n      <td>88</td>\n      <td>89</td>\n      <td>81</td>\n      <td>95</td>\n      <td>453</td>\n      <td>94</td>\n      <td>89</td>\n      <td>96</td>\n      <td>91</td>\n      <td>83</td>\n      <td>357</td>\n      <td>80</td>\n      <td>62</td>\n      <td>81</td>\n      <td>50</td>\n      <td>84</td>\n      <td>356</td>\n      <td>51</td>\n      <td>36</td>\n      <td>87</td>\n      <td>90</td>\n      <td>92</td>\n      <td>93</td>\n      <td>94</td>\n      <td>35</td>\n      <td>30</td>\n      <td>29</td>\n      <td>59</td>\n      <td>9</td>\n      <td>9</td>\n      <td>15</td>\n      <td>15</td>\n      <td>11</td>\n      <td>2175</td>\n      <td>451</td>\n      <td>5 ★</td>\n      <td>5★</td>\n      <td>High</td>\n      <td>Medium</td>\n      <td>5 ★</td>\n      <td>91</td>\n      <td>85</td>\n      <td>86</td>\n      <td>94</td>\n      <td>36</td>\n      <td>59</td>\n      <td>595</td>\n    </tr>\n  </tbody>\n</table>\n</div>"
          },
          "metadata": {}
        }
      ]
    },
    {
      "cell_type": "markdown",
      "source": "## 4. HANDLING THE CONTRACT COLUMN\n\n",
      "metadata": {}
    },
    {
      "cell_type": "markdown",
      "source": "### 4.1 CREATING A NEW COLUMN CALLED CONTRACT_TYPE",
      "metadata": {}
    },
    {
      "cell_type": "code",
      "source": "# This code checks through the contract column, and creates a new column called contract_type,\n# if the word 'On Loan' appears in the contract column, On Loan will be printed in the contract_type column\n# if the word 'Free' appears in the contract column, Free Agent will be printed in the contract_type column\n# if the symbol '~', eg 2001 ~ 2007 appears in the contract column, Under Contract will be printed in the \n# contract_type column\n\n\ndef check_contract(val):\n    if 'On Loan' in val:\n        return'On Loan'\n    elif 'Free' in val:\n        return 'Free Agent'\n    elif '~' in val:\n        return 'Under Contract'\n    else:\n        return 'Unknown'",
      "metadata": {
        "trusted": true
      },
      "execution_count": 15,
      "outputs": []
    },
    {
      "cell_type": "code",
      "source": "# this creates a new columns using our check_contract function\ndf['contract_type'] = df['Contract'].apply(lambda x : check_contract(x)) ",
      "metadata": {
        "trusted": true
      },
      "execution_count": 16,
      "outputs": []
    },
    {
      "cell_type": "code",
      "source": "df[['contract_type']].sample(10)\n",
      "metadata": {
        "trusted": true
      },
      "execution_count": 17,
      "outputs": [
        {
          "execution_count": 17,
          "output_type": "execute_result",
          "data": {
            "text/plain": "        contract_type\n2813   Under Contract\n12598  Under Contract\n270    Under Contract\n15583  Under Contract\n12154  Under Contract\n9510   Under Contract\n18439  Under Contract\n35     Under Contract\n1620   Under Contract\n6582   Under Contract",
            "text/html": "<div>\n<style scoped>\n    .dataframe tbody tr th:only-of-type {\n        vertical-align: middle;\n    }\n\n    .dataframe tbody tr th {\n        vertical-align: top;\n    }\n\n    .dataframe thead th {\n        text-align: right;\n    }\n</style>\n<table border=\"1\" class=\"dataframe\">\n  <thead>\n    <tr style=\"text-align: right;\">\n      <th></th>\n      <th>contract_type</th>\n    </tr>\n  </thead>\n  <tbody>\n    <tr>\n      <th>2813</th>\n      <td>Under Contract</td>\n    </tr>\n    <tr>\n      <th>12598</th>\n      <td>Under Contract</td>\n    </tr>\n    <tr>\n      <th>270</th>\n      <td>Under Contract</td>\n    </tr>\n    <tr>\n      <th>15583</th>\n      <td>Under Contract</td>\n    </tr>\n    <tr>\n      <th>12154</th>\n      <td>Under Contract</td>\n    </tr>\n    <tr>\n      <th>9510</th>\n      <td>Under Contract</td>\n    </tr>\n    <tr>\n      <th>18439</th>\n      <td>Under Contract</td>\n    </tr>\n    <tr>\n      <th>35</th>\n      <td>Under Contract</td>\n    </tr>\n    <tr>\n      <th>1620</th>\n      <td>Under Contract</td>\n    </tr>\n    <tr>\n      <th>6582</th>\n      <td>Under Contract</td>\n    </tr>\n  </tbody>\n</table>\n</div>"
          },
          "metadata": {}
        }
      ]
    },
    {
      "cell_type": "code",
      "source": "df.contract_type.value_counts() # shows the number of each category in the contract_type column",
      "metadata": {
        "trusted": true
      },
      "execution_count": 18,
      "outputs": [
        {
          "execution_count": 18,
          "output_type": "execute_result",
          "data": {
            "text/plain": "Under Contract    17729\nOn Loan            1013\nFree Agent          237\nName: contract_type, dtype: int64"
          },
          "metadata": {}
        }
      ]
    },
    {
      "cell_type": "markdown",
      "source": "### 4.2 CREATING A NEW COLUMNS CALLED CONTRACT_START AND CONTRACT_END",
      "metadata": {}
    },
    {
      "cell_type": "code",
      "source": "# Contract Start\n\n# The joined column shows the start date for each player in their present club, so we can use that as our contract \n# start year, perharps the joined column and contract column have the same start year.\n\ndf['Contract_start'] = df['Joined'].apply(lambda x: x[-4:])",
      "metadata": {
        "trusted": true
      },
      "execution_count": 19,
      "outputs": []
    },
    {
      "cell_type": "code",
      "source": "# Contract End\n\n# To obtain the year of each value, I am getting the last 4 characters of each value,\n# while for the values similar to this 'Jul 31, 2021 On Loan', I will use slicing to obtain the year\n\ndef value(val):\n    if 'Loan' in val:\n        val = val[7:12]\n        val = val.strip(' ') # I addedn this line because some whitespace was present originally\n        return val\n    else:\n        val = val[-4:]\n        return val\n        \ndf['Contract_end'] = df['Contract'].apply(lambda x : value(x)) ",
      "metadata": {
        "trusted": true
      },
      "execution_count": 20,
      "outputs": []
    },
    {
      "cell_type": "code",
      "source": "df[['Contract_start','Contract_end']].sample(10)",
      "metadata": {
        "trusted": true
      },
      "execution_count": 21,
      "outputs": [
        {
          "execution_count": 21,
          "output_type": "execute_result",
          "data": {
            "text/plain": "      Contract_start Contract_end\n13972           2019         2021\n15357           2020         2024\n12642           2019         2023\n12675           2019         2022\n15379           2016         2023\n739             2015         2023\n10471           2018         2021\n2738            2011         2020\n4334            2020         2023\n16895           2013         2020",
            "text/html": "<div>\n<style scoped>\n    .dataframe tbody tr th:only-of-type {\n        vertical-align: middle;\n    }\n\n    .dataframe tbody tr th {\n        vertical-align: top;\n    }\n\n    .dataframe thead th {\n        text-align: right;\n    }\n</style>\n<table border=\"1\" class=\"dataframe\">\n  <thead>\n    <tr style=\"text-align: right;\">\n      <th></th>\n      <th>Contract_start</th>\n      <th>Contract_end</th>\n    </tr>\n  </thead>\n  <tbody>\n    <tr>\n      <th>13972</th>\n      <td>2019</td>\n      <td>2021</td>\n    </tr>\n    <tr>\n      <th>15357</th>\n      <td>2020</td>\n      <td>2024</td>\n    </tr>\n    <tr>\n      <th>12642</th>\n      <td>2019</td>\n      <td>2023</td>\n    </tr>\n    <tr>\n      <th>12675</th>\n      <td>2019</td>\n      <td>2022</td>\n    </tr>\n    <tr>\n      <th>15379</th>\n      <td>2016</td>\n      <td>2023</td>\n    </tr>\n    <tr>\n      <th>739</th>\n      <td>2015</td>\n      <td>2023</td>\n    </tr>\n    <tr>\n      <th>10471</th>\n      <td>2018</td>\n      <td>2021</td>\n    </tr>\n    <tr>\n      <th>2738</th>\n      <td>2011</td>\n      <td>2020</td>\n    </tr>\n    <tr>\n      <th>4334</th>\n      <td>2020</td>\n      <td>2023</td>\n    </tr>\n    <tr>\n      <th>16895</th>\n      <td>2013</td>\n      <td>2020</td>\n    </tr>\n  </tbody>\n</table>\n</div>"
          },
          "metadata": {}
        }
      ]
    },
    {
      "cell_type": "markdown",
      "source": "## 4.3 DROPPING THE ORIGINAL CONTRACT COLUMN\n\n",
      "metadata": {}
    },
    {
      "cell_type": "code",
      "source": "df.drop('Contract', axis = 1, inplace = True)",
      "metadata": {
        "trusted": true
      },
      "execution_count": 22,
      "outputs": []
    },
    {
      "cell_type": "markdown",
      "source": "## 5. FIXING ERRORS IN THE CLUB COLUMN VALUES\n\n",
      "metadata": {}
    },
    {
      "cell_type": "markdown",
      "source": "Noticed some strange looking \\n values, we need to remove them from our club column",
      "metadata": {}
    },
    {
      "cell_type": "code",
      "source": "df['Club'] = df['Club'].apply(lambda x: x[4:])\ndf[['Club']].head()",
      "metadata": {
        "trusted": true
      },
      "execution_count": 23,
      "outputs": [
        {
          "execution_count": 23,
          "output_type": "execute_result",
          "data": {
            "text/plain": "                  Club\n0         FC Barcelona\n1             Juventus\n2      Atlético Madrid\n3      Manchester City\n4  Paris Saint-Germain",
            "text/html": "<div>\n<style scoped>\n    .dataframe tbody tr th:only-of-type {\n        vertical-align: middle;\n    }\n\n    .dataframe tbody tr th {\n        vertical-align: top;\n    }\n\n    .dataframe thead th {\n        text-align: right;\n    }\n</style>\n<table border=\"1\" class=\"dataframe\">\n  <thead>\n    <tr style=\"text-align: right;\">\n      <th></th>\n      <th>Club</th>\n    </tr>\n  </thead>\n  <tbody>\n    <tr>\n      <th>0</th>\n      <td>FC Barcelona</td>\n    </tr>\n    <tr>\n      <th>1</th>\n      <td>Juventus</td>\n    </tr>\n    <tr>\n      <th>2</th>\n      <td>Atlético Madrid</td>\n    </tr>\n    <tr>\n      <th>3</th>\n      <td>Manchester City</td>\n    </tr>\n    <tr>\n      <th>4</th>\n      <td>Paris Saint-Germain</td>\n    </tr>\n  </tbody>\n</table>\n</div>"
          },
          "metadata": {}
        }
      ]
    },
    {
      "cell_type": "markdown",
      "source": "## 6. CONVERTING THE VALUES OF THE HEIGHT COLUMN TO ONE UNIFORM UNIT (CM)\n\n",
      "metadata": {}
    },
    {
      "cell_type": "markdown",
      "source": "Looking at the unique values in the Height column earlier, one will notice that both cm and inches units were present in this column. These values all need be converted to cm.",
      "metadata": {}
    },
    {
      "cell_type": "code",
      "source": "# Checking for only inches values in the Height column \n\ninches = df[df.Height.str.contains(\"'\")]\ninches_height = inches['Height']\ninches_height.sample(5)",
      "metadata": {
        "trusted": true
      },
      "execution_count": 24,
      "outputs": [
        {
          "execution_count": 24,
          "output_type": "execute_result",
          "data": {
            "text/plain": "883     6'0\"\n880    5'11\"\n866     6'2\"\n865    5'11\"\n862     6'1\"\nName: Height, dtype: object"
          },
          "metadata": {}
        }
      ]
    },
    {
      "cell_type": "code",
      "source": "def inches_to_cm(val):\n    if \"'\" in val:\n        val = val.strip('\"') #this removes the \" symbol at the end of all the inches value\n        feet,inches = val.split(\"'\") # this splits the values eg 5'11, so feet = 5 and inches = 11\n        inches_val = round((float(feet)*30.48 + float(inches)* 2.54),2) # the calculation to convert ft in to cm\n        return inches_val\n    else:\n        val = val.strip('cm') # this removes the 'cm' label on all cm values\n        return val\n    \ndf['Height_cm'] = df['Height'].apply(lambda x: inches_to_cm(x)) # x is the input value which are the Height column values",
      "metadata": {
        "trusted": true
      },
      "execution_count": 25,
      "outputs": []
    },
    {
      "cell_type": "code",
      "source": "# Change the datatype to float\ndf.Height_cm = df.Height_cm.astype(float)",
      "metadata": {
        "trusted": true
      },
      "execution_count": 26,
      "outputs": []
    },
    {
      "cell_type": "code",
      "source": "# These are the values of the new height_cm column\ndf[['Height_cm']].head()",
      "metadata": {
        "trusted": true
      },
      "execution_count": 27,
      "outputs": [
        {
          "execution_count": 27,
          "output_type": "execute_result",
          "data": {
            "text/plain": "   Height_cm\n0      170.0\n1      187.0\n2      188.0\n3      181.0\n4      175.0",
            "text/html": "<div>\n<style scoped>\n    .dataframe tbody tr th:only-of-type {\n        vertical-align: middle;\n    }\n\n    .dataframe tbody tr th {\n        vertical-align: top;\n    }\n\n    .dataframe thead th {\n        text-align: right;\n    }\n</style>\n<table border=\"1\" class=\"dataframe\">\n  <thead>\n    <tr style=\"text-align: right;\">\n      <th></th>\n      <th>Height_cm</th>\n    </tr>\n  </thead>\n  <tbody>\n    <tr>\n      <th>0</th>\n      <td>170.0</td>\n    </tr>\n    <tr>\n      <th>1</th>\n      <td>187.0</td>\n    </tr>\n    <tr>\n      <th>2</th>\n      <td>188.0</td>\n    </tr>\n    <tr>\n      <th>3</th>\n      <td>181.0</td>\n    </tr>\n    <tr>\n      <th>4</th>\n      <td>175.0</td>\n    </tr>\n  </tbody>\n</table>\n</div>"
          },
          "metadata": {}
        }
      ]
    },
    {
      "cell_type": "markdown",
      "source": "## 7. CHANGING THE VALUES OF THE WEIGHT COLUMN TO ONE UNIFORM UNIT (KG)\n\n",
      "metadata": {}
    },
    {
      "cell_type": "code",
      "source": "def lbs_to_kg (val):\n    if 'lbs' in val:\n        val = val.strip('lbs')\n        kg_val = round((float(val)* 0.453592),2)\n        return kg_val\n    else:\n        val = val.strip('kg')\n        return val\n    \ndf['weight_kg'] = df['Weight'].apply(lambda x : lbs_to_kg(x))",
      "metadata": {
        "trusted": true
      },
      "execution_count": 28,
      "outputs": []
    },
    {
      "cell_type": "code",
      "source": "# Change the datatype of this column to float\ndf['weight_kg'] = df['weight_kg'].astype(float)",
      "metadata": {
        "trusted": true
      },
      "execution_count": 29,
      "outputs": []
    },
    {
      "cell_type": "code",
      "source": "# Drop the original Weight column\n\ndf.drop('Weight', axis = 1, inplace = True)",
      "metadata": {
        "trusted": true
      },
      "execution_count": 30,
      "outputs": []
    },
    {
      "cell_type": "code",
      "source": "df[['weight_kg']].head()",
      "metadata": {
        "trusted": true
      },
      "execution_count": 31,
      "outputs": [
        {
          "execution_count": 31,
          "output_type": "execute_result",
          "data": {
            "text/plain": "   weight_kg\n0       72.0\n1       83.0\n2       87.0\n3       70.0\n4       68.0",
            "text/html": "<div>\n<style scoped>\n    .dataframe tbody tr th:only-of-type {\n        vertical-align: middle;\n    }\n\n    .dataframe tbody tr th {\n        vertical-align: top;\n    }\n\n    .dataframe thead th {\n        text-align: right;\n    }\n</style>\n<table border=\"1\" class=\"dataframe\">\n  <thead>\n    <tr style=\"text-align: right;\">\n      <th></th>\n      <th>weight_kg</th>\n    </tr>\n  </thead>\n  <tbody>\n    <tr>\n      <th>0</th>\n      <td>72.0</td>\n    </tr>\n    <tr>\n      <th>1</th>\n      <td>83.0</td>\n    </tr>\n    <tr>\n      <th>2</th>\n      <td>87.0</td>\n    </tr>\n    <tr>\n      <th>3</th>\n      <td>70.0</td>\n    </tr>\n    <tr>\n      <th>4</th>\n      <td>68.0</td>\n    </tr>\n  </tbody>\n</table>\n</div>"
          },
          "metadata": {}
        }
      ]
    },
    {
      "cell_type": "markdown",
      "source": "## 8. CHANGING THE JOINED COLUMN TO A DATETIME DATATYPE\n\n",
      "metadata": {}
    },
    {
      "cell_type": "code",
      "source": "# upper case Y is used if the year has 4 digits eg 2005\n# lower case y is used if the year has 2 digits eg 23\n\nfrom datetime import datetime\n\ndef date_time (val):\n    change_date = datetime.strptime(val, '%b %d, %Y')\n    return change_date\n    \ndf['Joined'] = df['Joined'].apply(lambda x : date_time (x))",
      "metadata": {
        "trusted": true
      },
      "execution_count": 32,
      "outputs": []
    },
    {
      "cell_type": "code",
      "source": "df[['Joined']].head()",
      "metadata": {
        "trusted": true
      },
      "execution_count": 33,
      "outputs": [
        {
          "execution_count": 33,
          "output_type": "execute_result",
          "data": {
            "text/plain": "      Joined\n0 2004-07-01\n1 2018-07-10\n2 2014-07-16\n3 2015-08-30\n4 2017-08-03",
            "text/html": "<div>\n<style scoped>\n    .dataframe tbody tr th:only-of-type {\n        vertical-align: middle;\n    }\n\n    .dataframe tbody tr th {\n        vertical-align: top;\n    }\n\n    .dataframe thead th {\n        text-align: right;\n    }\n</style>\n<table border=\"1\" class=\"dataframe\">\n  <thead>\n    <tr style=\"text-align: right;\">\n      <th></th>\n      <th>Joined</th>\n    </tr>\n  </thead>\n  <tbody>\n    <tr>\n      <th>0</th>\n      <td>2004-07-01</td>\n    </tr>\n    <tr>\n      <th>1</th>\n      <td>2018-07-10</td>\n    </tr>\n    <tr>\n      <th>2</th>\n      <td>2014-07-16</td>\n    </tr>\n    <tr>\n      <th>3</th>\n      <td>2015-08-30</td>\n    </tr>\n    <tr>\n      <th>4</th>\n      <td>2017-08-03</td>\n    </tr>\n  </tbody>\n</table>\n</div>"
          },
          "metadata": {}
        }
      ]
    },
    {
      "cell_type": "markdown",
      "source": "## 9. REMOVING THE CURRENCY SYMBOL FROM VALUE AND RELEASE CLAUSE AND CHANGING IT TO ITS FULL VALUE",
      "metadata": {}
    },
    {
      "cell_type": "markdown",
      "source": "The values in these columns will also be changed to signifiy million and thousand",
      "metadata": {}
    },
    {
      "cell_type": "code",
      "source": "df['Value'] = df['Value'].str.strip('€') #this removes the € symbol\ndf['Release Clause'] = df['Release Clause'].str.strip('€')\n\ndef change_value(val):\n    if 'M' in val:\n        val = val.strip('M') #this removes the M symbol\n        million = float(val) * 1000000\n        return million\n    else:\n        val = val.strip('K')\n        thousand = float(val) * 1000\n        return thousand\n    \ndf['Value_euro'] = df['Value'].apply(lambda x: change_value(x)) \ndf['Release Clause_euro'] = df['Release Clause'].apply(lambda x: change_value(x))",
      "metadata": {
        "trusted": true
      },
      "execution_count": 34,
      "outputs": []
    },
    {
      "cell_type": "code",
      "source": "# Drop original value and Release clause columns\n\ndf.drop(['Value', 'Release Clause'], axis = 1, inplace = True)",
      "metadata": {
        "trusted": true
      },
      "execution_count": 35,
      "outputs": []
    },
    {
      "cell_type": "code",
      "source": "df[['Value_euro', 'Release Clause_euro']].head()",
      "metadata": {
        "trusted": true
      },
      "execution_count": 36,
      "outputs": [
        {
          "execution_count": 36,
          "output_type": "execute_result",
          "data": {
            "text/plain": "    Value_euro  Release Clause_euro\n0  103500000.0          138400000.0\n1   63000000.0           75900000.0\n2  120000000.0          159400000.0\n3  129000000.0          161000000.0\n4  132000000.0          166500000.0",
            "text/html": "<div>\n<style scoped>\n    .dataframe tbody tr th:only-of-type {\n        vertical-align: middle;\n    }\n\n    .dataframe tbody tr th {\n        vertical-align: top;\n    }\n\n    .dataframe thead th {\n        text-align: right;\n    }\n</style>\n<table border=\"1\" class=\"dataframe\">\n  <thead>\n    <tr style=\"text-align: right;\">\n      <th></th>\n      <th>Value_euro</th>\n      <th>Release Clause_euro</th>\n    </tr>\n  </thead>\n  <tbody>\n    <tr>\n      <th>0</th>\n      <td>103500000.0</td>\n      <td>138400000.0</td>\n    </tr>\n    <tr>\n      <th>1</th>\n      <td>63000000.0</td>\n      <td>75900000.0</td>\n    </tr>\n    <tr>\n      <th>2</th>\n      <td>120000000.0</td>\n      <td>159400000.0</td>\n    </tr>\n    <tr>\n      <th>3</th>\n      <td>129000000.0</td>\n      <td>161000000.0</td>\n    </tr>\n    <tr>\n      <th>4</th>\n      <td>132000000.0</td>\n      <td>166500000.0</td>\n    </tr>\n  </tbody>\n</table>\n</div>"
          },
          "metadata": {}
        }
      ]
    },
    {
      "cell_type": "markdown",
      "source": "## 10. REMOVING THE CURRENCY SYMBOL FROM WAGE AND CHANGING IT TO ITS FULL VALUE\n\n",
      "metadata": {}
    },
    {
      "cell_type": "code",
      "source": "df['Wage'] = df['Wage'].str.strip('€')\n\ndef change_value(val):\n    if 'K' in val:\n        val = val.strip('K')\n        thousand = float(val) * 1000\n        return thousand\n    else:\n        val = val\n        return val\n    \ndf['Wage_euro'] = df['Wage'].apply(lambda x: change_value(x))",
      "metadata": {
        "trusted": true
      },
      "execution_count": 37,
      "outputs": []
    },
    {
      "cell_type": "code",
      "source": "#Changing the datatype to float\ndf['Wage_euro'] = df['Wage_euro'].astype(float)",
      "metadata": {
        "trusted": true
      },
      "execution_count": 38,
      "outputs": []
    },
    {
      "cell_type": "code",
      "source": "# Drop original wage column\n\ndf.drop('Wage', axis = 1, inplace = True)",
      "metadata": {
        "trusted": true
      },
      "execution_count": 39,
      "outputs": []
    },
    {
      "cell_type": "code",
      "source": "df[['Wage_euro']].head()",
      "metadata": {
        "trusted": true
      },
      "execution_count": 40,
      "outputs": [
        {
          "execution_count": 40,
          "output_type": "execute_result",
          "data": {
            "text/plain": "   Wage_euro\n0   560000.0\n1   220000.0\n2   125000.0\n3   370000.0\n4   270000.0",
            "text/html": "<div>\n<style scoped>\n    .dataframe tbody tr th:only-of-type {\n        vertical-align: middle;\n    }\n\n    .dataframe tbody tr th {\n        vertical-align: top;\n    }\n\n    .dataframe thead th {\n        text-align: right;\n    }\n</style>\n<table border=\"1\" class=\"dataframe\">\n  <thead>\n    <tr style=\"text-align: right;\">\n      <th></th>\n      <th>Wage_euro</th>\n    </tr>\n  </thead>\n  <tbody>\n    <tr>\n      <th>0</th>\n      <td>560000.0</td>\n    </tr>\n    <tr>\n      <th>1</th>\n      <td>220000.0</td>\n    </tr>\n    <tr>\n      <th>2</th>\n      <td>125000.0</td>\n    </tr>\n    <tr>\n      <th>3</th>\n      <td>370000.0</td>\n    </tr>\n    <tr>\n      <th>4</th>\n      <td>270000.0</td>\n    </tr>\n  </tbody>\n</table>\n</div>"
          },
          "metadata": {}
        }
      ]
    },
    {
      "cell_type": "markdown",
      "source": "## 11. REMOVING THE STAR SYMBOL FROM W/F, SM AND IR COLUMNS\n\n",
      "metadata": {}
    },
    {
      "cell_type": "code",
      "source": "# This removes the star symbol in all 3 columns\ndf[['W/F','SM','IR']] = df[['W/F','SM','IR']].apply(lambda x: x.str.strip('★'))\n\n# this changes the datatype of these columns\ndf[['W/F','SM','IR']] = df[['W/F','SM','IR']].astype(int)",
      "metadata": {
        "trusted": true
      },
      "execution_count": 41,
      "outputs": []
    },
    {
      "cell_type": "code",
      "source": "\ndf[['SM', 'W/F','IR']].head()",
      "metadata": {
        "trusted": true
      },
      "execution_count": 42,
      "outputs": [
        {
          "execution_count": 42,
          "output_type": "execute_result",
          "data": {
            "text/plain": "   SM  W/F  IR\n0   4    4   5\n1   5    4   5\n2   1    3   3\n3   4    5   4\n4   5    5   5",
            "text/html": "<div>\n<style scoped>\n    .dataframe tbody tr th:only-of-type {\n        vertical-align: middle;\n    }\n\n    .dataframe tbody tr th {\n        vertical-align: top;\n    }\n\n    .dataframe thead th {\n        text-align: right;\n    }\n</style>\n<table border=\"1\" class=\"dataframe\">\n  <thead>\n    <tr style=\"text-align: right;\">\n      <th></th>\n      <th>SM</th>\n      <th>W/F</th>\n      <th>IR</th>\n    </tr>\n  </thead>\n  <tbody>\n    <tr>\n      <th>0</th>\n      <td>4</td>\n      <td>4</td>\n      <td>5</td>\n    </tr>\n    <tr>\n      <th>1</th>\n      <td>5</td>\n      <td>4</td>\n      <td>5</td>\n    </tr>\n    <tr>\n      <th>2</th>\n      <td>1</td>\n      <td>3</td>\n      <td>3</td>\n    </tr>\n    <tr>\n      <th>3</th>\n      <td>4</td>\n      <td>5</td>\n      <td>4</td>\n    </tr>\n    <tr>\n      <th>4</th>\n      <td>5</td>\n      <td>5</td>\n      <td>5</td>\n    </tr>\n  </tbody>\n</table>\n</div>"
          },
          "metadata": {}
        }
      ]
    },
    {
      "cell_type": "markdown",
      "source": "## 12. HANDLING THE HITS COLUMN\n\n",
      "metadata": {}
    },
    {
      "cell_type": "code",
      "source": "df['Hits'].unique()",
      "metadata": {
        "trusted": true
      },
      "execution_count": 43,
      "outputs": [
        {
          "execution_count": 43,
          "output_type": "execute_result",
          "data": {
            "text/plain": "array(['771', '562', '150', '207', '595', '248', '246', '120', '1.6K',\n       '130', '321', '189', '175', '96', '118', '216', '212', '154',\n       '205', '202', '339', '408', '103', '332', '86', '173', '161',\n       '396', '1.1K', '433', '242', '206', '177', '1.5K', '198', '459',\n       '117', '119', '209', '84', '187', '165', '203', '65', '336', '126',\n       '313', '124', '145', '538', '182', '101', '45', '377', '99', '194',\n       '403', '414', '593', '374', '245', '3.2K', '266', '299', '309',\n       '215', '265', '211', '112', '337', '70', '159', '688', '116', '63',\n       '144', '123', '71', '224', '113', '168', '61', '89', '137', '278',\n       '75', '148', '176', '197', '264', '214', '247', '402', '440',\n       '1.7K', '2.3K', '171', '320', '657', '87', '259', '200', '255',\n       '253', '196', '60', '97', '85', '169', '256', '132', '239', '166',\n       '121', '109', '32', '46', '122', '48', '527', '199', '282', '51',\n       '1.9K', '642', '155', '323', '288', '497', '509', '79', '49',\n       '270', '511', '80', '128', '115', '156', '204', '143', '140',\n       '152', '220', '134', '225', '94', '74', '135', '142', '50', '77',\n       '40', '107', '193', '179', '34', '64', '453', '57', '81', '28',\n       '78', '133', '43', '425', '88', '42', '36', '233', '376', '210',\n       '444', '100', '263', '98', '29', '160', '39', '257', '6', '310',\n       '138', '62', '293', '285', '362', '66', '69', '58', '21', '20',\n       '131', '38', '406', '68', '108', '110', '93', '512', '443', '306',\n       '352', '422', '585', '346', '178', '841', '76', '394', '72', '172',\n       '44', '407', '230', '367', '295', '157', '243', '56', '111', '326',\n       '679', '18', '92', '59', '25', '184', '53', '12', '90', '55', '73',\n       '11', '566', '180', '83', '262', '17', '26', '31', '280', '359',\n       '213', '297', '387', '480', '381', '677', '486', '8', '244', '129',\n       '388', '275', '319', '2K', '52', '91', '421', '153', '27', '41',\n       '222', '35', '102', '23', '30', '33', '146', '13', '19', '14',\n       '106', '276', '568', '353', '47', '478', '249', '254', '369',\n       '219', '565', '237', '227', '434', '375', '162', '605', '654', '3',\n       '7', '9', '104', '114', '186', '446', '756', '22', '139', '500',\n       '67', '147', '149', '16', '82', '54', '37', '15', '1.3K', '3K',\n       '952', '5', '749', '541', '330', '393', '517', '770', '409', '170',\n       '125', '283', '342', '363', '580', '105', '217', '24', '141', '10',\n       '427', '158', '426', '4', '666', '181', '324', '979', '1.4K',\n       '302', '751', '298', '411', '944', '2', '947', '292', '349', '621',\n       '1', '2.8K', '338', '287', '261', '218', '1.8K', '240', '279',\n       '229', '188', '315', '664', '613', '190', '706', '127', '462',\n       '386', '695', '491', '167', '281', '250', '307', '95', '231',\n       '174', '680', '633', '221', '348', '602', '183', '653', '195',\n       '164', '151', '258', '8.4K', '343', '419', '655', '136', '399',\n       '531', '357', '228', '385', '312', '340', '238', '487', '355',\n       '499', '4.3K', '296', '515', '943', '1.2K', '903', '335', '191',\n       '594', '267', '617', '516', '504', '331', '652', '410', '550',\n       '473', '442', '344', '208', '1K', '2.5K', '273', '485', '826',\n       '192', '405', '941', '477', '644', '303', '417', '6K', 0],\n      dtype=object)"
          },
          "metadata": {}
        }
      ]
    },
    {
      "cell_type": "code",
      "source": "# There are some K symbol in the column, change it to thousands and delete the K symbol\n\ndf['Hits'] = df['Hits'].astype(str) # I ran into an error when I ran the code without this line so I added this line \n# to change the 0 values initially added when filling null values with 0 to a string value.\n\ndef change_value(val):\n    if 'K' in val:\n        val = val.strip('K')\n        val = float(val) # you cant change str to int directly, so I changed it to float first\n        thousand = int(val)*1000\n        return thousand\n    else:\n        val = val\n        return val\n\ndf['Hits'] = df['Hits'].apply(lambda x : change_value(x))",
      "metadata": {
        "trusted": true
      },
      "execution_count": 44,
      "outputs": []
    },
    {
      "cell_type": "code",
      "source": "# Changing the datatype to int\n\ndf['Hits'] = df['Hits'].astype(int)",
      "metadata": {
        "trusted": true
      },
      "execution_count": 45,
      "outputs": []
    },
    {
      "cell_type": "code",
      "source": "df[['Hits']].head()",
      "metadata": {
        "trusted": true
      },
      "execution_count": 46,
      "outputs": [
        {
          "execution_count": 46,
          "output_type": "execute_result",
          "data": {
            "text/plain": "   Hits\n0   771\n1   562\n2   150\n3   207\n4   595",
            "text/html": "<div>\n<style scoped>\n    .dataframe tbody tr th:only-of-type {\n        vertical-align: middle;\n    }\n\n    .dataframe tbody tr th {\n        vertical-align: top;\n    }\n\n    .dataframe thead th {\n        text-align: right;\n    }\n</style>\n<table border=\"1\" class=\"dataframe\">\n  <thead>\n    <tr style=\"text-align: right;\">\n      <th></th>\n      <th>Hits</th>\n    </tr>\n  </thead>\n  <tbody>\n    <tr>\n      <th>0</th>\n      <td>771</td>\n    </tr>\n    <tr>\n      <th>1</th>\n      <td>562</td>\n    </tr>\n    <tr>\n      <th>2</th>\n      <td>150</td>\n    </tr>\n    <tr>\n      <th>3</th>\n      <td>207</td>\n    </tr>\n    <tr>\n      <th>4</th>\n      <td>595</td>\n    </tr>\n  </tbody>\n</table>\n</div>"
          },
          "metadata": {}
        }
      ]
    },
    {
      "cell_type": "markdown",
      "source": "## 13. CALCULATING THE PERCENTAGE VALUE FOR THE SUMMED-UP COLUMNS\n\nWe want to get the percentage value for each row of the summed columns. This will be achieved by dividing each row of the summed column by it's highest possible value and multiplying by 100.\n\neg Attacking = Crossing, Finishing, Heading Accuracy, Short Passing, Volleys. The highest value for (Crossing, Finishing, Heading Accuracy, Short Passing, Volleys) is 100 each, so the collective highest possible value is 500. Then each row in attacking column will be divided by 500 and multiplied by 100 to get its percentage value.\n\nThe summed up columns are; Attacking, Skills, Movement, Power, Mentality, Defending and Goalkeeping\n\n",
      "metadata": {}
    },
    {
      "cell_type": "markdown",
      "source": "### 13.1 ATTACKING\n\nThis is the sum of Crossing, Finishing, Heading Accuracy, Short Passing, Volleys columns\n",
      "metadata": {}
    },
    {
      "cell_type": "code",
      "source": "def attacking(val):\n    val = (val/500) * 100\n    return val\n\ndf['Attacking_percentage'] = df['Attacking'].apply(lambda x: attacking(x))",
      "metadata": {
        "trusted": true
      },
      "execution_count": 47,
      "outputs": []
    },
    {
      "cell_type": "markdown",
      "source": "### 13.2 SKILLS\n\nThis is the sum of Dribbling, Curve, FK Accuracy, Long Passing, Ball control columns\n",
      "metadata": {}
    },
    {
      "cell_type": "code",
      "source": "def skill(val):\n    val = (val/500) * 100\n    return val\n\ndf['Skill_percentage'] = df['Skill'].apply(lambda x: skill(x))",
      "metadata": {
        "trusted": true
      },
      "execution_count": 48,
      "outputs": []
    },
    {
      "cell_type": "markdown",
      "source": "### 13.3 MOVEMENT\n\nThis is the sum of Acceleration, Sprint Speed, Agility, Reactions, Balance columns\n",
      "metadata": {}
    },
    {
      "cell_type": "code",
      "source": "def movement(val):\n    val = (val/500) * 100\n    return val\n\ndf['Movement_percentage'] = df['Movement'].apply(lambda x: movement(x))",
      "metadata": {
        "trusted": true
      },
      "execution_count": 49,
      "outputs": []
    },
    {
      "cell_type": "markdown",
      "source": "### 13.4 POWER\n\nThis is the sum of Shot Power, Jumping, Stamina, Strenght, Long shots columns\n",
      "metadata": {}
    },
    {
      "cell_type": "code",
      "source": "def power(val):\n    val = (val/500) * 100\n    return val\n\ndf['Power_percentage'] = df['Power'].apply(lambda x: power(x))",
      "metadata": {
        "trusted": true
      },
      "execution_count": 50,
      "outputs": []
    },
    {
      "cell_type": "markdown",
      "source": "### 13.5 MENTALITY\n\nThis is the sum of Aggression, Interceptions, Positioning, Vision, Penalities, Composure columns",
      "metadata": {}
    },
    {
      "cell_type": "code",
      "source": "def mentality(val):\n    val = round(((val/600) * 100),2)\n    return val\n\ndf['Mentality_percentage'] = df['Mentality'].apply(lambda x: mentality(x))",
      "metadata": {
        "trusted": true
      },
      "execution_count": 51,
      "outputs": []
    },
    {
      "cell_type": "markdown",
      "source": "### 13.6 DEFENDING\n\nThis is the sum of Marking, Standing Tackle, Sliding Tackle columns",
      "metadata": {}
    },
    {
      "cell_type": "code",
      "source": "def defending(val):\n    val = round(((val/300) * 100),2)\n    return val\n\ndf['Defending_percentage'] = df['Defending'].apply(lambda x: defending(x))",
      "metadata": {
        "trusted": true
      },
      "execution_count": 52,
      "outputs": []
    },
    {
      "cell_type": "markdown",
      "source": "### 13.7 GOALKEEPING\n\nThis is the sum of GK Diving, GK Handling, GK Kicking, GK Positioning, GK Reflexes columns\n",
      "metadata": {}
    },
    {
      "cell_type": "code",
      "source": "def goalkeeping(val):\n    val = (val/500) * 100\n    return val\n\ndf['GoalKeeping_percentage'] = df['Goalkeeping'].apply(lambda x: goalkeeping(x))",
      "metadata": {
        "trusted": true
      },
      "execution_count": 53,
      "outputs": []
    },
    {
      "cell_type": "markdown",
      "source": "### 13.8 DROPPING THE RELPLACED COLUMNS\n\n",
      "metadata": {}
    },
    {
      "cell_type": "code",
      "source": "df.drop(['Attacking','Skill','Movement', 'Power', 'Mentality', 'Defending', 'Goalkeeping' ], axis = 1, inplace = True )",
      "metadata": {
        "trusted": true
      },
      "execution_count": 54,
      "outputs": []
    },
    {
      "cell_type": "markdown",
      "source": "## 14. CHANGING THE COLUMN NAMES AND THEIR LOOK\n\n",
      "metadata": {}
    },
    {
      "cell_type": "code",
      "source": "# Rename the columns with symbols\ndf = df.rename(columns = {'↓OVA': 'OVA', 'W/F': 'WF', 'A/W': 'AW', 'D/W': 'DW'})\n\n# Change the columns to lowercase\ndf.columns = df.columns.str.lower()\n\n# Replace whitespace with underscore\ndf.columns = df.columns.str.replace(' ','_')",
      "metadata": {
        "trusted": true
      },
      "execution_count": 55,
      "outputs": []
    },
    {
      "cell_type": "code",
      "source": "df.columns",
      "metadata": {
        "trusted": true
      },
      "execution_count": 56,
      "outputs": [
        {
          "execution_count": 56,
          "output_type": "execute_result",
          "data": {
            "text/plain": "Index(['longname', 'nationality', 'age', 'ova', 'pot', 'club', 'positions',\n       'height', 'preferred_foot', 'bov', 'best_position', 'joined',\n       'crossing', 'finishing', 'heading_accuracy', 'short_passing', 'volleys',\n       'dribbling', 'curve', 'fk_accuracy', 'long_passing', 'ball_control',\n       'acceleration', 'sprint_speed', 'agility', 'reactions', 'balance',\n       'shot_power', 'jumping', 'stamina', 'strength', 'long_shots',\n       'aggression', 'interceptions', 'positioning', 'vision', 'penalties',\n       'composure', 'marking', 'standing_tackle', 'sliding_tackle',\n       'gk_diving', 'gk_handling', 'gk_kicking', 'gk_positioning',\n       'gk_reflexes', 'total_stats', 'base_stats', 'wf', 'sm', 'aw', 'dw',\n       'ir', 'pac', 'sho', 'pas', 'dri', 'def', 'phy', 'hits', 'contract_type',\n       'contract_start', 'contract_end', 'height_cm', 'weight_kg',\n       'value_euro', 'release_clause_euro', 'wage_euro',\n       'attacking_percentage', 'skill_percentage', 'movement_percentage',\n       'power_percentage', 'mentality_percentage', 'defending_percentage',\n       'goalkeeping_percentage'],\n      dtype='object')"
          },
          "metadata": {}
        }
      ]
    },
    {
      "cell_type": "markdown",
      "source": "### THIS BRINGS US TO THE END OF THE CLEANING ",
      "metadata": {}
    },
    {
      "cell_type": "markdown",
      "source": "## REVIEWING THE CLEANED DATASET ",
      "metadata": {}
    },
    {
      "cell_type": "code",
      "source": "df",
      "metadata": {
        "trusted": true
      },
      "execution_count": 57,
      "outputs": [
        {
          "execution_count": 57,
          "output_type": "execute_result",
          "data": {
            "text/plain": "                           longname nationality  age  ova  pot  \\\n0                      Lionel Messi   Argentina   33   93   93   \n1      C. Ronaldo dos Santos Aveiro    Portugal   35   92   92   \n2                         Jan Oblak    Slovenia   27   91   93   \n3                   Kevin De Bruyne     Belgium   29   91   91   \n4        Neymar da Silva Santos Jr.      Brazil   28   91   91   \n...                             ...         ...  ...  ...  ...   \n18974                        Ao Xia    China PR   21   47   55   \n18975                     Ben Hough     England   17   47   67   \n18976                Ronan McKinley     England   18   47   65   \n18977                  Zhen'ao Wang    China PR   20   47   57   \n18978                     Xiao Zhou    China PR   21   47   57   \n\n                      club   positions height preferred_foot  bov  \\\n0             FC Barcelona  RW, ST, CF  170cm           Left   93   \n1                 Juventus      ST, LW  187cm          Right   92   \n2          Atlético Madrid          GK  188cm          Right   91   \n3          Manchester City     CAM, CM  181cm          Right   91   \n4      Paris Saint-Germain     LW, CAM  175cm          Right   91   \n...                    ...         ...    ...            ...  ...   \n18974           Wuhan Zall          CB  178cm          Right   49   \n18975      Oldham Athletic          CM  175cm          Right   51   \n18976           Derry City          CM  179cm          Right   49   \n18977     Dalian YiFang FC          RW  175cm          Right   48   \n18978     Dalian YiFang FC      CB, LB  188cm           Left   50   \n\n      best_position     joined  crossing  finishing  heading_accuracy  \\\n0                RW 2004-07-01        85         95                70   \n1                ST 2018-07-10        84         95                90   \n2                GK 2014-07-16        13         11                15   \n3               CAM 2015-08-30        94         82                55   \n4                LW 2017-08-03        85         87                62   \n...             ...        ...       ...        ...               ...   \n18974            CB 2018-07-13        23         26                43   \n18975           CAM 2020-08-01        38         42                40   \n18976           CAM 2019-03-08        30         34                43   \n18977            ST 2020-09-22        45         52                34   \n18978            LB 2019-07-29        40         18                40   \n\n       short_passing  volleys  dribbling  curve  fk_accuracy  long_passing  \\\n0                 91       88         96     93           94            91   \n1                 82       86         88     81           76            77   \n2                 43       13         12     13           14            40   \n3                 94       82         88     85           83            93   \n4                 87       87         95     88           89            81   \n...              ...      ...        ...    ...          ...           ...   \n18974             26       27         27     23           21            29   \n18975             56       35         46     40           35            50   \n18976             54       39         43     39           31            47   \n18977             42       42         51     35           31            31   \n18978             45       20         40     33           20            40   \n\n       ball_control  acceleration  sprint_speed  agility  reactions  balance  \\\n0                96            91            80       91         94       95   \n1                92            87            91       87         95       71   \n2                30            43            60       67         88       49   \n3                92            77            76       78         91       76   \n4                95            94            89       96         91       83   \n...             ...           ...           ...      ...        ...      ...   \n18974            42            68            60       69         46       51   \n18975            48            63            64       61         51       66   \n18976            47            59            66       51         47       67   \n18977            46            62            55       50         33       54   \n18978            38            60            63       57         47       52   \n\n       shot_power  jumping  stamina  strength  long_shots  aggression  \\\n0              86       68       72        69          94          44   \n1              94       95       84        78          93          63   \n2              59       78       41        78          12          34   \n3              91       63       89        74          91          76   \n4              80       62       81        50          84          51   \n...           ...      ...      ...       ...         ...         ...   \n18974          36       57       54        50          24          48   \n18975          48       58       43        47          30          40   \n18976          45       52       50        54          41          56   \n18977          56       45       46        48          40          31   \n18978          37       66       60        55          13          45   \n\n       interceptions  positioning  vision  penalties  composure  marking  \\\n0                 40           93      95         75         96       32   \n1                 29           95      82         84         95       28   \n2                 19           11      65         11         68       27   \n3                 66           88      94         84         91       68   \n4                 36           87      90         92         93       35   \n...              ...          ...     ...        ...        ...      ...   \n18974             50           28      28         38         44       45   \n18975             23           47      47         36         38       32   \n18976             42           47      43         42         43       33   \n18977             25           42      46         46         45       26   \n18978             47           33      33         27         33       45   \n\n       standing_tackle  sliding_tackle  gk_diving  gk_handling  gk_kicking  \\\n0                   35              24          6           11          15   \n1                   32              24          7           11          15   \n2                   12              18         87           92          78   \n3                   65              53         15           13           5   \n4                   30              29          9            9          15   \n...                ...             ...        ...          ...         ...   \n18974               52              50          7            8           5   \n18975               44              40         12           10           9   \n18976               43              45         13           12           6   \n18977               32              42         14           12           9   \n18978               46              45         10           11           7   \n\n       gk_positioning  gk_reflexes  total_stats  base_stats  wf  sm      aw  \\\n0                  14            8         2231         466   4   4  Medium   \n1                  14           11         2221         464   4   5    High   \n2                  90           90         1413         489   3   1  Medium   \n3                  10           13         2304         485   5   4    High   \n4                  15           11         2175         451   5   5    High   \n...               ...          ...          ...         ...  ..  ..     ...   \n18974              14           11         1186         255   2   2  Medium   \n18975               6            8         1315         281   2   2  Medium   \n18976               6           11         1338         285   2   2  Medium   \n18977               8           12         1243         271   3   2  Medium   \n18978              10           12         1215         265   3   2  Medium   \n\n           dw  ir  pac  sho  pas  dri  def  phy  hits   contract_type  \\\n0         Low   5   85   92   91   95   38   65   771  Under Contract   \n1         Low   5   89   93   81   89   35   77   562  Under Contract   \n2      Medium   3   87   92   78   90   52   90   150  Under Contract   \n3        High   4   76   86   93   88   64   78   207  Under Contract   \n4      Medium   5   91   85   86   94   36   59   595  Under Contract   \n...       ...  ..  ...  ...  ...  ...  ...  ...   ...             ...   \n18974  Medium   1   64   28   26   38   48   51     0  Under Contract   \n18975  Medium   1   64   40   48   49   35   45     0  Under Contract   \n18976  Medium   1   63   39   44   46   40   53     0  Under Contract   \n18977  Medium   1   58   49   41   49   30   44     0  Under Contract   \n18978  Medium   1   62   22   39   42   45   55     0  Under Contract   \n\n      contract_start contract_end  height_cm  weight_kg   value_euro  \\\n0               2004         2021      170.0       72.0  103500000.0   \n1               2018         2022      187.0       83.0   63000000.0   \n2               2014         2023      188.0       87.0  120000000.0   \n3               2015         2023      181.0       70.0  129000000.0   \n4               2017         2022      175.0       68.0  132000000.0   \n...              ...          ...        ...        ...          ...   \n18974           2018         2022      178.0       66.0     100000.0   \n18975           2020         2021      175.0       65.0     130000.0   \n18976           2019         2020      179.0       74.0     120000.0   \n18977           2020         2022      175.0       69.0     100000.0   \n18978           2019         2023      188.0       75.0     100000.0   \n\n       release_clause_euro  wage_euro  attacking_percentage  skill_percentage  \\\n0              138400000.0   560000.0                  85.8              94.0   \n1               75900000.0   220000.0                  87.4              82.8   \n2              159400000.0   125000.0                  19.0              21.8   \n3              161000000.0   370000.0                  81.4              88.2   \n4              166500000.0   270000.0                  81.6              89.6   \n...                    ...        ...                   ...               ...   \n18974              70000.0     1000.0                  29.0              28.4   \n18975             165000.0      500.0                  42.2              43.8   \n18976             131000.0      500.0                  40.0              41.4   \n18977              88000.0     2000.0                  43.0              38.8   \n18978              79000.0     1000.0                  32.6              34.2   \n\n       movement_percentage  power_percentage  mentality_percentage  \\\n0                     90.2              77.8                 57.83   \n1                     86.2              88.8                 58.83   \n2                     61.4              53.6                 23.33   \n3                     79.6              81.6                 68.00   \n4                     90.6              71.4                 59.33   \n...                    ...               ...                   ...   \n18974                 58.8              44.2                 32.00   \n18975                 61.0              45.2                 32.17   \n18976                 58.0              48.4                 38.33   \n18977                 50.8              47.0                 31.67   \n18978                 55.8              46.2                 30.83   \n\n       defending_percentage  goalkeeping_percentage  \n0                     30.33                    10.8  \n1                     28.00                    11.6  \n2                     19.00                    87.4  \n3                     62.00                    11.2  \n4                     31.33                    11.8  \n...                     ...                     ...  \n18974                 49.00                     9.0  \n18975                 38.67                     9.0  \n18976                 40.33                     9.6  \n18977                 33.33                    11.0  \n18978                 45.33                    10.0  \n\n[18979 rows x 75 columns]",
            "text/html": "<div>\n<style scoped>\n    .dataframe tbody tr th:only-of-type {\n        vertical-align: middle;\n    }\n\n    .dataframe tbody tr th {\n        vertical-align: top;\n    }\n\n    .dataframe thead th {\n        text-align: right;\n    }\n</style>\n<table border=\"1\" class=\"dataframe\">\n  <thead>\n    <tr style=\"text-align: right;\">\n      <th></th>\n      <th>longname</th>\n      <th>nationality</th>\n      <th>age</th>\n      <th>ova</th>\n      <th>pot</th>\n      <th>club</th>\n      <th>positions</th>\n      <th>height</th>\n      <th>preferred_foot</th>\n      <th>bov</th>\n      <th>best_position</th>\n      <th>joined</th>\n      <th>crossing</th>\n      <th>finishing</th>\n      <th>heading_accuracy</th>\n      <th>short_passing</th>\n      <th>volleys</th>\n      <th>dribbling</th>\n      <th>curve</th>\n      <th>fk_accuracy</th>\n      <th>long_passing</th>\n      <th>ball_control</th>\n      <th>acceleration</th>\n      <th>sprint_speed</th>\n      <th>agility</th>\n      <th>reactions</th>\n      <th>balance</th>\n      <th>shot_power</th>\n      <th>jumping</th>\n      <th>stamina</th>\n      <th>strength</th>\n      <th>long_shots</th>\n      <th>aggression</th>\n      <th>interceptions</th>\n      <th>positioning</th>\n      <th>vision</th>\n      <th>penalties</th>\n      <th>composure</th>\n      <th>marking</th>\n      <th>standing_tackle</th>\n      <th>sliding_tackle</th>\n      <th>gk_diving</th>\n      <th>gk_handling</th>\n      <th>gk_kicking</th>\n      <th>gk_positioning</th>\n      <th>gk_reflexes</th>\n      <th>total_stats</th>\n      <th>base_stats</th>\n      <th>wf</th>\n      <th>sm</th>\n      <th>aw</th>\n      <th>dw</th>\n      <th>ir</th>\n      <th>pac</th>\n      <th>sho</th>\n      <th>pas</th>\n      <th>dri</th>\n      <th>def</th>\n      <th>phy</th>\n      <th>hits</th>\n      <th>contract_type</th>\n      <th>contract_start</th>\n      <th>contract_end</th>\n      <th>height_cm</th>\n      <th>weight_kg</th>\n      <th>value_euro</th>\n      <th>release_clause_euro</th>\n      <th>wage_euro</th>\n      <th>attacking_percentage</th>\n      <th>skill_percentage</th>\n      <th>movement_percentage</th>\n      <th>power_percentage</th>\n      <th>mentality_percentage</th>\n      <th>defending_percentage</th>\n      <th>goalkeeping_percentage</th>\n    </tr>\n  </thead>\n  <tbody>\n    <tr>\n      <th>0</th>\n      <td>Lionel Messi</td>\n      <td>Argentina</td>\n      <td>33</td>\n      <td>93</td>\n      <td>93</td>\n      <td>FC Barcelona</td>\n      <td>RW, ST, CF</td>\n      <td>170cm</td>\n      <td>Left</td>\n      <td>93</td>\n      <td>RW</td>\n      <td>2004-07-01</td>\n      <td>85</td>\n      <td>95</td>\n      <td>70</td>\n      <td>91</td>\n      <td>88</td>\n      <td>96</td>\n      <td>93</td>\n      <td>94</td>\n      <td>91</td>\n      <td>96</td>\n      <td>91</td>\n      <td>80</td>\n      <td>91</td>\n      <td>94</td>\n      <td>95</td>\n      <td>86</td>\n      <td>68</td>\n      <td>72</td>\n      <td>69</td>\n      <td>94</td>\n      <td>44</td>\n      <td>40</td>\n      <td>93</td>\n      <td>95</td>\n      <td>75</td>\n      <td>96</td>\n      <td>32</td>\n      <td>35</td>\n      <td>24</td>\n      <td>6</td>\n      <td>11</td>\n      <td>15</td>\n      <td>14</td>\n      <td>8</td>\n      <td>2231</td>\n      <td>466</td>\n      <td>4</td>\n      <td>4</td>\n      <td>Medium</td>\n      <td>Low</td>\n      <td>5</td>\n      <td>85</td>\n      <td>92</td>\n      <td>91</td>\n      <td>95</td>\n      <td>38</td>\n      <td>65</td>\n      <td>771</td>\n      <td>Under Contract</td>\n      <td>2004</td>\n      <td>2021</td>\n      <td>170.0</td>\n      <td>72.0</td>\n      <td>103500000.0</td>\n      <td>138400000.0</td>\n      <td>560000.0</td>\n      <td>85.8</td>\n      <td>94.0</td>\n      <td>90.2</td>\n      <td>77.8</td>\n      <td>57.83</td>\n      <td>30.33</td>\n      <td>10.8</td>\n    </tr>\n    <tr>\n      <th>1</th>\n      <td>C. Ronaldo dos Santos Aveiro</td>\n      <td>Portugal</td>\n      <td>35</td>\n      <td>92</td>\n      <td>92</td>\n      <td>Juventus</td>\n      <td>ST, LW</td>\n      <td>187cm</td>\n      <td>Right</td>\n      <td>92</td>\n      <td>ST</td>\n      <td>2018-07-10</td>\n      <td>84</td>\n      <td>95</td>\n      <td>90</td>\n      <td>82</td>\n      <td>86</td>\n      <td>88</td>\n      <td>81</td>\n      <td>76</td>\n      <td>77</td>\n      <td>92</td>\n      <td>87</td>\n      <td>91</td>\n      <td>87</td>\n      <td>95</td>\n      <td>71</td>\n      <td>94</td>\n      <td>95</td>\n      <td>84</td>\n      <td>78</td>\n      <td>93</td>\n      <td>63</td>\n      <td>29</td>\n      <td>95</td>\n      <td>82</td>\n      <td>84</td>\n      <td>95</td>\n      <td>28</td>\n      <td>32</td>\n      <td>24</td>\n      <td>7</td>\n      <td>11</td>\n      <td>15</td>\n      <td>14</td>\n      <td>11</td>\n      <td>2221</td>\n      <td>464</td>\n      <td>4</td>\n      <td>5</td>\n      <td>High</td>\n      <td>Low</td>\n      <td>5</td>\n      <td>89</td>\n      <td>93</td>\n      <td>81</td>\n      <td>89</td>\n      <td>35</td>\n      <td>77</td>\n      <td>562</td>\n      <td>Under Contract</td>\n      <td>2018</td>\n      <td>2022</td>\n      <td>187.0</td>\n      <td>83.0</td>\n      <td>63000000.0</td>\n      <td>75900000.0</td>\n      <td>220000.0</td>\n      <td>87.4</td>\n      <td>82.8</td>\n      <td>86.2</td>\n      <td>88.8</td>\n      <td>58.83</td>\n      <td>28.00</td>\n      <td>11.6</td>\n    </tr>\n    <tr>\n      <th>2</th>\n      <td>Jan Oblak</td>\n      <td>Slovenia</td>\n      <td>27</td>\n      <td>91</td>\n      <td>93</td>\n      <td>Atlético Madrid</td>\n      <td>GK</td>\n      <td>188cm</td>\n      <td>Right</td>\n      <td>91</td>\n      <td>GK</td>\n      <td>2014-07-16</td>\n      <td>13</td>\n      <td>11</td>\n      <td>15</td>\n      <td>43</td>\n      <td>13</td>\n      <td>12</td>\n      <td>13</td>\n      <td>14</td>\n      <td>40</td>\n      <td>30</td>\n      <td>43</td>\n      <td>60</td>\n      <td>67</td>\n      <td>88</td>\n      <td>49</td>\n      <td>59</td>\n      <td>78</td>\n      <td>41</td>\n      <td>78</td>\n      <td>12</td>\n      <td>34</td>\n      <td>19</td>\n      <td>11</td>\n      <td>65</td>\n      <td>11</td>\n      <td>68</td>\n      <td>27</td>\n      <td>12</td>\n      <td>18</td>\n      <td>87</td>\n      <td>92</td>\n      <td>78</td>\n      <td>90</td>\n      <td>90</td>\n      <td>1413</td>\n      <td>489</td>\n      <td>3</td>\n      <td>1</td>\n      <td>Medium</td>\n      <td>Medium</td>\n      <td>3</td>\n      <td>87</td>\n      <td>92</td>\n      <td>78</td>\n      <td>90</td>\n      <td>52</td>\n      <td>90</td>\n      <td>150</td>\n      <td>Under Contract</td>\n      <td>2014</td>\n      <td>2023</td>\n      <td>188.0</td>\n      <td>87.0</td>\n      <td>120000000.0</td>\n      <td>159400000.0</td>\n      <td>125000.0</td>\n      <td>19.0</td>\n      <td>21.8</td>\n      <td>61.4</td>\n      <td>53.6</td>\n      <td>23.33</td>\n      <td>19.00</td>\n      <td>87.4</td>\n    </tr>\n    <tr>\n      <th>3</th>\n      <td>Kevin De Bruyne</td>\n      <td>Belgium</td>\n      <td>29</td>\n      <td>91</td>\n      <td>91</td>\n      <td>Manchester City</td>\n      <td>CAM, CM</td>\n      <td>181cm</td>\n      <td>Right</td>\n      <td>91</td>\n      <td>CAM</td>\n      <td>2015-08-30</td>\n      <td>94</td>\n      <td>82</td>\n      <td>55</td>\n      <td>94</td>\n      <td>82</td>\n      <td>88</td>\n      <td>85</td>\n      <td>83</td>\n      <td>93</td>\n      <td>92</td>\n      <td>77</td>\n      <td>76</td>\n      <td>78</td>\n      <td>91</td>\n      <td>76</td>\n      <td>91</td>\n      <td>63</td>\n      <td>89</td>\n      <td>74</td>\n      <td>91</td>\n      <td>76</td>\n      <td>66</td>\n      <td>88</td>\n      <td>94</td>\n      <td>84</td>\n      <td>91</td>\n      <td>68</td>\n      <td>65</td>\n      <td>53</td>\n      <td>15</td>\n      <td>13</td>\n      <td>5</td>\n      <td>10</td>\n      <td>13</td>\n      <td>2304</td>\n      <td>485</td>\n      <td>5</td>\n      <td>4</td>\n      <td>High</td>\n      <td>High</td>\n      <td>4</td>\n      <td>76</td>\n      <td>86</td>\n      <td>93</td>\n      <td>88</td>\n      <td>64</td>\n      <td>78</td>\n      <td>207</td>\n      <td>Under Contract</td>\n      <td>2015</td>\n      <td>2023</td>\n      <td>181.0</td>\n      <td>70.0</td>\n      <td>129000000.0</td>\n      <td>161000000.0</td>\n      <td>370000.0</td>\n      <td>81.4</td>\n      <td>88.2</td>\n      <td>79.6</td>\n      <td>81.6</td>\n      <td>68.00</td>\n      <td>62.00</td>\n      <td>11.2</td>\n    </tr>\n    <tr>\n      <th>4</th>\n      <td>Neymar da Silva Santos Jr.</td>\n      <td>Brazil</td>\n      <td>28</td>\n      <td>91</td>\n      <td>91</td>\n      <td>Paris Saint-Germain</td>\n      <td>LW, CAM</td>\n      <td>175cm</td>\n      <td>Right</td>\n      <td>91</td>\n      <td>LW</td>\n      <td>2017-08-03</td>\n      <td>85</td>\n      <td>87</td>\n      <td>62</td>\n      <td>87</td>\n      <td>87</td>\n      <td>95</td>\n      <td>88</td>\n      <td>89</td>\n      <td>81</td>\n      <td>95</td>\n      <td>94</td>\n      <td>89</td>\n      <td>96</td>\n      <td>91</td>\n      <td>83</td>\n      <td>80</td>\n      <td>62</td>\n      <td>81</td>\n      <td>50</td>\n      <td>84</td>\n      <td>51</td>\n      <td>36</td>\n      <td>87</td>\n      <td>90</td>\n      <td>92</td>\n      <td>93</td>\n      <td>35</td>\n      <td>30</td>\n      <td>29</td>\n      <td>9</td>\n      <td>9</td>\n      <td>15</td>\n      <td>15</td>\n      <td>11</td>\n      <td>2175</td>\n      <td>451</td>\n      <td>5</td>\n      <td>5</td>\n      <td>High</td>\n      <td>Medium</td>\n      <td>5</td>\n      <td>91</td>\n      <td>85</td>\n      <td>86</td>\n      <td>94</td>\n      <td>36</td>\n      <td>59</td>\n      <td>595</td>\n      <td>Under Contract</td>\n      <td>2017</td>\n      <td>2022</td>\n      <td>175.0</td>\n      <td>68.0</td>\n      <td>132000000.0</td>\n      <td>166500000.0</td>\n      <td>270000.0</td>\n      <td>81.6</td>\n      <td>89.6</td>\n      <td>90.6</td>\n      <td>71.4</td>\n      <td>59.33</td>\n      <td>31.33</td>\n      <td>11.8</td>\n    </tr>\n    <tr>\n      <th>...</th>\n      <td>...</td>\n      <td>...</td>\n      <td>...</td>\n      <td>...</td>\n      <td>...</td>\n      <td>...</td>\n      <td>...</td>\n      <td>...</td>\n      <td>...</td>\n      <td>...</td>\n      <td>...</td>\n      <td>...</td>\n      <td>...</td>\n      <td>...</td>\n      <td>...</td>\n      <td>...</td>\n      <td>...</td>\n      <td>...</td>\n      <td>...</td>\n      <td>...</td>\n      <td>...</td>\n      <td>...</td>\n      <td>...</td>\n      <td>...</td>\n      <td>...</td>\n      <td>...</td>\n      <td>...</td>\n      <td>...</td>\n      <td>...</td>\n      <td>...</td>\n      <td>...</td>\n      <td>...</td>\n      <td>...</td>\n      <td>...</td>\n      <td>...</td>\n      <td>...</td>\n      <td>...</td>\n      <td>...</td>\n      <td>...</td>\n      <td>...</td>\n      <td>...</td>\n      <td>...</td>\n      <td>...</td>\n      <td>...</td>\n      <td>...</td>\n      <td>...</td>\n      <td>...</td>\n      <td>...</td>\n      <td>...</td>\n      <td>...</td>\n      <td>...</td>\n      <td>...</td>\n      <td>...</td>\n      <td>...</td>\n      <td>...</td>\n      <td>...</td>\n      <td>...</td>\n      <td>...</td>\n      <td>...</td>\n      <td>...</td>\n      <td>...</td>\n      <td>...</td>\n      <td>...</td>\n      <td>...</td>\n      <td>...</td>\n      <td>...</td>\n      <td>...</td>\n      <td>...</td>\n      <td>...</td>\n      <td>...</td>\n      <td>...</td>\n      <td>...</td>\n      <td>...</td>\n      <td>...</td>\n      <td>...</td>\n    </tr>\n    <tr>\n      <th>18974</th>\n      <td>Ao Xia</td>\n      <td>China PR</td>\n      <td>21</td>\n      <td>47</td>\n      <td>55</td>\n      <td>Wuhan Zall</td>\n      <td>CB</td>\n      <td>178cm</td>\n      <td>Right</td>\n      <td>49</td>\n      <td>CB</td>\n      <td>2018-07-13</td>\n      <td>23</td>\n      <td>26</td>\n      <td>43</td>\n      <td>26</td>\n      <td>27</td>\n      <td>27</td>\n      <td>23</td>\n      <td>21</td>\n      <td>29</td>\n      <td>42</td>\n      <td>68</td>\n      <td>60</td>\n      <td>69</td>\n      <td>46</td>\n      <td>51</td>\n      <td>36</td>\n      <td>57</td>\n      <td>54</td>\n      <td>50</td>\n      <td>24</td>\n      <td>48</td>\n      <td>50</td>\n      <td>28</td>\n      <td>28</td>\n      <td>38</td>\n      <td>44</td>\n      <td>45</td>\n      <td>52</td>\n      <td>50</td>\n      <td>7</td>\n      <td>8</td>\n      <td>5</td>\n      <td>14</td>\n      <td>11</td>\n      <td>1186</td>\n      <td>255</td>\n      <td>2</td>\n      <td>2</td>\n      <td>Medium</td>\n      <td>Medium</td>\n      <td>1</td>\n      <td>64</td>\n      <td>28</td>\n      <td>26</td>\n      <td>38</td>\n      <td>48</td>\n      <td>51</td>\n      <td>0</td>\n      <td>Under Contract</td>\n      <td>2018</td>\n      <td>2022</td>\n      <td>178.0</td>\n      <td>66.0</td>\n      <td>100000.0</td>\n      <td>70000.0</td>\n      <td>1000.0</td>\n      <td>29.0</td>\n      <td>28.4</td>\n      <td>58.8</td>\n      <td>44.2</td>\n      <td>32.00</td>\n      <td>49.00</td>\n      <td>9.0</td>\n    </tr>\n    <tr>\n      <th>18975</th>\n      <td>Ben Hough</td>\n      <td>England</td>\n      <td>17</td>\n      <td>47</td>\n      <td>67</td>\n      <td>Oldham Athletic</td>\n      <td>CM</td>\n      <td>175cm</td>\n      <td>Right</td>\n      <td>51</td>\n      <td>CAM</td>\n      <td>2020-08-01</td>\n      <td>38</td>\n      <td>42</td>\n      <td>40</td>\n      <td>56</td>\n      <td>35</td>\n      <td>46</td>\n      <td>40</td>\n      <td>35</td>\n      <td>50</td>\n      <td>48</td>\n      <td>63</td>\n      <td>64</td>\n      <td>61</td>\n      <td>51</td>\n      <td>66</td>\n      <td>48</td>\n      <td>58</td>\n      <td>43</td>\n      <td>47</td>\n      <td>30</td>\n      <td>40</td>\n      <td>23</td>\n      <td>47</td>\n      <td>47</td>\n      <td>36</td>\n      <td>38</td>\n      <td>32</td>\n      <td>44</td>\n      <td>40</td>\n      <td>12</td>\n      <td>10</td>\n      <td>9</td>\n      <td>6</td>\n      <td>8</td>\n      <td>1315</td>\n      <td>281</td>\n      <td>2</td>\n      <td>2</td>\n      <td>Medium</td>\n      <td>Medium</td>\n      <td>1</td>\n      <td>64</td>\n      <td>40</td>\n      <td>48</td>\n      <td>49</td>\n      <td>35</td>\n      <td>45</td>\n      <td>0</td>\n      <td>Under Contract</td>\n      <td>2020</td>\n      <td>2021</td>\n      <td>175.0</td>\n      <td>65.0</td>\n      <td>130000.0</td>\n      <td>165000.0</td>\n      <td>500.0</td>\n      <td>42.2</td>\n      <td>43.8</td>\n      <td>61.0</td>\n      <td>45.2</td>\n      <td>32.17</td>\n      <td>38.67</td>\n      <td>9.0</td>\n    </tr>\n    <tr>\n      <th>18976</th>\n      <td>Ronan McKinley</td>\n      <td>England</td>\n      <td>18</td>\n      <td>47</td>\n      <td>65</td>\n      <td>Derry City</td>\n      <td>CM</td>\n      <td>179cm</td>\n      <td>Right</td>\n      <td>49</td>\n      <td>CAM</td>\n      <td>2019-03-08</td>\n      <td>30</td>\n      <td>34</td>\n      <td>43</td>\n      <td>54</td>\n      <td>39</td>\n      <td>43</td>\n      <td>39</td>\n      <td>31</td>\n      <td>47</td>\n      <td>47</td>\n      <td>59</td>\n      <td>66</td>\n      <td>51</td>\n      <td>47</td>\n      <td>67</td>\n      <td>45</td>\n      <td>52</td>\n      <td>50</td>\n      <td>54</td>\n      <td>41</td>\n      <td>56</td>\n      <td>42</td>\n      <td>47</td>\n      <td>43</td>\n      <td>42</td>\n      <td>43</td>\n      <td>33</td>\n      <td>43</td>\n      <td>45</td>\n      <td>13</td>\n      <td>12</td>\n      <td>6</td>\n      <td>6</td>\n      <td>11</td>\n      <td>1338</td>\n      <td>285</td>\n      <td>2</td>\n      <td>2</td>\n      <td>Medium</td>\n      <td>Medium</td>\n      <td>1</td>\n      <td>63</td>\n      <td>39</td>\n      <td>44</td>\n      <td>46</td>\n      <td>40</td>\n      <td>53</td>\n      <td>0</td>\n      <td>Under Contract</td>\n      <td>2019</td>\n      <td>2020</td>\n      <td>179.0</td>\n      <td>74.0</td>\n      <td>120000.0</td>\n      <td>131000.0</td>\n      <td>500.0</td>\n      <td>40.0</td>\n      <td>41.4</td>\n      <td>58.0</td>\n      <td>48.4</td>\n      <td>38.33</td>\n      <td>40.33</td>\n      <td>9.6</td>\n    </tr>\n    <tr>\n      <th>18977</th>\n      <td>Zhen'ao Wang</td>\n      <td>China PR</td>\n      <td>20</td>\n      <td>47</td>\n      <td>57</td>\n      <td>Dalian YiFang FC</td>\n      <td>RW</td>\n      <td>175cm</td>\n      <td>Right</td>\n      <td>48</td>\n      <td>ST</td>\n      <td>2020-09-22</td>\n      <td>45</td>\n      <td>52</td>\n      <td>34</td>\n      <td>42</td>\n      <td>42</td>\n      <td>51</td>\n      <td>35</td>\n      <td>31</td>\n      <td>31</td>\n      <td>46</td>\n      <td>62</td>\n      <td>55</td>\n      <td>50</td>\n      <td>33</td>\n      <td>54</td>\n      <td>56</td>\n      <td>45</td>\n      <td>46</td>\n      <td>48</td>\n      <td>40</td>\n      <td>31</td>\n      <td>25</td>\n      <td>42</td>\n      <td>46</td>\n      <td>46</td>\n      <td>45</td>\n      <td>26</td>\n      <td>32</td>\n      <td>42</td>\n      <td>14</td>\n      <td>12</td>\n      <td>9</td>\n      <td>8</td>\n      <td>12</td>\n      <td>1243</td>\n      <td>271</td>\n      <td>3</td>\n      <td>2</td>\n      <td>Medium</td>\n      <td>Medium</td>\n      <td>1</td>\n      <td>58</td>\n      <td>49</td>\n      <td>41</td>\n      <td>49</td>\n      <td>30</td>\n      <td>44</td>\n      <td>0</td>\n      <td>Under Contract</td>\n      <td>2020</td>\n      <td>2022</td>\n      <td>175.0</td>\n      <td>69.0</td>\n      <td>100000.0</td>\n      <td>88000.0</td>\n      <td>2000.0</td>\n      <td>43.0</td>\n      <td>38.8</td>\n      <td>50.8</td>\n      <td>47.0</td>\n      <td>31.67</td>\n      <td>33.33</td>\n      <td>11.0</td>\n    </tr>\n    <tr>\n      <th>18978</th>\n      <td>Xiao Zhou</td>\n      <td>China PR</td>\n      <td>21</td>\n      <td>47</td>\n      <td>57</td>\n      <td>Dalian YiFang FC</td>\n      <td>CB, LB</td>\n      <td>188cm</td>\n      <td>Left</td>\n      <td>50</td>\n      <td>LB</td>\n      <td>2019-07-29</td>\n      <td>40</td>\n      <td>18</td>\n      <td>40</td>\n      <td>45</td>\n      <td>20</td>\n      <td>40</td>\n      <td>33</td>\n      <td>20</td>\n      <td>40</td>\n      <td>38</td>\n      <td>60</td>\n      <td>63</td>\n      <td>57</td>\n      <td>47</td>\n      <td>52</td>\n      <td>37</td>\n      <td>66</td>\n      <td>60</td>\n      <td>55</td>\n      <td>13</td>\n      <td>45</td>\n      <td>47</td>\n      <td>33</td>\n      <td>33</td>\n      <td>27</td>\n      <td>33</td>\n      <td>45</td>\n      <td>46</td>\n      <td>45</td>\n      <td>10</td>\n      <td>11</td>\n      <td>7</td>\n      <td>10</td>\n      <td>12</td>\n      <td>1215</td>\n      <td>265</td>\n      <td>3</td>\n      <td>2</td>\n      <td>Medium</td>\n      <td>Medium</td>\n      <td>1</td>\n      <td>62</td>\n      <td>22</td>\n      <td>39</td>\n      <td>42</td>\n      <td>45</td>\n      <td>55</td>\n      <td>0</td>\n      <td>Under Contract</td>\n      <td>2019</td>\n      <td>2023</td>\n      <td>188.0</td>\n      <td>75.0</td>\n      <td>100000.0</td>\n      <td>79000.0</td>\n      <td>1000.0</td>\n      <td>32.6</td>\n      <td>34.2</td>\n      <td>55.8</td>\n      <td>46.2</td>\n      <td>30.83</td>\n      <td>45.33</td>\n      <td>10.0</td>\n    </tr>\n  </tbody>\n</table>\n<p>18979 rows × 75 columns</p>\n</div>"
          },
          "metadata": {}
        }
      ]
    },
    {
      "cell_type": "code",
      "source": "for names in df.columns:\n    values = df[names].unique()\n    print( f'{names} - {values}\\n')",
      "metadata": {
        "trusted": true
      },
      "execution_count": 58,
      "outputs": [
        {
          "name": "stdout",
          "text": "longname - ['Lionel Messi' 'C. Ronaldo dos Santos Aveiro' 'Jan Oblak' ...\n 'Ronan McKinley' \"Zhen'ao Wang\" 'Xiao Zhou']\n\nnationality - ['Argentina' 'Portugal' 'Slovenia' 'Belgium' 'Brazil' 'Poland' 'Egypt'\n 'France' 'Germany' 'Netherlands' 'Senegal' 'Spain' 'England' 'Scotland'\n 'Korea Republic' 'Costa Rica' 'Italy' 'Gabon' 'Croatia' 'Uruguay'\n 'Switzerland' 'Serbia' 'Slovakia' 'Morocco' 'Algeria' 'Denmark' 'Hungary'\n 'Bosnia Herzegovina' 'Nigeria' 'Cameroon' 'Norway' 'Ghana' 'Mexico'\n 'Austria' 'Albania' 'Colombia' 'Chile' 'Ivory Coast' 'Greece' 'Finland'\n 'Wales' 'Sweden' 'Togo' 'Czech Republic' 'Russia' 'Venezuela' 'Canada'\n 'United States' 'Guinea' 'Montenegro' 'Israel' 'Republic of Ireland'\n 'Ukraine' 'Turkey' 'Ecuador' 'Jamaica' 'DR Congo' 'Australia' 'China PR'\n 'Armenia' 'Northern Ireland' 'North Macedonia' 'Kosovo' 'Mali' 'Peru'\n 'Central African Republic' 'Iceland' 'Burkina Faso' 'Paraguay' 'Japan'\n 'Romania' 'New Zealand' 'Iran' 'Angola' 'Tunisia' 'Syria'\n 'Dominican Republic' 'Cape Verde' 'Equatorial Guinea' 'Kenya' 'Georgia'\n 'Panama' 'Zambia' 'Tanzania' 'Zimbabwe' 'Congo' 'South Africa' 'Moldova'\n 'Mozambique' 'Iraq' 'Guinea Bissau' 'Honduras' 'Cuba' 'Cyprus'\n 'Lithuania' 'Estonia' 'Madagascar' 'Benin' 'Curacao' 'Saudi Arabia'\n 'Gambia' 'Uzbekistan' 'Chad' 'United Arab Emirates'\n 'Saint Kitts and Nevis' 'Libya' 'Sierra Leone' 'Philippines' 'Liberia'\n 'Bulgaria' 'Comoros' 'Namibia' 'Luxembourg' 'Trinidad & Tobago' 'Bermuda'\n 'Thailand' 'Burundi' 'New Caledonia' 'Puerto Rico' 'Bolivia' 'Kazakhstan'\n 'Antigua & Barbuda' 'Latvia' 'Malawi' 'Montserrat' 'São Tomé & Príncipe'\n 'El Salvador' 'Mauritania' 'Jordan' 'Eritrea' 'Aruba' 'Uganda'\n 'Chinese Taipei' 'Azerbaijan' 'Afghanistan' 'Faroe Islands' 'Haiti'\n 'Sudan' 'Grenada' 'Lebanon' 'Guam' 'Palestine' 'Belarus' 'Guyana'\n 'Rwanda' 'Liechtenstein' 'Saint Lucia' 'Papua New Guinea' 'India'\n 'Ethiopia' 'Belize' 'Andorra' 'Guatemala' 'Malta' 'Niger' 'Korea DPR'\n 'Barbados' 'Macau' 'South Sudan' 'Singapore' 'Hong Kong' 'Nicaragua'\n 'Malaysia' 'Indonesia']\n\nage - [33 35 27 29 28 31 21 34 32 25 26 30 20 24 22 23 19 38 42 36 37 18 17 39\n 40 41 16 43 53]\n\nova - [93 92 91 90 89 88 87 86 85 84 83 82 81 80 79 78 77 76 75 74 73 72 71 70\n 69 68 67 66 65 64 63 62 61 60 59 58 57 56 55 54 53 52 51 50 49 48 47]\n\npot - [93 92 91 90 95 89 88 87 86 85 84 83 82 81 80 79 78 77 76 75 74 73 72 71\n 70 69 68 67 66 65 64 63 62 61 60 59 58 57 56 55 54 53 52 51 50 49 48 47]\n\nclub - ['FC Barcelona' 'Juventus' 'Atlético Madrid' 'Manchester City'\n 'Paris Saint-Germain' 'FC Bayern München' 'Liverpool' 'Real Madrid'\n 'Chelsea' 'Tottenham Hotspur' 'Inter' 'Napoli' 'Borussia Dortmund'\n 'Manchester United' 'Arsenal' 'Lazio' 'Leicester City'\n 'Borussia Mönchengladbach' 'Real Sociedad' 'Atalanta'\n 'Olympique Lyonnais' 'Milan' 'Villarreal CF' 'RB Leipzig' 'Cagliari'\n 'Ajax' 'SL Benfica' 'AS Monaco' 'Wolverhampton Wanderers' 'Everton'\n 'Fiorentina' 'FC Porto' 'RC Celta' 'Torino' 'Sevilla FC' 'Grêmio'\n 'Real Betis' 'Roma' 'Newcastle United' 'Eintracht Frankfurt'\n 'Valencia CF' 'Medipol Başakşehir FK' 'Inter Miami' 'Bayer 04 Leverkusen'\n 'Levante UD' 'Crystal Palace' 'Athletic Club de Bilbao'\n 'Shanghai SIPG FC' 'VfL Wolfsburg' 'Guangzhou Evergrande Taobao FC'\n 'Al Shabab' 'Olympique de Marseille' 'Los Angeles FC'\n 'Beijing Sinobo Guoan FC' 'Getafe CF' 'SV Werder Bremen'\n 'TSG 1899 Hoffenheim' 'LOSC Lille' 'Deportivo Alavés' 'Burnley'\n 'Leeds United' 'Fulham' 'PFC CSKA Moscow' 'Genoa' 'Galatasaray SK'\n 'Atlanta United' 'Atlético Mineiro' 'Flamengo' 'Palmeiras' 'lub'\n 'São Paulo' 'West Ham United' 'SD Eibar' 'River Plate' 'OGC Nice'\n 'Real Valladolid CF' 'Sporting CP' 'PSV' 'Feyenoord' 'Club Brugge KV'\n 'Shakhtar Donetsk' 'Vissel Kobe' 'Boca Juniors' '1. FC Union Berlin'\n 'Dalian YiFang FC' 'AS Saint-Étienne' 'Sassuolo' 'Tigres U.A.N.L.'\n 'Dinamo Zagreb' 'Dynamo Kyiv' 'Fluminense' 'Udinese' 'Aston Villa'\n 'Stade Rennais FC' 'Beşiktaş JK' 'Brighton & Hove Albion'\n 'Hebei China Fortune FC' 'Southampton' 'Lokomotiv Moscow'\n 'Jiangsu Suning FC' 'Al Hilal' 'West Bromwich Albion' 'Fenerbahçe SK'\n 'FC Groningen' 'Guangzhou R&F FC' 'Orlando City SC' 'Sampdoria'\n 'Stade de Reims' 'Sheffield United' 'Santos' 'Internacional' 'Coritiba'\n 'CA Osasuna' 'LA Galaxy' 'Al Nassr' 'SC Freiburg' 'SC Braga'\n 'Olympiacos CFP' 'Toronto FC' 'Granada CF' 'FC Schalke 04'\n 'RC Strasbourg Alsace' 'Hertha BSC' 'AZ Alkmaar' 'Seattle Sounders FC'\n 'Montpellier HSC' 'Shanghai Greenland Shenhua FC' 'Hamburger SV'\n 'Girona FC' 'Racing Club' 'Portland Timbers' 'FC Girondins de Bordeaux'\n 'Watford' 'Estudiantes de La Plata' 'Club América' 'Vitória Guimarães'\n 'SK Slavia Praha' 'Trabzonspor' 'RCD Espanyol' 'FC Nantes' 'Angers SCO'\n 'Cruz Azul' 'BSC Young Boys' 'Club León' 'Spartak Moscow' 'Sivasspor'\n 'Elche CF' 'FC Augsburg' 'Wuhan Zall' 'Parma' 'Royal Antwerp FC'\n 'Monterrey' 'San Lorenzo de Almagro' 'AC Monza' 'Club Atlético Lanús'\n 'SD Huesca' 'Derby County' 'Kayserispor' 'RSC Anderlecht' 'CD Leganés'\n 'Vélez Sarsfield' 'Stade Brestois 29' 'Tianjin TEDA FC' 'Birmingham City'\n 'Hellas Verona' '1. FC Köln' 'Al Wehda' 'Bournemouth' 'Alanyaspor'\n 'Bologna' 'Amiens SC' 'Celtic' 'Shijiazhuang Ever Bright F.C.'\n 'Club Atlas' 'Al Ahli' 'Norwich City' 'Fatih Karagümrük S.K.'\n 'Club Tijuana' 'Universidad Católica' 'Goiás' 'Benevento' 'Independiente'\n 'Qingdao Huanghai F.C.' 'Brentford' 'AEK Athens' 'Racing Club de Lens'\n 'Olimpia Asunción' 'Shenzhen FC' 'Çaykur Rizespor' 'KAA Gent'\n 'New England Revolution' 'Cádiz CF' '1. FSV Mainz 05' 'Vasco da Gama'\n 'FC Midtjylland' 'Al Ain FC' 'Santos Laguna' 'SPAL' 'Perth Glory'\n 'FC Utrecht' 'Montreal Impact' 'UD Almería' 'Fortaleza' 'Spezia'\n 'FC Basel 1893' 'FC København' 'Godoy Cruz' 'Deportivo Toluca'\n 'Nacional de Montevideo' 'Aalborg BK' 'Rio Ave FC' 'FC Metz'\n 'Chongqing Dangdai Lifan FC SWM Team' 'Rosenborg BK'\n 'FC Red Bull Salzburg' 'Botafogo' 'DSC Arminia Bielefeld'\n 'Club Athletico Paranaense' 'RCD Mallorca' 'Pachuca' 'Swansea City'\n 'KRC Genk' 'En Avant de Guingamp' 'Lecce' 'Nîmes Olympique' 'Colo-Colo'\n 'Stade Malherbe Caen' 'Columbus Crew SC' 'Junior FC' 'VfB Stuttgart'\n 'Moreirense FC' 'Rangers FC' 'Malmö FF' 'Shandong Luneng TaiShan FC'\n 'Sparta Praha' 'Hatayspor' 'Chicago Fire' 'Toulouse Football Club'\n 'FC Seoul' 'Antalyaspor' 'Deportivo Cali' 'Kaizer Chiefs' 'Real Zaragoza'\n 'Atlético Clube Goianiense' 'Puebla FC' 'Fortuna Düsseldorf'\n 'Western United FC' 'Astra Giurgiu' 'Henan Jianye FC' 'Bahia' 'Famalicão'\n 'Atiker Konyaspor' 'Peñarol' 'DC United' 'New York City FC'\n 'Argentinos Juniors' 'U.N.A.M.' 'Minnesota United FC' 'Nottingham Forest'\n 'Independiente del Valle' 'Defensa y Justicia' 'Philadelphia Union'\n \"Newell's Old Boys\" 'Rosario Central' 'Atlético de San Luis' 'FC Dallas'\n 'Denizlispor' 'Yeni Malatyaspor' 'Club Atlético Colón' 'Houston Dynamo'\n 'Millwall' 'Clube Sport Marítimo' 'MKE Ankaragücü' 'Guadalajara'\n 'Boavista FC' 'Sporting Kansas City' 'Atlético Nacional' 'CD Lugo'\n 'New York Red Bulls' 'PAOK' 'SC Heerenveen' 'Daegu FC'\n 'Preston North End' 'Damac FC' 'Brescia' 'VfL Bochum 1848'\n 'Vancouver Whitecaps FC' 'SV Sandhausen' 'Royal Excel Mouscron'\n 'Dijon FCO' 'Molde FK' 'Panathinaikos FC' 'LASK Linz' 'Ulsan Hyundai FC'\n 'Real Salt Lake' 'FC Luzern' 'Viktoria Plzeň' 'Orlando Pirates'\n 'Al Ittihad' '1. FC Nürnberg' 'Standard de Liège' 'Rayo Vallecano'\n 'Club Libertad' 'Jeonbuk Hyundai Motors' 'Western Sydney Wanderers'\n 'Unión de Santa Fe' 'FC Sion' 'Sydney FC' 'Hannover 96'\n 'Real Sporting de Gijón' 'FC Cincinnati' 'ESTAC Troyes'\n 'San Jose Earthquakes' 'Club Guaraní' 'FC Lorient' 'Gençlerbirliği SK'\n 'Sporting de Charleroi' 'Wisła Kraków' 'Al Taawoun' 'Reading'\n 'Gazişehir Gaziantep F.K.' 'Blackburn Rovers' 'Kashiwa Reysol'\n 'FK Bodø/Glimt' 'Willem II' 'Vitesse' 'Gil Vicente FC' 'SønderjyskE'\n 'Yokohama F. Marinos' 'FC St. Gallen' 'Club Atlético Aldosivi'\n 'Göztepe SK' 'Holstein Kiel' 'FC Juárez' 'FCSB (Steaua)' 'Ettifaq FC'\n 'KAS Eupen' 'FC Tokyo' 'Melbourne City FC' 'Universitatea Craiova'\n 'CD Tondela' 'Wolfsberger AC' 'Ceará Sporting Club'\n 'River Plate Asunción' 'Stoke City' 'Paris FC' 'IFK Norrköping' 'Crotone'\n 'Cardiff City' 'América de Cali' 'Al Faisaly' 'Independiente Medellín'\n 'Portimonense SC' 'CD Tenerife' 'Heracles Almelo' 'Nashville SC'\n 'SK Rapid Wien' 'Kawasaki Frontale' 'Club Necaxa' 'Chievo Verona'\n 'Lech Poznań' 'AIK' 'FK Austria Wien' 'Querétaro' '1. FC Heidenheim 1846'\n 'Legia Warszawa' 'Club Atlético Banfield' 'Os Belenenses'\n 'Huddersfield Town' 'KSV Cercle Brugge' 'LDU Quito'\n 'Gimnasia y Esgrima La Plata' 'Gamba Osaka' 'Middlesbrough' 'Servette FC'\n 'Empoli' 'Real Oviedo' 'Kasimpaşa SK' 'CFR Cluj' 'Millonarios FC'\n 'FC Paços de Ferreira' 'Sint-Truidense VV' 'AD Alcorcón'\n 'Colorado Rapids' 'Dinamo Bucureşti' 'Cerezo Osaka' 'FC Emmen'\n 'Sheffield Wednesday' 'FC Erzgebirge Aue' 'Raków Częstochowa'\n 'Atlético Tucumán' 'SV Darmstadt 98' 'Bristol City' 'Oud-Heverlee Leuven'\n 'Barnsley' 'Queens Park Rangers' 'Sangju Sangmu FC' 'Helsingborgs IF'\n 'AC Ajaccio' 'Oceânico FC' 'Club Atlético Talleres' 'Al Hazem'\n 'SC Paderborn 07' 'Club Atlético Huracán' 'KV Kortrijk' 'El Nacional'\n 'Mazatlán FC' 'Aberdeen' 'CD Mirandés' 'SV Zulte-Waregem' 'Piast Gliwice'\n 'Djurgårdens IF' 'Central Córdoba' 'Wellington Phoenix'\n 'Deportivo Binacional' 'Patronato' 'SpVgg Greuther Fürth' 'IFK Göteborg'\n 'FC Cartagena' 'Santa Clara' 'FC Twente' 'Farense' 'ADO Den Haag'\n 'AJ Auxerre' 'Al Fateh' 'Valenciennes FC' 'Hokkaido Consadole Sapporo'\n 'FC St. Pauli' 'Albacete BP' '1. FC Kaiserslautern' 'Al Fayha'\n 'Incheon United FC' 'KV Mechelen' 'Pohang Steelers' 'CD Nacional'\n 'Unión La Calera' 'BB Erzurumspor' 'Kashima Antlers' 'Arsenal de Sarandí'\n 'HJK Helsinki' 'Karlsruher SC' 'Aarhus GF' 'FC Zürich'\n 'Barcelona Sporting Club' 'SG Dynamo Dresden' 'Sanfrecce Hiroshima'\n 'Al Raed' 'SD Ponferradina' 'Brøndby IF' 'Lechia Gdańsk' 'FC Viitorul'\n 'SK Sturm Graz' 'IF Elfsborg' 'Gangwon FC' 'Melgar FBC'\n 'Club Atlético Grau' 'Jagiellonia Białystok' 'Waasland-Beveren'\n 'VfL Osnabrück' 'Nagoya Grampus' 'CF Fuenlabrada' 'Shamrock Rovers'\n 'Shimizu S-Pulse' 'RKC Waalwijk' 'Vålerenga Fotball' 'Clermont Foot 63'\n 'FC Ingolstadt 04' 'FC Würzburger Kickers' 'Górnik Zabrze'\n 'Charlton Athletic' 'Beerschot AC' 'Coquimbo Unido' 'Viktoria Köln'\n 'Hull City' 'Málaga CF' 'FC Nordsjælland' 'UD Las Palmas' 'VVV-Venlo'\n 'GwangJu FC' 'Chamois Niortais Football Club' 'FC Lugano' 'Cusco FC'\n 'Sparta Rotterdam' 'Sol de América' 'PEC Zwolle' 'Pogoń Szczecin'\n 'Doncaster Rovers' 'Kristiansund BK' 'Liverpool Fútbol Club'\n 'Club Bolívar' 'Urawa Red Diamonds' 'SK Brann' 'Eintracht Braunschweig'\n 'Nacional Asunción' 'Melbourne Victory' 'Kilmarnock' 'Dundalk'\n 'SSV Jahn Regensburg' 'Abha Club' 'Club Atlético Tigre'\n 'Suwon Samsung Bluewings' 'Shonan Bellmare' 'SD Aucas' 'Emelec'\n 'Fortuna Sittard' 'La Berrichonne de Châteauroux' 'Śląsk Wrocław'\n 'Coventry City' 'Sunderland' 'Alianza Lima' 'Hammarby IF' 'Cracovia'\n 'CE Sabadell FC' 'Oita Trinita' 'BK Häcken' 'Luton Town' 'Le Havre AC'\n 'IK Sirius' 'Zagłębie Lubin' 'Grenoble Foot 38' 'Macarthur FC'\n 'Rodez Aveyron Football' 'Vegalta Sendai' 'Motherwell'\n 'SV Wehen Wiesbaden' 'Audax Italiano' 'Gaz Metan Mediaş' 'Portsmouth'\n 'Hibernian' 'Always Ready' 'UD Logroñés' 'FC Voluntari' 'FC Hermannstadt'\n 'AS Nancy Lorraine' 'Rotherham United' 'Fleetwood Town'\n 'Jorge Wilstermann' 'Odense Boldklub' 'MSV Duisburg'\n 'FC Sochaux-Montbéliard' 'Milton Keynes Dons' 'River Plate Montevideo'\n 'Delfín SC' 'Universidad Católica del Ecuador' 'Deportivo Pasto'\n 'KV Oostende' 'Club Plaza Colonia' 'Wigan Athletic' 'FC Botoşani'\n 'C.D. Castellón' 'SCR Altach' 'Örebro SK' 'TSV Hartberg' 'Stabæk Fotball'\n 'Wycombe Wanderers' 'St. Johnstone FC' 'Oxford United' 'Lincoln City'\n 'Randers FC' 'Viking FK' 'FC Chambly Oise' 'Dundee United'\n 'Oriente Petrolero' 'Odds BK' 'Nacional Potosí' 'Sepsi OSK'\n 'FC Hansa Rostock' 'Lyngby BK' 'SpVgg Unterhaching' 'Brisbane Roar'\n 'Seongnam FC' 'SV Ried' 'CD Huachipato' 'WSG Tirol'\n 'Podbeskidzie Bielsko-Biała' 'Peterborough United' 'Club Blooming'\n 'Wisła Płock' 'Busan IPark' 'FSV Zwickau' 'Mjøndalen IF' 'Vejle Boldklub'\n 'Pau FC' 'FC Lausanne-Sport' 'Estudiantes de Mérida' 'Sagan Tosu'\n 'SV Waldhof Mannheim' 'Sport Huancayo' 'Hallescher FC' 'Kalmar FF'\n 'St. Mirren' 'SKN St. Pölten' 'Sarpsborg 08 FF' 'Shrewsbury'\n 'TSV 1860 München' 'SV Meppen' 'Ipswich Town' 'IK Start'\n 'Adelaide United' 'Stal Mielec' 'Centro Atlético Fénix' 'Newcastle Jets'\n 'Livingston FC' 'AC Mineros de Guayana' 'AFC Wimbledon' 'Burton Albion'\n 'Al Adalah' 'Warta Poznań' 'USL Dunkerque' 'Bristol Rovers' 'UTA Arad'\n 'Östersunds FK' 'Sportivo Luqueño' 'Politehnica Iaşi' 'Salford City'\n 'Central Coast Mariners' 'Caracas FC' 'AC Horsens' 'Plymouth Argyle'\n 'Aalesunds FK' 'Crewe Alexandra' 'Chindia Târgovişte' 'Oldham Athletic'\n 'Yokohama FC' 'Blackpool' 'Northampton Town' 'Bayern München II'\n 'FK Haugesund' 'KFC Uerdingen 05' 'Forest Green Rovers' 'Cheltenham Town'\n 'Strømsgodset IF' 'Mjällby AIF' 'Exeter City' 'Cambridge United'\n 'Grimsby Town' 'FC Vaduz' 'Türkgücü München' 'VfB Lübeck'\n 'Bolton Wanderers' 'Bradford City' '1. FC Magdeburg'\n 'FC Admira Wacker Mödling' 'Hamilton Academical FC' 'Aragua FC'\n 'Accrington Stanley' 'Swindon Town' 'Carlisle United' 'FC Argeș'\n 'Port Vale' 'Academica Clinceni' 'Rochdale' 'Gillingham'\n 'Tranmere Rovers' 'Southend United' '1. FC Saarbrücken'\n 'Colchester United' 'Mansfield Town' 'Falkenbergs FF' 'SC Verl'\n 'Varbergs BoIS' 'Crawley Town' 'Sandefjord Fotball' 'Newport County'\n 'Bohemian FC' 'Ross County FC' 'Scunthorpe United' 'Morecambe' 'Walsall'\n 'Leyton Orient' 'Stevenage' 'Barrow' 'Derry City' 'Llaneros de Guanare'\n 'Sligo Rovers' 'Zamora FC' \"St. Patrick's Athletic\" 'Cork City'\n 'Shelbourne FC' 'Harrogate Town' 'Waterford FC' 'Finn Harps']\n\npositions - ['RW, ST, CF' 'ST, LW' 'GK' 'CAM, CM' 'LW, CAM' 'ST' 'RW' 'ST, LW, RW'\n 'CB' 'LW' 'CDM' 'CF, ST' 'LW, RW' 'CDM, CM' 'CDM, RB' 'CF, CAM' 'LW, ST'\n 'CM' 'ST, CF, LW' 'RM, LM, CAM' 'RB' 'RW, CAM, CM' 'LB' 'LM, CF' 'CF'\n 'RW, LW' 'CAM, RM, RW' 'CM, CDM' 'CAM, CF, ST' 'CM, CDM, CAM'\n 'CF, LW, CAM' 'CAM, RM, CF' 'LM, ST' 'RM, LM, RW' 'LM' 'CAM, RW'\n 'CB, CDM' 'RW, RM' 'LW, CF' 'CM, RM, LM' 'LB, LM' 'CAM, CM, RM'\n 'CAM, CM, CF' 'CAM, CF' 'LM, RM, LW' 'LM, LB, CM' 'CM, LM, LB' 'RM, RW'\n 'RM, CM' 'CAM, CM, LW' 'CB, LB' 'RM, RB' 'ST, RW' 'LM, RW, LW' 'RB, LB'\n 'RB, RM' 'RM' 'LM, RM, CF' 'CAM, RM' 'RB, RWB' 'CDM, CB, CM'\n 'CAM, RM, ST' 'LM, LW, RM' 'CM, CAM' 'ST, RM, CF' 'LM, RM' 'RM, CF'\n 'LM, LWB' 'RW, RM, CF' 'RB, CM' 'LW, CAM, RW' 'CAM, LW, CM'\n 'CM, CAM, CDM' 'RW, LW, CAM' 'CM, CAM, LM' 'CM, RM, ST' 'CDM, CM, RB'\n 'ST, CAM' 'CAM, LW, ST' 'LB, CB, LWB' 'RM, ST' 'CB, CDM, LB' 'RWB, RM'\n 'CM, LM, RM' 'RB, CDM, CM' 'RW, LW, RM' 'LM, LW' 'CM, LM' 'LM, LB'\n 'RM, LM, CF' 'LB, LM, RM' 'CDM, CM, CAM' 'ST, LW, RM' 'CAM, CM, ST'\n 'ST, CF' 'LWB, LB' 'LW, RW, LM' 'RM, RW, ST' 'LWB' 'CF, ST, CAM'\n 'LM, CAM, RM' 'RB, CB' 'ST, LM' 'RW, CAM' 'LM, CAM' 'RWB, RB'\n 'ST, RW, LW' 'CAM' 'RB, RM, RW' 'LB, LWB' 'RM, CAM' 'CAM, ST' 'CDM, CB'\n 'CF, LM, LW' 'CAM, LM, LW' 'LW, RW, CAM' 'CB, RB' 'RB, CB, RWB'\n 'LM, LW, ST' 'LW, ST, CM' 'RM, CAM, CM' 'CB, RB, RWB' 'RW, ST, LW'\n 'LW, CAM, CM' 'CM, LM, CDM' 'LB, LM, LWB' 'CB, LB, RB' 'CAM, LW'\n 'RWB, RB, RM' 'CF, CAM, ST' 'RM, CAM, RW' 'RW, ST' 'LW, LM' 'RB, RM, CM'\n 'ST, CAM, RW' 'CM, RB, LB' 'CAM, LM, RM' 'RB, RW' 'LM, CM' 'RM, LM, CM'\n 'CDM, CM, CB' 'CM, CF' 'CF, LW, RW' 'ST, RM' 'CAM, CM, CDM' 'LB, CB'\n 'RW, RWB' 'ST, LM, RM' 'RM, RWB, RB' 'LM, ST, CAM' 'CAM, ST, CF' 'LW, CM'\n 'RB, RWB, LB' 'RM, LM' 'CM, CAM, RM' 'ST, LW, CAM' 'RM, RW, CAM'\n 'CM, CDM, RM' 'RB, RM, RWB' 'CDM, CB, LB' 'CAM, ST, LM' 'LM, CM, RM'\n 'CF, RW' 'CAM, RM, LW' 'CM, RM, CDM' 'LB, LWB, LM' 'LW, RW, CF'\n 'LW, LM, CAM' 'LWB, LW, LB' 'CDM, CM, LM' 'CB, CM' 'RWB, RW, RB'\n 'ST, RW, RM' 'LW, RW, CM' 'LM, RM, CAM' 'LB, RB' 'RWB, RM, RB'\n 'LM, RB, LB' 'LW, LM, ST' 'ST, RM, LM' 'CAM, CM, LM' 'CF, CM'\n 'LW, ST, RW' 'ST, CAM, CF' 'LB, CB, LM' 'CM, CDM, LM' 'RM, RWB'\n 'LB, LM, RB' 'RB, LB, CB' 'CM, CDM, RB' 'LB, CM' 'CF, CAM, LW' 'RM, LWB'\n 'CF, ST, LM' 'LB, RB, CB' 'LW, CF, ST' 'RM, ST, CAM' 'LW, RW, ST'\n 'ST, LW, LM' 'CM, LW' 'CDM, CM, LB' 'CM, RM, CAM' 'ST, CF, CAM'\n 'CM, LM, CAM' 'RWB' 'LM, ST, RM' 'CAM, RM, CM' 'CAM, LM, CM' 'RW, LW, ST'\n 'CAM, RM, LM' 'CF, ST, LW' 'LWB, LB, LM' 'RM, CM, CAM' 'LB, LM, CAM'\n 'CAM, CDM' 'RW, RB, RM' 'RM, ST, RW' 'CM, CAM, LW' 'CF, ST, RW'\n 'LM, RM, RB' 'LM, RM, CM' 'CB, RB, RM' 'RB, CDM' 'RM, ST, LM'\n 'LB, LWB, CB' 'CDM, LB' 'LM, RM, ST' 'RWB, RB, LWB' 'ST, LM, CAM'\n 'ST, RM, CAM' 'RB, RWB, RM' 'CF, LM, CAM' 'CAM, CF, RW' 'RB, RM, LB'\n 'CDM, RWB' 'CM, RW, CAM' 'ST, CF, LM' 'RM, LM, RWB' 'RB, LB, RM'\n 'LM, LW, LB' 'RM, LM, ST' 'CAM, LM' 'ST, LM, LW' 'LW, RW, RM' 'CF, LW'\n 'LB, CM, RB' 'RB, CB, CDM' 'CB, RB, LB' 'CAM, RW, RM' 'LWB, LM'\n 'LW, CF, LM' 'CAM, CF, CM' 'LWB, CB' 'CM, CDM, LW' 'LM, CM, LB' 'CM, RM'\n 'RW, LW, CF' 'CM, CDM, CB' 'LM, RM, RW' 'RM, RW, LM' 'RM, CAM, LM'\n 'LWB, RM, LB' 'RM, LB, RB' 'CM, CF, RM' 'RM, RB, LB' 'ST, LM, RW'\n 'CAM, ST, LW' 'CF, LW, ST' 'LM, LW, CAM' 'RM, RW, CF' 'LW, LM, CF'\n 'CM, RW, LW' 'LM, CM, CAM' 'CAM, RW, ST' 'CM, CAM, CF' 'RW, LWB, LW'\n 'CB, RB, CDM' 'RW, RM, LW' 'LW, ST, LM' 'RWB, RW' 'ST, CAM, LM' 'CM, CB'\n 'RM, RW, CM' 'LWB, CM' 'RM, LM, LB' 'RM, CAM, ST' 'CDM, RM, RB'\n 'LM, LB, RB' 'LB, RB, RWB' 'RM, RWB, CAM' 'CAM, LM, CF' 'LM, CAM, CM'\n 'CF, CAM, RW' 'CDM, CM, RM' 'CF, CAM, CM' 'ST, RM, LW' 'CB, CDM, CM'\n 'RB, RW, LB' 'ST, RW, CAM' 'CM, LB' 'LW, RM, RW' 'CM, RM, RW'\n 'RM, CF, LM' 'CF, LM, RM' 'CAM, ST, RM' 'RW, CF' 'CM, CAM, ST'\n 'CAM, CDM, CM' 'RM, RW, LW' 'CAM, LM, LB' 'CAM, RW, LW' 'CDM, CAM'\n 'LWB, LM, LB' 'RW, LB' 'LW, CAM, CF' 'RB, RWB, CB' 'LM, CF, RM'\n 'RB, LB, RWB' 'RM, LW' 'CAM, LM, ST' 'LW, LM, LB' 'LB, RB, RM' 'CM, LWB'\n 'CDM, RB, RM' 'RM, CM, RB' 'ST, RM, RW' 'LM, RM, LWB' 'RW, LW, LM'\n 'LW, CF, RW' 'CM, CDM, LB' 'ST, LM, RB' 'LB, CDM' 'CM, CB, CDM'\n 'CB, LB, CDM' 'RW, ST, RM' 'RM, ST, CF' 'CAM, LW, LM' 'LM, ST, LW'\n 'CAM, RM, RB' 'RB, CM, RM' 'CM, LW, LM' 'ST, CAM, RM' 'RW, ST, CAM'\n 'CM, LB, LM' 'RB, CDM, RM' 'LM, RWB, RM' 'LM, CAM, LB' 'CAM, LW, RW'\n 'CM, RM, RWB' 'RW, CAM, LW' 'RB, CB, LB' 'LB, LM, LW' 'RW, RB'\n 'LM, LWB, CM' 'RM, CAM, RB' 'RM, CM, ST' 'RB, RM, LM' 'LM, LB, LW'\n 'LM, ST, CF' 'RW, LWB, RM' 'LM, CAM, LW' 'CB, RWB' 'RM, LW, CAM' 'LB, LW'\n 'CDM, CM, ST' 'LB, CM, CDM' 'CF, CAM, LM' 'RW, CAM, RM' 'RW, LM, LW'\n 'RW, CM, CAM' 'LM, LW, RW' 'RM, LW, RW' 'LW, LWB, RWB' 'RM, LM, RB'\n 'CB, CDM, RB' 'CAM, RW, CM' 'ST, CAM, CM' 'LWB, LM, CM' 'RW, LW, RWB'\n 'CB, LB, LWB' 'CM, LM, ST' 'CM, LWB, LM' 'LB, LW, LM' 'RB, CM, CAM'\n 'RM, CAM, CF' 'CM, RW' 'RW, RM, CAM' 'CB, LWB' 'CAM, RB' 'LM, CM, CDM'\n 'RM, LB, LM' 'CB, RB, CM' 'RB, CM, RWB' 'LB, RB, LM' 'CAM, ST, RW'\n 'LB, LW, RW' 'CDM, CAM, CM' 'CAM, ST, CM' 'LM, CAM, ST' 'LM, ST, CM'\n 'CAM, CF, RM' 'CF, ST, RM' 'LM, ST, LB' 'ST, CAM, LW' 'LWB, CM, LB'\n 'RWB, RM, LWB' 'LWB, LM, RB' 'CM, LW, ST' 'LB, LM, CB' 'CM, RM, RB'\n 'RWB, CB' 'RM, RB, RWB' 'LB, CM, LM' 'ST, LW, CF' 'RM, RWB, ST'\n 'CF, ST, CM' 'LM, LB, LWB' 'LM, RW' 'LM, LWB, LB' 'LB, LWB, RB'\n 'RM, RB, LM' 'RM, CM, LM' 'LW, ST, CAM' 'RB, RM, CB' 'LWB, RWB, LB'\n 'CF, RM, RW' 'RM, CF, CAM' 'LM, LW, CF' 'RB, LM, LB' 'CAM, CM, RW'\n 'LB, CM, LW' 'CM, CF, CAM' 'RW, RM, ST' 'CDM, RB, CM' 'CM, RB'\n 'RB, RWB, RW' 'LM, RW, RM' 'CM, RB, CDM' 'LM, RM, LB' 'CDM, RB, CB'\n 'RB, CB, RM' 'RWB, LW, LM' 'ST, CF, RW' 'RM, CM, CDM' 'LM, CF, ST'\n 'LW, CAM, LM' 'CDM, LM, CM' 'ST, CM, CAM' 'LM, RM, RWB' 'CM, CAM, RW'\n 'CAM, LM, RW' 'LW, LM, RM' 'CAM, RW, CF' 'LM, ST, RW' 'CB, LWB, LB'\n 'RW, CF, LW' 'CB, CM, CDM' 'CB, CAM' 'LW, LB' 'CDM, RB, LB' 'ST, CM, RB'\n 'RWB, LWB, RB' 'CM, CB, RB' 'LB, LW, RB' 'CF, RM, RWB' 'LB, RM'\n 'RM, RW, RB' 'LB, RM, RB' 'CDM, RM, CM' 'CDM, LB, CM' 'LM, CDM, CM'\n 'RW, LM, CAM' 'LM, LB, RM' 'RM, CF, ST' 'RW, CM' 'RM, RWB, LM'\n 'CF, CM, ST' 'RW, RM, LM' 'LM, CM, RW' 'RWB, CM' 'RB, RM, CDM'\n 'CM, CB, CAM' 'CF, CM, LM' 'RWB, LWB, RM' 'CF, RM' 'CM, CF, ST'\n 'RWB, RB, CB' 'LWB, RWB' 'RM, LM, LW' 'LW, RM, CM' 'LW, CAM, ST'\n 'ST, RM, RWB' 'ST, CM' 'CDM, CM, RWB' 'LB, CB, RB' 'CB, ST, CAM'\n 'CF, RM, CM' 'CDM, CB, RB' 'CM, LM, RB' 'RB, CB, LWB' 'LM, LB, CDM'\n 'LW, LWB' 'RW, CF, CAM' 'RM, RB, CAM' 'LB, RB, CM' 'RM, CDM, LM'\n 'LWB, LB, CB' 'LB, RB, CDM' 'RB, CM, LB' 'CDM, RM' 'LM, RB, CB'\n 'RW, RWB, RM' 'RM, LW, ST' 'LB, RB, LWB' 'RM, LM, CDM' 'RB, RM, CAM'\n 'RM, ST, LW' 'CF, LM' 'RB, LB, CDM' 'RW, LW, RB' 'RB, RWB, CDM'\n 'CM, CAM, LB' 'LW, RW, LWB' 'CB, LWB, RWB' 'LB, CB, CDM' 'ST, RB, RM'\n 'CM, RB, RM' 'RW, LM' 'RM, CF, RB' 'CB, RM, RB' 'RWB, LWB' 'CM, ST, CDM'\n 'LWB, LW' 'CB, RB, ST' 'LB, LWB, CDM' 'CB, RWB, RM' 'CB, ST' 'CM, ST'\n 'LM, LWB, CB' 'ST, LW, LWB' 'LM, CDM, RM' 'LWB, LB, RW' 'RB, CM, CB'\n 'LM, RW, ST' 'CM, RM, LW' 'ST, RW, LM' 'RWB, CM, RM' 'CAM, RWB, CM'\n 'CM, RB, LM' 'RM, RB, RW' 'LW, LM, CM' 'RM, LM, LWB' 'ST, LM, CF'\n 'LW, RM, CAM' 'RB, RWB, LWB' 'LB, CM, ST' 'ST, LWB' 'RB, ST, LM'\n 'CDM, CAM, LM' 'LM, ST, LWB' 'LB, RB, RW' 'RM, CDM' 'RB, LB, LWB'\n 'RW, CAM, LM' 'LB, CDM, LM' 'RW, RB, LM' 'CB, LM' 'RW, LM, RM'\n 'RM, LB, CM' 'LW, CAM, RM' 'RW, RB, LB' 'LW, LB, LM' 'CDM, RB, RWB'\n 'CB, RW' 'CM, LM, LW' 'LM, RM, CB' 'LM, LWB, ST' 'ST, CB, CDM'\n 'LB, CDM, CB' 'CDM, CB, RM' 'RB, RWB, CM' 'ST, RW, CF' 'ST, CB'\n 'ST, LW, CM' 'LM, LB, ST' 'ST, CB, RB' 'RB, LM' 'GK, RB' 'LM, LW, CM'\n 'LM, CM, LW' 'CB, CAM, CM' 'LM, RB' 'RWB, CAM' 'RB, CAM' 'CB, CDM, RM'\n 'ST, RB' 'ST, RWB' 'CAM, CDM, LM' 'CB, RWB, RB' 'LM, LWB, RM'\n 'LB, LM, CM' 'CM, CF, LM' 'CM, RWB' 'CDM, LM' 'ST, CF, RM' 'CAM, LB'\n 'RB, RM, ST' 'LM, CDM' 'CDM, RW, RB' 'LM, CF, CAM' 'LWB, LM, RWB'\n 'CF, RM, ST' 'CAM, CF, LM' 'RB, ST, CB' 'RW, RB, LW' 'LB, LM, CDM'\n 'RB, CB, ST' 'RWB, CB, RB' 'CDM, ST' 'LW, RM, LM' 'RB, LWB' 'CDM, LB, CB'\n 'LM, LB, CF' 'RB, CDM, LB' 'LB, LWB, CM' 'RM, LM, CB' 'CAM, LW, CF'\n 'LB, LW, CM' 'RB, CM, CDM' 'LWB, LM, ST' 'CM, RW, RM' 'CB, RM'\n 'CM, LM, CB' 'LM, LB, CB' 'ST, RW, CM' 'RM, ST, CM' 'RWB, RM, LM'\n 'CM, CAM, RB' 'CM, RWB, CDM' 'LB, LWB, LW']\n\nheight - ['170cm' '187cm' '188cm' '181cm' '175cm' '184cm' '191cm' '178cm' '193cm'\n '185cm' '199cm' '173cm' '168cm' '176cm' '177cm' '183cm' '180cm' '189cm'\n '179cm' '195cm' '172cm' '182cm' '186cm' '192cm' '165cm' '194cm' '167cm'\n '196cm' '163cm' '190cm' '174cm' '169cm' '171cm' '197cm' '200cm' '166cm'\n '6\\'2\"' '164cm' '198cm' '6\\'3\"' '6\\'5\"' '5\\'11\"' '6\\'4\"' '6\\'1\"' '6\\'0\"'\n '5\\'10\"' '5\\'9\"' '5\\'6\"' '5\\'7\"' '5\\'4\"' '201cm' '158cm' '162cm' '161cm'\n '160cm' '203cm' '157cm' '156cm' '202cm' '159cm' '206cm' '155cm']\n\npreferred_foot - ['Left' 'Right']\n\nbov - [93 92 91 90 89 88 87 86 85 84 83 82 81 80 79 78 77 76 75 74 73 72 71 70\n 69 68 67 66 65 64 63 62 61 60 59 58 57 56 55 54 53 52 51 50 49 48]\n\nbest_position - ['RW' 'ST' 'GK' 'CAM' 'LW' 'CB' 'CDM' 'CF' 'CM' 'RB' 'LB' 'LM' 'RM' 'LWB'\n 'RWB']\n\njoined - ['2004-07-01T00:00:00.000000000' '2018-07-10T00:00:00.000000000'\n '2014-07-16T00:00:00.000000000' ... '2018-09-22T00:00:00.000000000'\n '2015-02-28T00:00:00.000000000' '2018-03-06T00:00:00.000000000']\n\ncrossing - [85 84 13 94 71 79 17 78 18 53 76 58 14 15 75 66 70 68 91 82 20 12 30 77\n 88 83 93 90 87 81 73 11 54 62 86 80 55 42 57 65 63 64 52 40 69 47 60  9\n 16 44 72 50 56 46 89 34 45 74 49 67 24 35 36 61 19 27 25 10 51 38 43 59\n 39 48 23  8 28 92 41 29 32 22 26 37 33 31 21  7  6]\n\nfinishing - [95 11 82 87 94 91 13 14 52 90 64 88 65 85 66 84 10 22 76 81 56 79 57 45\n 77 63 86 80 15 33 67 12 72 92 93 51 46 60 75 55 73 83 50 42 39 40  9 68\n 48 37 70 78 69  8 53 89 25 62 71 74 44 26 19 32 18 61 58 30 54 36 29 16\n 38 59 27 34 47 20 31 49 43 41 28  5  7  6 21 17 35 23 24  4  3]\n\nheading_accuracy - [70 90 15 55 62 85 59 19 73 11 87 84 80 13 25 91 92 78 46 54 72 64 14 10\n 61 58 83 38 69 51 67 86 75 68 16 81 21 79 53 65 82 12 42 48 88 66 76 74\n 52 23 40 49 60 44 20 37 71 17 45 77 50 63 43 39 57 56 47 24 18 31 28 35\n 34 41 36 93  7 30 89  8 26 33 27 32 22 29  9  5  6]\n\nshort_passing - [91 82 43 94 87 84 45 83 61 79 85 33 55 86 57 81 42 74 93 88 30 65 89 77\n 32 50 80 78 90 69 40 92 75 73 34 76 35 70 37 23 44 38 48 26 60 25 46 28\n 24 36 51 17 18 39 71 67 27 72 66 20 31 68 29 11 64 62 41 63 19 54 16 22\n 49 59 56 14 58 15 21 52 53 12 47 13  8  7]\n\nvolleys - [88 86 13 82 87 89 79 20 83 14 45 75 63 12 11 69 67 56 18 85 62 70 32 40\n 47 81 44 84 78 76 90 49 42 64 57 60  8 72 71 59 74 80 73 37 31 38 61 10\n 77 68 58 66 30 33 65 27 51 15 16 50 43 35 24 17 34 28  9 39 52 46 22 19\n 53 55 48 54 23  5 41 25 21 36 26 29  6  7  4  3]\n\ndribbling - [96 88 12 95 85 90 27 92 21 70 91 69 13 30 87 65 79 83 23 80 18 93 77 63\n 76 16 59 81 11 84 10 75 78 55 15 86 66 67 28 57 64 82 62 19 53 72 50 26\n 43 89 73 20 14 68 71 74 22 54 56 61  9 24 60 25  8 17 47 58 46 42 51 52\n 49 44 35 48 39 29 40 45 34 31 33 38 41 32  7 37 36  5  6]\n\ncurve - [93 81 13 85 88 79 83 19 18 60 76 63 14 74 77 49 15 80 12 28 86 84 82 61\n 71 11 66 16 89 70 21 46 78 67 58 65 48 34 90 59 55 87 62  9 56 36 30 32\n 73 69 68 75 45 10 72 64 41 23 47 20 51 25 44 17 54 57 53 33 40 50 39 35\n 52 42 37 43 26 31 92 91 29 94 27 38 22 24  8  6  7  5  4]\n\nfk_accuracy - [94 76 14 83 89 85 69 18 63 12 70 64 74 20 11 73 49 61 88 68 28 79 84 48\n 67 38 87 53 65 15 31 78 82 10 51 59 19 47 52 57 43 13 77 54 75 86 55 30\n 62 32 58 93  8 66 71 81 92 44 17 60 40 16 72 46 35 45 29 21 56 80 24 22\n 39 42 26 41  9 37 27 50 33 25 36 91 34 23  7  6 90  5]\n\nlong_passing - [91 77 40 93 81 70 75 44 63 86 71 84 35 59 73 83 64 69 79 82 68 89 76 80\n 87 37 65 36 50 53 78 47 74 48 31 85 24 55 90 54 62 32 49 66 67 51 28 46\n 52 72 56 41 45 22 88 61 33 12 60 17 27 29 23 38 16 58 34 25 39 21 30 42\n 43 57 20 26 18 19 13 15 11 14  9 10  5  8]\n\nball_control - [96 92 30 95 88 89 90 77 79 23 46 83 80 85 94 40 84 16 74 91 87 82 78 19\n 61 22 34 38 81 25 86 76 69 28 93 75 35 60 63 73 18 71 15 21 72 14 65 20\n 24 27 70 33 17 62 64  9 68 67 32 26 66 52 11 57 58 29 12 37 10 36 13 31\n 55 59 39 54 56 48 44 51 50 47 49 53  5 42  8 45 43 41  7]\n\nacceleration - [91 87 43 77 94 56 96 38 72 95 60 42 54 79 89 64 66 51 73 57 80 86 85 78\n 40 82 76 65 68 90 48 46 88 70 83 84 93 52 74 92 55 58 59 67 81 62 44 71\n 69 50 53 45 49 75 41 61 63 35 47 34 36 37 39 30 97 31 33 32 27 28 26 29\n 25 17 19 24 15 23 21 20 22 16 18 13 14]\n\nsprint_speed - [80 91 60 76 89 78 92 47 96 50 79 93 69 52 72 70 90 66 82 63 55 77 86 81\n 83 85 65 68 53 43 94 62 58 61 87 64 67 54 88 75 95 73 49 84 56 44 74 51\n 57 46 59 71 37 34 33 42 30 35 48 39 45 40 18 38 41 27 32 29 28 36 26 31\n 22 25 23 15 20 17 16 24 19 21 12 14]\n\nagility - [91 87 67 78 96 77 40 92 37 61 93 51 79 84 94 82 60 69 47 52 63 74 59 66\n 86 85 57 55 76 75 73 62 72 90 68 64 80 56 48 83 41 81 54 88 33 65 49 71\n 89 45 70 43 50 32 42 39 58 36 34 53 46 95 44 38 21 29 35 31 19 26 30 22\n 28 24 25 23 27 14 18 15 20]\n\nreactions - [94 95 88 91 93 92 86 89 87 84 90 83 85 82 81 79 80 74 75 78 77 73 76 71\n 70 68 72 66 69 65 67 64 59 60 62 63 61 58 57 56 50 54 53 55 52 32 49 48\n 45 51 46 47 37 34 44 40 38 43 41 35 42 33 39 31 36 30 24 29 28]\n\nbalance - [95 71 49 76 83 82 91 37 43 53 86 66 45 35 69 94 92 84 90 48 73 36 41 93\n 74 60 79 65 78 61 57 50 68 51 54 77 81 39 75 58 87 85 63 38 88 67 72 62\n 80 44 46 42 55 40 70 32 89 52 59 47 64 27 56 30 31 25 34 29 24 96 33 28\n 20 23 22 26 21 17 97 19 12 18]\n\nshot_power - [86 94 59 91 80 89 64 66 81 84 88 56 68 79 78 71 82 70 55 76 61 83 51 52\n 90 87 62 72 77 74 50 57 58 85 60 75 67 65 93 46 54 69 41 73 40 53 95 43\n 63 42 48 31 44 37 49 39 45 38 47 30 33 25 34 36 28 27 32 26 35 23 22 29\n 20 24 21 18]\n\njumping - [68 95 78 63 62 84 69 52 77 79 90 86 87 93 57 75 66 82 56 32 51 76 72 81\n 74 71 67 65 73 64 70 80 85 37 89 60 49 50 83 58 53 59 88 38 92 34 61 46\n 43 36 91 39 45 42 40 54 33 55 31 44 35 47 48 30 41 94 28 29 27 24 19 26\n 17 15 22]\n\nstamina - [72 84 41 89 81 76 85 32 86 35 75 88 90 38 43 78 79 96 95 70 82 77 93 94\n 87 39 54 80 45 83 69 65 73 91 34 66 71 92 62 67 64 63 68 36 61 74 42 40\n 23 44 31 57 20 37 29 30 56 60 52 48 58 25 51 26 27 59 28 53 33 49 97 55\n 50 46 24 21 22 15 47 17 19 16 18 14 12]\n\nstrength - [69 78 74 50 86 75 76 92 70 91 80 85 65 72 67 60 84 71 94 63 73 62 54 81\n 64 87 58 43 77 66 53 89 68 46 44 61 79 88 59 83 55 34 82 95 56 37 90 57\n 93 49 39 51 52 40 48 41 47 35 42 33 45 32 38 30 31 36 29 27 24 28 16 97\n 96 20 25 26 23]\n\nlong_shots - [94 93 12 91 84 85 14 79 10 64 78 81 17 16 65 87 18 86 19 15 82 63 74 76\n 47 89 70 90 77 13 49 54 88 80 53 58 51 73 66 75 83 30 46 35 71 61 72 69\n 43 48 62 41 60 11 26 57 59 68 67  7 27 56 20 52 92 50 22 40 39 44 31 42\n  9  6 55 28 23 38 24 25 34 36 29  4  8 45 33 37 21 32  5]\n\naggression - [44 63 34 76 51 81 27 62 43 83 75 91 23 29 90 65 59 89 48 38 25 87 54 60\n 73 74 69 85 70 86 32 40 31 77 84 80 78 79 71 56 42 30 61 58 28 82 46 52\n 36 92 55 35 67 37 72 57 50 64 39 47 20 68 15 66 33 93 88 22 24 45 17 18\n 26 21 11 41 53 19 12 49 94 16 95 13 14 96 10  9]\n\ninterceptions - [40 29 19 66 36 49 55 11 38 22 90 35 87 15 30 39 88 24 91 82 42 27 41 79\n 74 58 20 85 48 83 64 21 50 81 78 28 86 26 34 52 37 80 25 56 23 47 45 77\n 84 44 53 18 46 72 61 89 54 63 65 73 16 32 76 59 13 70 31 69 33 17 75 68\n 60 51 71 12 57 10 43 67 14  9 62  8  7  6  4  5  3]\n\npositioning - [93 95 11 88 87 94 91 13 47 92 72 12 90 73 80 85 20 35 76 89 83 77 54 70\n 86 16 28 14 84 78 10 75 52 71 81 64 56 15 82 79 44 30 59  7 68 38 48 67\n 24 26 34 69 74 32 66 62 65 51 18 31  9 25 49 55 63 27 61 17 39 58 29 50\n 40 19  8 42 60 57 37 45 43 53  5  4 36  6 46 41 23 22 33 21  3  2]\n\nvision - [95 82 65 94 90 79 84 66 80 70 85 44 87 71 83 41 52 86 68 50 77 48 88 30\n 61 74 59 73 72 64 91 78 63 57 89 62 56 69 42 67 27 76 81 55 75 60 49 45\n 58 22 53 46 25 43 51 40 93 33 31 34 35 39 47 21 32 28 37 36 38 54 24 23\n 14 11 15 26 19 18 12 20 17 10 29 13 16  9]\n\npenalties - [75 84 11 92 88 83 23 70 25 62 71 66 27 47 69 54 44 86 17 90 33 87 73 60\n 55 68 91 72 50 78 18 82 40 29 45 43 64 24 59 46 56 81 67 49 61 74 58 63\n 79 38 80 32 20 76 77 41 19 26 85 21 52 34 53 65 57 16 42 89 15 13 14 22\n 51 37  9 48 12 31 36 39 10 30 35 28  8  7  6]\n\ncomposure - [96 95 68 91 93 88 90 65 84 70 66 80 85 69 82 89 81 87 83 86 67 92 94 57\n 78 79 75 45 61 76 58 62 77 74 59 55 48 40 64 73 39 71 72 63 60 52 53 56\n 44 54 41 32 49 46 31 51 50 25 18 38 30 24 21 36 33 26 23 47 22 28 34 35\n 37 43 27 12 42 17 29 13 19 14 16 20 15]\n\nmarking - [32 28 27 68 35 38 15 34 25 93 42 84 20 17 47 85 30 89 82 29 56 91 72 59\n 79 49 83 86 50 60 94 41 57 78 63 88 90  9 58 74 39 92 45 36 44 87 70 76\n 53 80 67 77 12 48 55 75 81 11 64 69 14 24 52 65 19 31 13 10 66 71 54 46\n 22 40 18 51 37 43 61 26 73 21  7 33 62 16 23  8  6  5  4  3]\n\nstanding_tackle - [35 32 12 65 30 42 43 19 34 13 93 88 18 10 24 29 53 90 84 48 15 36 89 27\n 73 54 41 83 59 67 87 64 14 55 75 45 33 57 21 82 50 86 80 79 31 46 85 40\n 44 56 20 70 76 81 71 16 68 37 38 78 39 77 11 74 28 49 47 72 61 51 22 17\n 52 63 23 60 25 26  9 62 58 66 69  7  8  6  5]\n\nsliding_tackle - [24 18 53 29 19 41 16 32 10 86 38 87 11 90 47 85 79 40  8 13 22 60 49 81\n 88 55 33 42 14 80 36 12 52 71 46 83 65 84 34 82 77 78 74 20 43 35 69 70\n 30 68 45 57 44 21 75 26 51 76 39 48 28 63 59 66 72 17 67 64 31 25 15 54\n 58 62 56 23 37 73 50 27  9 61  7  6  4]\n\ngk_diving - [ 6  7 87 15  9 14 86 13 88 10 84 11  8  5 12 90  3 27 89 80 16 85  2 82\n 79 83  4 81 77 18 78 17 75 74 76 73 71 72 52 68 70 54 69 32 66 65 67 61\n 22 64 23 40 63 55 19 50 62 58 60 59 56 57 53 51 49 46 48 47 45]\n\ngk_handling - [11 92 13  9  6 14 88  5 85 10 89 87  8 15 12  4 82 81  3  7 25 86 83  2\n 80 16 77 79 78 76 84 75 72 74 71 69 73 70 67 68 65 61 62 64 41 63 66 33\n 22 17 57 18 54 55 59 49 19 40 60 58 43 45 53 47 56 51 52 50 48 46]\n\ngk_kicking - [15 78  5 12  9 85  7 88 13 16 74 91  6 10  4 93 11 73 14 75  2 31 68 76\n  8 80 82  3 87 72 83 77 79 81 69 71 20 67 70 64 65 63 44 60 84 54 48 61\n 18 66 17 59 62 90 43 38 58 57 28 40 53 23 47 46 19 51 55 52 56 22 30 25\n 42 35 21 49 50 36 45]\n\ngk_positioning - [14 90 10 15  8 11 91 88  7 12 85 86  5 89 13  6 82  4  9 87 33 84 16 83\n  2  3 79 81 80 76 78 19 77 17 75 74 73 71 18 72 70 69 66 68 40 64 20 32\n 67 62 65 63 24 23 50 55 58 51 59 56 61 57 60 46 54 53 52 47 49 48 43 45\n 42 38 44 41]\n\ngk_reflexes - [ 8 11 90 13 10 14 89  6 12 88  7  9 15  5  3 37 85 86  4 16 82 83 84 87\n 78 80 20 18 79 81 19 77 17  2 74 71 76 73 75 72 69 46 66 51 70 34 67 23\n 68 45 65 21 59 54 47 61 64 63 62 60 58 56 57 55 53 50 52 49 48 44]\n\ntotal_stats - [2231 2221 1413 ...  757  747  956]\n\nbase_stats - [466 464 489 485 451 457 470 490 484 455 469 463 468 497 442 439 473 452\n 498 449 477 401 446 447 465 430 461 422 476 460 453 467 471 399 424 441\n 459 438 437 454 428 445 431 474 421 435 448 475 403 444 443 419 405 420\n 423 396 388 482 478 385 394 480 433 450 462 456 436 434 429 400 440 425\n 410 458 398 413 373 406 408 472 426 407 432 427 415 481 417 372 380 418\n 383 414 409 412 411 386 362 402 390 404 391 416 375 389 361 397 366 392\n 393 382 368 387 352 376 384 378 379 341 354 369 395 357 381 377 344 360\n 370 338 333 367 363 349 355 345 358 348 374 351 343 342 353 321 350 365\n 364 371 327 331 359 347 356 339 319 317 335 346 329 315 324 322 325 332\n 336 337 330 316 313 306 307 328 310 340 308 318 334 301 289 302 320 323\n 326 311 297 314 304 292 305 312 294 287 300 299 285 303 288 278 296 277\n 309 291 283 286 293 295 298 276 282 272 284 290 271 275 279 281 262 263\n 280 268 270 269 264 273 265 252 267 257 274 266 259 247 261 251 233 239\n 253 258 254 260 244 240 255 256 250 238 243 249 248 245 241 232]\n\nwf - [4 3 5 2 1]\n\nsm - [4 5 1 2 3]\n\naw - ['Medium' 'High' 'Low']\n\ndw - ['Low' 'Medium' 'High']\n\nir - [5 3 4 2 1]\n\npac - [85 89 87 76 91 78 93 86 96 88 94 65 84 74 71 77 68 75 54 79 83 80 81 82\n 63 67 90 66 42 73 70 64 57 58 69 72 50 59 92 60 62 55 52 56 61 53 45 37\n 95 43 44 46 48 49 47 34 39 40 51 41 36 32 33 30 31 38 35 28 29 25]\n\nsho - [92 93 86 85 91 88 60 73 89 87 70 90 81 66 72 82 28 74 77 62 50 83 69 80\n 46 76 54 49 61 58 79 68 59 41 45 64 78 55 75 65 63 48 42 56 51 30 47 84\n 40 57 25 71 37 43 53 67 38 52 39 35 36 44 32 34 33 31 27 22 29 26 23 18\n 24 20 16 21 19 17]\n\npas - [91 81 78 93 86 85 88 71 80 76 74 77 79 84 73 55 83 87 72 75 58 89 82 68\n 67 64 66 59 69 90 65 53 63 62 70 56 42 54 61 57 60 48 52 47 46 44 45 50\n 51 49 43 36 38 40 41 35 39 34 33 37 30 32 29 31 26 28 25 27]\n\ndri - [95 89 90 88 94 85 91 71 72 86 73 81 84 92 80 68 77 87 60 83 78 64 67 79\n 69 66 65 70 82 75 61 74 54 76 49 63 59 62 56 55 50 57 58 52 53 51 48 47\n 46 39 44 43 36 40 45 41 37 34 35 42 32 38 31 33 30 29 28 25 27]\n\ndef - [38 35 52 64 36 43 45 51 39 91 44 86 48 57 40 88 33 81 63 47 53 89 71 37\n 80 68 85 61 90 83 49 56 58 82 87 79 66 55 78 32 50 76 77 70 75 41 29 73\n 65 59 84 54 72 46 42 69 34 31 30 74 24 62 25 20 26 60 27 23 28 67 22 19\n 18 21 17 15 16 12]\n\nphy - [65 77 90 78 59 82 75 91 76 88 86 85 73 67 79 63 83 89 66 69 72 64 71 81\n 87 68 84 80 55 70 44 62 51 57 60 58 56 74 52 61 53 45 50 54 47 48 49 42\n 37 40 39 43 38 46 41 34 35 36 31 32 33 29 28]\n\nhits - [ 771  562  150  207  595  248  246  120 1000  130  321  189  175   96\n  118  216  212  154  205  202  339  408  103  332   86  173  161  396\n  433  242  206  177  198  459  117  119  209   84  187  165  203   65\n  336  126  313  124  145  538  182  101   45  377   99  194  403  414\n  593  374  245 3000  266  299  309  215  265  211  112  337   70  159\n  688  116   63  144  123   71  224  113  168   61   89  137  278   75\n  148  176  197  264  214  247  402  440 2000  171  320  657   87  259\n  200  255  253  196   60   97   85  169  256  132  239  166  121  109\n   32   46  122   48  527  199  282   51  642  155  323  288  497  509\n   79   49  270  511   80  128  115  156  204  143  140  152  220  134\n  225   94   74  135  142   50   77   40  107  193  179   34   64  453\n   57   81   28   78  133   43  425   88   42   36  233  376  210  444\n  100  263   98   29  160   39  257    6  310  138   62  293  285  362\n   66   69   58   21   20  131   38  406   68  108  110   93  512  443\n  306  352  422  585  346  178  841   76  394   72  172   44  407  230\n  367  295  157  243   56  111  326  679   18   92   59   25  184   53\n   12   90   55   73   11  566  180   83  262   17   26   31  280  359\n  213  297  387  480  381  677  486    8  244  129  388  275  319   52\n   91  421  153   27   41  222   35  102   23   30   33  146   13   19\n   14  106  276  568  353   47  478  249  254  369  219  565  237  227\n  434  375  162  605  654    3    7    9  104  114  186  446  756   22\n  139  500   67  147  149   16   82   54   37   15  952    5  749  541\n  330  393  517  770  409  170  125  283  342  363  580  105  217   24\n  141   10  427  158  426    4  666  181  324  979  302  751  298  411\n  944    2  947  292  349  621    1  338  287  261  218  240  279  229\n  188  315  664  613  190  706  127  462  386  695  491  167  281  250\n  307   95  231  174  680  633  221  348  602  183  653  195  164  151\n  258 8000  343  419  655  136  399  531  357  228  385  312  340  238\n  487  355  499 4000  296  515  943  903  335  191  594  267  617  516\n  504  331  652  410  550  473  442  344  208  273  485  826  192  405\n  941  477  644  303  417 6000    0]\n\ncontract_type - ['Under Contract' 'On Loan' 'Free Agent']\n\ncontract_start - ['2004' '2018' '2014' '2015' '2017' '2016' '2013' '2011' '2009' '2005'\n '2010' '2012' '2019' '2020' '2008' '2007' '2002' '2006' '2003' '1998']\n\ncontract_end - ['2021' '2022' '2023' '2024' '2025' '2026' 'Free' '2028' '2020' '2027']\n\nheight_cm - [170.   187.   188.   181.   175.   184.   191.   178.   193.   185.\n 199.   173.   168.   176.   177.   183.   180.   189.   179.   195.\n 172.   182.   186.   192.   165.   194.   167.   196.   163.   190.\n 174.   169.   171.   197.   200.   166.   187.96 164.   198.   190.5\n 195.58 180.34 193.04 185.42 182.88 177.8  175.26 167.64 170.18 162.56\n 201.   158.   162.   161.   160.   203.   157.   156.   202.   159.\n 206.   155.  ]\n\nweight_kg - [ 72.    83.    87.    70.    68.    80.    71.    91.    73.    85.\n  92.    69.    84.    96.    81.    82.    75.    86.    89.    74.\n  76.    64.    78.    90.    66.    60.    94.    79.    67.    65.\n  59.    61.    93.    88.    97.    77.    62.    63.    95.   100.\n  58.    83.01  81.19  78.02  88.9   79.83  83.91  77.11  92.08  76.2\n  73.03  66.22  58.97  86.18  78.93  67.13  74.84  72.12  87.09  82.1\n  63.05  69.85  71.21  73.94  98.   103.    99.   102.    56.   101.\n  57.    55.   104.   107.   110.    53.    50.    54.    52.  ]\n\nvalue_euro - [1.035e+08 6.300e+07 1.200e+08 1.290e+08 1.320e+08 1.110e+08 1.205e+08\n 1.020e+08 1.855e+08 1.100e+08 1.130e+08 9.050e+07 8.200e+07 1.750e+07\n 8.350e+07 3.350e+07 1.145e+08 7.800e+07 1.030e+08 1.090e+08 9.200e+07\n 1.000e+07 7.650e+07 8.950e+07 8.750e+07 7.950e+07 1.240e+08 1.140e+08\n 9.500e+07 9.250e+07 1.055e+08 8.850e+07 8.500e+07 8.150e+07 2.600e+07\n 2.100e+07 5.600e+07 6.750e+07 5.300e+07 3.650e+07 5.100e+07 6.550e+07\n 4.650e+07 6.150e+07 7.250e+07 7.750e+07 4.350e+07 3.250e+07 3.600e+07\n 3.200e+07 5.400e+07 4.950e+07 5.700e+07 6.650e+07 7.450e+07 7.150e+07\n 1.210e+08 9.900e+07 6.700e+07 8.650e+07 9.350e+07 7.000e+07 6.200e+07\n 6.600e+07 5.800e+07 4.400e+07 8.100e+07 3.700e+07 1.450e+07 4.600e+07\n 4.750e+07 5.250e+07 5.450e+07 3.450e+07 5.750e+07 5.150e+07 4.450e+07\n 5.500e+07 4.800e+07 6.050e+07 6.350e+07 6.100e+07 2.900e+07 5.850e+07\n 5.550e+07 4.200e+07 4.050e+07 4.300e+07 4.550e+07 3.400e+07 2.650e+07\n 4.250e+07 3.550e+07 4.500e+07 4.150e+07 4.000e+07 1.100e+07 1.350e+07\n 2.950e+07 2.700e+07 1.550e+07 3.850e+07 5.200e+07 3.300e+07 1.900e+07\n 7.350e+07 3.800e+07 3.500e+07 4.700e+07 2.400e+07 3.050e+07 1.800e+07\n 2.800e+07 2.550e+07 2.500e+07 3.100e+07 2.350e+07 3.000e+07 3.150e+07\n 2.250e+07 2.850e+07 4.000e+06 1.250e+07 3.750e+07 2.750e+07 1.600e+07\n 1.500e+07 2.050e+07 2.200e+07 3.400e+06 5.000e+06 5.650e+07 6.250e+07\n 0.000e+00 3.900e+07 2.450e+07 2.150e+07 1.300e+07 8.000e+06 2.000e+07\n 8.500e+06 2.900e+06 9.000e+06 4.600e+06 5.000e+07 2.300e+07 1.850e+07\n 7.000e+06 1.950e+07 5.500e+06 7.500e+06 3.800e+06 1.400e+07 1.050e+07\n 1.650e+07 3.600e+06 9.500e+06 3.950e+07 1.700e+07 1.200e+07 1.150e+07\n 4.900e+06 3.000e+06 1.900e+06 6.500e+06 1.700e+06 2.400e+06 3.100e+06\n 6.000e+06 3.700e+06 4.700e+06 4.300e+06 2.100e+06 1.200e+06 1.800e+06\n 4.800e+06 3.200e+06 1.300e+06 8.250e+05 2.300e+06 1.500e+06 3.900e+06\n 2.600e+06 3.500e+06 2.800e+06 2.700e+06 4.400e+06 4.100e+06 9.500e+05\n 1.600e+06 6.250e+05 1.100e+06 4.500e+06 4.200e+06 2.200e+06 3.300e+06\n 1.400e+06 2.000e+06 4.750e+05 9.250e+05 7.500e+05 7.250e+05 2.500e+06\n 1.000e+06 3.500e+05 5.250e+05 6.000e+05 8.500e+05 8.000e+05 5.500e+05\n 2.500e+05 4.000e+05 4.250e+05 5.750e+05 2.100e+05 3.250e+05 9.000e+05\n 8.750e+05 6.500e+05 7.000e+05 5.000e+05 9.750e+05 3.750e+05 7.750e+05\n 2.750e+05 1.800e+05 4.500e+05 6.750e+05 1.500e+05 2.400e+05 3.000e+05\n 1.300e+05 2.200e+05 2.000e+05 1.100e+05 1.700e+05 2.300e+05 9.000e+04\n 1.200e+05 8.000e+04 1.900e+05 1.400e+05 1.600e+05 1.000e+05 6.000e+04\n 5.000e+04 7.000e+04 4.500e+04 3.500e+04 4.000e+04 2.500e+04 2.000e+04\n 1.500e+04 3.000e+04 9.000e+03]\n\nrelease_clause_euro - [1.384e+08 7.590e+07 1.594e+08 ... 5.900e+04 3.500e+04 6.400e+04]\n\nwage_euro - [5.60e+05 2.20e+05 1.25e+05 3.70e+05 2.70e+05 2.40e+05 2.50e+05 1.60e+05\n 2.60e+05 2.10e+05 3.10e+05 1.30e+05 3.50e+05 3.00e+05 1.90e+05 1.45e+05\n 1.95e+05 1.00e+05 1.40e+05 2.90e+05 8.20e+04 1.10e+05 2.30e+05 1.55e+05\n 2.00e+05 1.65e+05 9.50e+04 1.70e+05 1.05e+05 1.15e+05 1.50e+05 1.35e+05\n 5.50e+04 5.80e+04 8.10e+04 3.40e+04 1.20e+05 5.90e+04 9.00e+04 6.50e+04\n 5.60e+04 7.10e+04 1.80e+04 7.50e+04 4.70e+04 2.00e+04 8.40e+04 8.60e+04\n 7.40e+04 7.80e+04 2.70e+04 6.80e+04 8.50e+04 2.50e+04 4.60e+04 8.30e+04\n 5.40e+04 7.90e+04 1.75e+05 4.30e+04 4.90e+04 4.50e+04 3.80e+04 4.10e+04\n 3.90e+04 2.30e+04 5.10e+04 5.00e+04 8.70e+04 3.00e+04 1.40e+04 6.90e+04\n 3.10e+04 6.40e+04 5.30e+04 3.50e+04 2.10e+04 2.80e+04 1.70e+04 3.30e+04\n 7.00e+04 3.20e+04 8.90e+04 2.60e+04 4.00e+04 7.60e+04 7.20e+04 4.80e+04\n 3.60e+04 2.90e+04 6.00e+04 1.60e+04 3.70e+04 2.40e+04 5.20e+04 0.00e+00\n 6.20e+04 7.30e+04 6.30e+04 1.90e+04 1.00e+03 6.60e+04 8.00e+04 1.20e+04\n 2.00e+03 4.20e+04 1.30e+04 9.00e+02 5.70e+04 7.70e+04 6.10e+04 2.20e+04\n 6.70e+04 4.40e+04 1.50e+04 1.10e+04 8.00e+03 8.50e+02 1.00e+04 8.80e+04\n 5.00e+02 7.00e+03 6.00e+03 9.00e+03 5.00e+03 7.00e+02 9.50e+02 7.50e+02\n 3.00e+03 6.50e+02 6.00e+02 4.00e+03 8.00e+02 5.50e+02]\n\nattacking_percentage - [85.8 87.4 19.  81.4 81.6 84.6 78.4 22.8 23.6 63.2 82.  69.8 17.2 23.8\n 85.2 74.8 82.2 72.  65.6 76.6 81.  24.6 84.  44.8 77.6 79.4 85.  74.6\n 73.  74.2 62.2 79.2 69.  79.8 80.  15.6 56.  66.  80.6 75.8 76.  18.8\n 78.8 83.8 67.8 58.6 68.8 78.  16.8 71.8 74.4 75.4 69.2 77.8 77.2 61.6\n 55.4 76.4 73.6 80.4 58.4 59.6 73.2 70.4 72.6 64.4 72.2 18.2 72.8 68.2\n 77.  71.  61.  64.2 52.4 18.6 75.  77.4 71.2 50.6 57.  78.2 70.6 73.4\n 18.  59.  75.6 51.2 67.6 66.2 13.8 21.  17.  71.6 68.6 63.8 54.2 22.6\n 70.  81.2 68.  78.6 49.4 66.8 70.2 68.4 60.4 65.8 70.8 19.6 60.2 23.\n 76.8 41.6 14.4 75.2 18.4 51.6 72.4 14.8 83.4 19.8 52.6 17.6 55.8 20.2\n 79.  20.  16.2 17.4 11.  62.  16.4 23.4 81.8 63.6 64.6 49.6 63.  76.2\n 69.6 65.4 61.8 26.  56.6 67.2 73.8 21.2 50.4 64.  58.  74.  25.2 50.2\n 21.6 67.  59.4 56.8 16.  15.  71.4 54.  19.4 61.2 67.4 14.6 57.2 65.\n 65.2 64.8 66.6 20.6 51.8 54.6 62.6 59.2 12.2 62.4 69.4 80.2 60.8 55.6\n 16.6  8.6 62.8 58.2 52.8 54.4 63.4 46.2 50.  53.6 10.8 52.2 51.  14.\n 56.2 53.  59.8 57.4 13.6 58.8 15.4 43.8 60.  53.8 66.4 57.8 57.6 21.4\n 56.4 24.4 48.8 17.8 22.4 54.8 55.2 61.4 45.8 19.2 21.8 15.2 25.  20.4\n 47.8 45.4 48.2 51.4 50.8 45.6 46.6 24.8 43.  49.2 22.  49.  42.8 48.4\n 53.2 20.8 13.2 60.6 52.  12.6 46.  55.  10.  47.6 49.8 22.2 13.4 48.\n 44.2 47.4 11.2 47.  46.8 48.6 53.4 46.4 40.6 44.6 12.8 42.6 44.4 45.2\n 45.  42.2 41.4 10.4 34.6 11.4 43.4 47.2 14.2 40.8 43.2 39.8 11.8 37.8\n 12.  38.8 23.2 41.  40.2 38.6 13.  38.4 41.8 43.6 25.6 42.  15.8  9.\n 41.2 32.4 44.   9.8 39.4 40.4 42.4 11.6 38.  36.2 10.2 12.4 40.  39.6\n 39.  38.2 26.2 37.   8.4 36.  36.4 39.2 37.6 33.8 37.4 35.6 10.6 36.6\n 36.8 37.2 33.  34.4  9.4 34.2 35.2 31.8  9.2 35.8 35.  33.4 34.8 32.2\n 34.  35.4 32.8 26.8 33.6 32.6 33.2 31.6 30.  28.6  9.6 30.4 32.  29.6\n 30.2 31.4 30.8 28.2 29.2 29.4 29.8 31.2 30.6 27.6 29.  28.4 27.8 31.\n 28.8 27.2 27.4]\n\nskill_percentage - [94.  82.8 21.8 88.2 89.6 81.4 81.2 27.6 78.8 28.8 72.6 78.2 73.8 22.\n 32.  80.8 76.2 79.4 77.4 67.2 80.  87.2 31.4 79.  20.  52.4 85.4 86.4\n 85.8 76.  85.2 82.2 71.6 70.2 86.6 73.  80.6 19.6 55.2 77.2 76.6 19.8\n 82.6 23.  68.2 75.  28.6 71.8 61.8 87.  66.  65.  71.  19.2 84.  82.4\n 77.6 63.8 53.8 79.8 21.2 80.4 85.  59.4 62.4 83.6 74.4 70.4 87.8 81.8\n 69.8 23.2 74.2 85.6 20.8 69.  86.  59.  81.  88.  84.4 50.4 80.2 83.4\n 79.2 46.6 75.4 50.2 76.4 73.6 16.8 71.2 68.4 82.  54.2 70.  16.6 25.2\n 20.6 74.  72.4 68.6 65.6 68.8 83.  75.6 55.  83.2 23.8 25.4 74.6 76.8\n 15.4 78.6 69.6 63.4 81.6 75.2 60.  44.  17.8 21.4 66.8 14.4 78.  83.8\n 61.  57.8 79.6 56.2 70.8 20.4 67.8 77.  27.8 58.4 19.4 84.2 18.2 21.\n 14.6 67.  20.2 68.  67.4 61.2 22.6 24.4 24.6 60.4 72.8 50.  69.4 66.6\n 64.6 77.8 72.2 64.4 17.2 73.4 51.6 78.4 18.4 18.  62.  66.2 67.6 24.2\n 52.  16.4 49.  64.8 69.2 75.8 59.8 56.8 64.  56.6 21.6 55.6 57.2 59.2\n 63.  54.8 17.6 22.8 52.8 57.6 18.8 65.2 73.2 23.4 72.  84.8 18.6 63.6\n 24.8 25.  65.4 49.8 15.  66.4 60.6 74.8 47.8 54.4 71.4 70.6 53.2 64.2\n 55.4 53.6 62.8 58.8 48.  19.  45.4 22.4 23.6 52.6 56.  28.  56.4 16.2\n 65.8 40.2 17.4 44.2 51.4 57.  63.2 57.4 61.4 54.  51.2 62.6 62.2 45.6\n 49.4 50.8 26.  16.  17.  46.4 58.6 59.6 60.2 42.6 33.6 58.2 43.2 58.\n 61.6 52.2 34.2 53.4 48.4 43.8 49.6 47.4 48.6 55.8 49.2 54.6 15.6 51.\n 50.6 46.  14.8 42.  47.  46.2 41.6 51.8 60.8 48.2 39.8 44.8 41.2 12.2\n 25.8 44.4 44.6 28.2 29.8 26.2 45.  14.2 37.8 53.  45.2 14.  35.8 38.4\n 26.8 41.8 34.6 46.8 15.2 47.2 42.4 13.8 43.6 24.  35.4 47.6 40.8 45.8\n 43.  33.  42.2 39.  12.8 40.4 38.8 38.  38.6 40.6 13.4 42.8 15.8 41.\n 48.8 39.2 22.2 37.4 13.  40.  12.6 39.6 43.4 27.  13.6 36.8 33.4 29.6\n 41.4 28.4 37.  26.6 38.2 36.2 39.4  8.6 13.2 35.  36.4 10.2 36.  33.8\n 37.2 27.4 37.6 35.2 26.4 12.  35.6 29.4 32.6 36.6 32.4 30.4 34.  34.4\n 34.8 31.8 32.2 30.8 30.6 25.6 12.4 33.2 10.6 31.  11.2 30.2 32.8 31.6\n  9.2 30.  11.8 11.  11.6 31.2 29.2 10.4 27.2 10.8  9.4  9.6 29.   8.\n 11.4]\n\nmovement_percentage - [90.2 86.2 61.4 79.6 90.6 81.4 92.  53.6 91.6 50.8 70.8 68.6 56.8 57.2\n 77.6 75.6 84.8 92.8 84.  79.8 87.4 64.4 73.4 54.4 65.6 89.6 66.4 85.\n 87.  78.2 86.8 80.  66.2 69.8 85.8 83.2 62.4 65.2 83.6 83.8 83.4 77.2\n 64.2 81.8 74.8 60.8 80.6 70.2 80.2 73.  82.8 58.4 64.6 59.8 86.6 70.\n 69.6 82.6 64.  56.2 85.4 70.6 72.8 82.  85.6 63.2 76.2 88.4 75.  57.6\n 79.  77.  50.2 63.8 88.8 76.6 59.6 82.2 82.4 83.  78.6 79.4 88.6 84.6\n 77.4 84.4 65.4 78.  72.4 70.4 81.2 55.4 72.2 84.2 79.2 76.8 90.  67.6\n 72.6 71.8 57.4 59.4 86.  76.4 75.4 76.  87.6 89.8 51.4 74.2 67.8 68.2\n 80.8 69.  78.8 59.  49.2 53.  51.6 73.2 58.8 62.8 53.2 81.  43.6 67.4\n 53.4 44.  75.2 61.8 56.6 85.2 69.4 48.8 48.  58.2 68.  50.  61.  58.\n 63.4 66.8 71.  66.6 77.8 66.  63.6 88.2 80.4 68.8 67.  43.8 52.8 81.6\n 54.8 74.6 75.8 51.2 45.8 78.4 74.4 72.  52.4 69.2 55.6 49.6 73.6 55.8\n 53.8 67.2 68.4 47.2 74.  48.6 63.  49.8 45.4 65.8 47.8 73.8 44.6 56.4\n 71.6 54.2 62.6 54.  71.2 52.6 36.8 62.2 87.2 86.4 44.2 60.2 38.  51.8\n 61.6 47.  52.  43.4 55.  57.  42.  46.8 55.2 62.  89.4 36.  89.2 60.\n 60.6 41.8 49.4 50.4 46.2 71.4 45.2 47.6 56.  88.  47.4 49.  59.2 65.\n 54.6 61.2 39.2 48.4 39.8 35.6 44.4 89.  64.8 58.6 60.4 57.8 42.8 38.4\n 41.2 45.  39.4 48.2 46.  37.6 40.4 41.6 40.6 43.2 42.6 44.8 87.8 42.4\n 46.4 50.6 45.6 37.8 40.8 41.  41.4 39.6 33.6 51.  43.  38.8 38.2 37.\n 29.  52.2 31.2 40.2 38.6 36.2 46.6 39.  36.6 30.4 42.2 32.  34.6 34.\n 35.2 29.4 28.6 31.8 37.4 33.8 40.  33.  32.6 35.4 35.8 33.4 27.8 32.4\n 35.  31.  33.2 34.4 34.8 30.8 32.8 36.4 30.  37.2 29.2 27.6 31.4 27.4\n 27.  34.2 31.6 32.2 29.8 24.8 28.8 30.2 29.6 28.2 26.8 30.6 25.2 28.4\n 25.  26.4 25.4 28.  26.6 26.  26.2 27.2 24.4]\n\npower_percentage - [77.8 88.8 53.6 81.6 71.4 84.  78.6 48.  80.8 80.4 81.2 87.4 49.8 56.8\n 80.  80.6 71.6 76.2 76.4 54.6 84.8 52.8 63.2 72.2 71.  65.6 74.  70.\n 73.  69.6 82.2 79.  77.  51.4 67.4 50.  75.8 74.2 81.8 44.6 79.6 77.6\n 48.2 69.4 61.6 85.2 75.6 68.6 68.2 52.4 65.  69.  71.8 79.8 84.2 79.2\n 63.  50.6 73.6 67.2 68.  73.2 77.4 73.8 75.  52.  65.2 69.2 74.6 82.4\n 72.8 55.8 75.2 74.4 83.  71.2 66.6 67.6 68.4 82.  81.4 86.  78.8 70.8\n 66.2 47.8 46.8 78.4 54.  84.4 74.8 72.  78.2 60.  67.  48.4 65.4 43.\n 79.4 64.2 78.  67.8 76.6 53.  57.6 44.8 70.2 50.4 85.8 83.2 76.  82.6\n 75.4 81.  69.8 46.4 77.2 72.4 38.4 64.  50.2 65.8 54.2 47.4 85.4 51.8\n 51.  53.2 45.4 70.6 51.6 48.6 52.6 58.2 60.4 61.2 66.4 72.6 51.2 49.4\n 60.2 57.4 64.4 83.8 62.4 49.  59.4 80.2 68.8 47.  57.8 46.6 63.4 66.8\n 43.2 73.4 70.4 63.6 45.2 64.8 43.8 63.8 58.4 48.8 84.6 64.6 60.8 41.6\n 62.8 62.6 38.6 59.8 60.6 62.2 45.8 42.2 45.  61.8 66.  47.6 61.  44.\n 59.2 42.4 46.2 56.6 41.4 39.6 56.2 76.8 61.4 54.4 59.6 49.6 62.  53.4\n 42.8 56.4 54.8 56.  46.  45.6 44.2 55.4 55.2 57.  58.  53.8 49.2 58.8\n 58.6 39.  47.2 59.  43.4 37.8 55.  40.2 55.6 38.8 41.2 43.6 35.2 41.\n 37.  39.2 44.4 40.8 37.6 39.4 41.8 57.2 33.6 50.8 40.  36.6 35.8 31.8\n 36.  37.4 32.8 35.6 38.  42.6 40.4 37.2 38.2 52.2 42.  40.6 34.6 39.8\n 33.8 30.4 36.2 35.  36.8 36.4 34.  32.  32.4 33.4 35.4 27.8 32.2 34.4\n 33.  34.2 25.6 34.8 31.6 30.6 33.2 31.  32.6 30.2 24.4 28.4 28.6 31.2\n 29.8 28.8 31.4 29.4 30.8 30.  26.8 28. ]\n\nmentality_percentage - [57.83 58.83 23.33 68.   59.33 65.17 62.67 56.83 28.5  59.67 66.   20.33\n 31.33 60.5  69.   55.33 64.33 63.17 58.   28.67 63.67 20.5  49.   63.\n 52.17 61.83 55.17 68.67 57.5  62.83 26.83 51.   64.5  56.5  22.5  60.\n 23.   61.5  59.83 28.33 60.17 53.5  66.17 65.67 64.17 61.   27.   56.17\n 60.33 57.33 53.17 52.5  24.   56.   56.67 62.17 66.33 54.   50.   56.33\n 64.   23.17 60.67 62.   22.33 59.   57.   51.33 53.67 63.83 43.83 24.83\n 50.67 61.17 59.5  65.   48.5  46.5  51.67 64.67 62.5  58.17 58.5  60.83\n 22.17 55.67 50.5  63.33 25.5  65.33 28.17 53.   58.33 58.67 66.83 50.33\n 54.17 57.67 22.   66.5  46.83 55.83 67.17 51.17 61.33 23.5  21.   54.67\n 40.83 21.83 53.33 21.17 70.17 66.67 22.83 62.33 50.83 15.33 52.67 51.83\n 20.   64.83 24.17 59.17 24.67 57.17 23.67 21.67 20.17 26.17 54.83 53.83\n 19.17 25.   49.67 25.67 52.83 49.17 16.67 50.17 54.33 54.5  32.83 45.5\n 47.83 61.67 48.33 17.17 65.5  52.   49.5  14.83 45.17 49.83 20.67 55.5\n 43.   51.5  26.33 45.33 19.67 52.33 55.   48.67 67.33 16.83 46.67 46.17\n 49.33 41.33 47.5  46.33 18.17 15.5  24.33 47.67 47.33 48.   17.5  25.33\n 18.5  26.67 19.83 26.   15.83 16.5  39.67 17.33 44.33 46.   45.83 44.17\n 17.67 42.33 48.83 47.   28.   43.33 22.67 17.   44.5  18.83 48.17 16.\n 45.   29.33 27.33 21.33 44.67 47.17 40.67 30.33 40.5  40.   19.33 44.\n 18.67 45.67 43.5  19.   44.83 18.33 42.83 29.83 25.83 42.   43.67 25.17\n 41.17 18.   42.67 19.5  41.5  42.17 38.5  26.5  27.17 14.   41.83 16.17\n 15.17 12.5  24.5  21.5  38.33 40.33 41.67 43.17 20.83 63.5  12.83 29.17\n 13.67 14.67 15.   27.5  13.83 32.5  14.5  41.   42.5  14.17 15.67 37.67\n 36.   39.33 36.67 17.83 40.17 38.   33.   39.83 37.5  30.17 38.83 36.5\n 27.67 30.5  16.33 39.5  39.17 14.33 38.17 36.17 23.83 38.67 34.83 39.\n 37.33 34.33 37.83 37.   13.33 13.   31.   36.83 28.83 35.67 31.17 13.17\n 11.33 27.83 13.5  36.33 35.33 33.17 35.   12.33 37.17 34.67 35.5  33.5\n 12.   35.83 33.67 34.17 33.83 34.   31.67 12.67 35.17 34.5  32.   11.67\n 32.33 32.67 31.5  11.   32.17 33.33 11.17 31.83 30.67 11.83 10.67 10.83\n 11.5  29.5  10.5  12.17  8.5   9.67 30.   30.83 29.   10.    9.17 29.67\n 10.33  8.33  9.83]\n\ndefending_percentage - [30.33 28.   19.   62.   31.33 32.   40.67 16.67 33.33 16.   90.67 86.33\n 18.   12.67 29.67 87.67 27.67 49.   88.   81.67 40.   17.33 43.33 89.\n 68.33 54.   35.   80.33 49.33 82.67 88.67 64.67 86.   39.   55.33 18.67\n 83.   30.67 15.   71.33 46.67 33.   50.   19.67 83.67 87.33 81.   65.\n 53.33 13.33 38.   78.67 81.33 77.   26.67 41.   84.33 44.   34.33 85.67\n 87.   32.67 26.   69.67 76.33 76.67 20.   33.67 68.67 80.67 46.   20.33\n 85.33 57.   86.67 75.33 74.67 14.67 43.67 37.67 80.   25.67 77.33 75.\n 36.33 76.   82.33 31.   40.33 79.33 37.   42.67 62.67 57.67 83.33 85.\n 13.67 48.   79.67 72.33 35.33 55.   82.   78.33 42.   39.33 67.67 78.\n 45.   71.67 58.33 64.   36.   13.   11.   50.33 52.   58.   15.67 72.\n 79.   34.   75.67 53.67 77.67 22.33 71.   25.   70.67 12.   84.67 65.33\n 29.33 27.   44.67 17.67 51.67 74.33 14.33 41.67 15.33 17.   45.67 23.67\n 31.67 11.67 69.33 36.67 56.67 29.   35.67 18.33 68.   59.   23.   50.67\n 54.33 12.33 60.33 84.   53.   44.33 41.33 69.   27.33 32.33 21.67 14.\n 26.33 34.67 70.33 43.   16.33 52.33 51.   61.67 63.   48.67 28.67 37.33\n 24.33 42.33 10.33 73.33 54.67 63.67 73.   46.33 21.33 61.   22.   65.67\n 30.   72.67 11.33 24.   73.67 74.   47.33 21.   45.33 59.67 28.33 56.33\n 60.   24.67 70.   20.67 62.33 48.33 66.   61.33 66.33 10.67 10.   19.33\n 57.33 59.33 38.67 58.67 23.33 67.33 47.   38.33 64.33 49.67  9.67 67.\n 55.67 56.   60.67 39.67 63.33 66.67 25.33 47.67 52.67 51.33 22.67  9.33\n  9.    8.33  8.    8.67  7.67  6.67  7.  ]\n\ngoalkeeping_percentage - [10.8 11.6 87.4 11.2 11.8 10.2 12.4 87.8  8.4 13.4 84.  88.   8.2  9.2\n 12.6 12.   5.2 87.  84.8  8.6  9.  10.4 10.   9.4 10.6  8.8 83.6  3.\n  9.6 83.2 30.6 82.6 13.  12.8  4.  84.6  9.8 11.  13.2  8.  11.4 84.2\n  2.6  7.8 12.2 83.8  4.2 81.8  7.4 81.2 82.   7.2 81.6  6.8  5.8 81.\n 80.6 80.4 81.4  3.2 13.8 78.2 80.2 79.6 80.   4.4 13.6 79.2  7.6 15.6\n 14.6 79.8 78.  78.6 79.  79.4 16.  14.  77.8 78.8 77.6  5.4  6.  15.\n 14.2 77.2 14.8 75.6 77.  76.8 76.  78.4 76.2  2.  77.4 76.6 75.  76.4\n  3.8 75.8  4.8 73.8 71.2 73.6 74.6 74.  74.4 14.4 74.8 75.2 72.8  5.\n 73.4  3.4 75.4 74.2 73.  70.4 72.4 71.8 72.6 73.2 16.4  7.  72.2 71.6\n 15.2 58.8 16.6 71.4 72.  71.  70.8 15.4 45.8 70.  70.6 69.4 70.2  6.4\n 69.8 33.8 69.2 69.6 68.6 69.  67.8 68.4  6.6 68.2  5.6 23.8 67.4 67.6\n 68.  68.8 67.  19.6 64.8 49.6 66.8 59.6 67.2 65.6 66.2 64.2 66.4 16.2\n 15.8 66.6 55.6 65.8 52.2 65.   6.2 65.4 66.  64.4 61.  65.2 56.6 64.\n 64.6 63.6  3.6 63.8 63.2 63.4 54.4 63.  17.6 62.2 62.  62.8 62.6 61.4\n 62.4 61.8 61.6 60.2 60.8 58.4 60.6 61.2 59.2 57.8 60.  60.4 59.4 58.\n 59.8 58.6 59.  58.2 57.6 18.6 56.8 57.4 57.2 57.  54.6 56.4 55.8 56.2\n 56.  55.4 55.  55.2 54.8 54.  54.2 53.6 53.8 53.4 52.  53.  52.4 53.2\n 52.6 52.8 50.2 51.8 50.8 51.4 50.4 51.  51.2 51.6 49.4 50.  48.6 50.6\n 49.8 49.  47.2 49.2 46.8 48.2 46.2]\n\n",
          "output_type": "stream"
        }
      ]
    },
    {
      "cell_type": "markdown",
      "source": "## EXPORTING THE CLEANED DATASET TO CSV",
      "metadata": {}
    },
    {
      "cell_type": "code",
      "source": "file_path = \"data.csv\"\n# Saving DataFrame to CSV file\ndf.to_csv(file_path, index=False)\n\nprint(\"Data has been saved to data.csv\")\n",
      "metadata": {
        "trusted": true
      },
      "execution_count": 60,
      "outputs": [
        {
          "name": "stdout",
          "text": "Data has been saved to data.csv\n",
          "output_type": "stream"
        }
      ]
    },
    {
      "cell_type": "code",
      "source": "",
      "metadata": {},
      "execution_count": null,
      "outputs": []
    }
  ]
}